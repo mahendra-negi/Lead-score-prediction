{
 "cells": [
  {
   "cell_type": "markdown",
   "metadata": {},
   "source": [
    "## Problem Statement:\n",
    "\n",
    "An education company named X Education sells online courses to industry professionals. On any given day, many professionals who are interested in the courses land on their website and browse for courses. \n",
    "\n",
    "The company markets its courses on several websites and search engines like Google. Once these people land on the website, they might browse the courses or fill up a form for the course or watch some videos. When these people fill up a form providing their email address or phone number, they are classified to be a lead. Moreover, the company also gets leads through past referrals. Once these leads are acquired, employees from the sales team start making calls, writing emails, etc. Through this process, some of the leads get converted while most do not. The typical lead conversion rate at X education is around 30%. \n",
    "\n",
    "Now, although X Education gets a lot of leads, its lead conversion rate is very poor. To make this process more efficient, the company wishes to identify the most potential leads, also known as ‘Hot Leads’. If they successfully identify this set of leads, the lead conversion rate should go up as the sales team will now be focusing more on communicating with the potential leads rather than making calls to everyone.\n",
    "\n",
    "#### Objective of Data Analysis:\n",
    "\n",
    "Objective of Data Analysis is to identify the most promising leads (most likely to convert into paying customers) through building a model wherein a lead score to each of the leads are assigned such that the customers with higher lead score have a higher conversion chance and the customers with lower lead score have a lower conversion chance. The CEO, in particular, has given a ballpark of the target lead conversion rate to be around 80%"
   ]
  },
  {
   "cell_type": "markdown",
   "metadata": {},
   "source": [
    "### Approach for Data Analysis & Model Building:\n",
    "    * Reading & Understanding Data\n",
    "    * Data Cleaning & EDA\n",
    "    * Data Preparation\n",
    "    * Model Building\n",
    "    * Model Evaluation"
   ]
  },
  {
   "cell_type": "markdown",
   "metadata": {},
   "source": [
    "## Importing Python Libraries"
   ]
  },
  {
   "cell_type": "code",
   "execution_count": 1,
   "metadata": {},
   "outputs": [],
   "source": [
    "# Importing required python libraries \n",
    "import numpy as np\n",
    "import pandas as pd\n",
    "\n",
    "# for data visualizaiton:\n",
    "import matplotlib.pyplot as plt\n",
    "import seaborn as sns\n",
    "%matplotlib inline\n",
    "import warnings\n",
    "warnings.filterwarnings('ignore')"
   ]
  },
  {
   "cell_type": "markdown",
   "metadata": {},
   "source": [
    "## Reading and Understanding the Data"
   ]
  },
  {
   "cell_type": "code",
   "execution_count": 2,
   "metadata": {},
   "outputs": [],
   "source": [
    "# Read the csv file into python\n",
    "# Change the 'Leads.csv' file path below here\n",
    "\n",
    "Leads_df=pd.read_csv(r'C:\\Users\\Negi\\Desktop\\MSN study\\ML1\\Module 7 Lead Scoring Case study\\Working files\\Data files\\Leads.csv')"
   ]
  },
  {
   "cell_type": "code",
   "execution_count": 3,
   "metadata": {},
   "outputs": [
    {
     "data": {
      "text/html": [
       "<div>\n",
       "<style scoped>\n",
       "    .dataframe tbody tr th:only-of-type {\n",
       "        vertical-align: middle;\n",
       "    }\n",
       "\n",
       "    .dataframe tbody tr th {\n",
       "        vertical-align: top;\n",
       "    }\n",
       "\n",
       "    .dataframe thead th {\n",
       "        text-align: right;\n",
       "    }\n",
       "</style>\n",
       "<table border=\"1\" class=\"dataframe\">\n",
       "  <thead>\n",
       "    <tr style=\"text-align: right;\">\n",
       "      <th></th>\n",
       "      <th>Prospect ID</th>\n",
       "      <th>Lead Number</th>\n",
       "      <th>Lead Origin</th>\n",
       "      <th>Lead Source</th>\n",
       "      <th>Do Not Email</th>\n",
       "      <th>Do Not Call</th>\n",
       "      <th>Converted</th>\n",
       "      <th>TotalVisits</th>\n",
       "      <th>Total Time Spent on Website</th>\n",
       "      <th>Page Views Per Visit</th>\n",
       "      <th>...</th>\n",
       "      <th>Get updates on DM Content</th>\n",
       "      <th>Lead Profile</th>\n",
       "      <th>City</th>\n",
       "      <th>Asymmetrique Activity Index</th>\n",
       "      <th>Asymmetrique Profile Index</th>\n",
       "      <th>Asymmetrique Activity Score</th>\n",
       "      <th>Asymmetrique Profile Score</th>\n",
       "      <th>I agree to pay the amount through cheque</th>\n",
       "      <th>A free copy of Mastering The Interview</th>\n",
       "      <th>Last Notable Activity</th>\n",
       "    </tr>\n",
       "  </thead>\n",
       "  <tbody>\n",
       "    <tr>\n",
       "      <th>0</th>\n",
       "      <td>7927b2df-8bba-4d29-b9a2-b6e0beafe620</td>\n",
       "      <td>660737</td>\n",
       "      <td>API</td>\n",
       "      <td>Olark Chat</td>\n",
       "      <td>No</td>\n",
       "      <td>No</td>\n",
       "      <td>0</td>\n",
       "      <td>0.0</td>\n",
       "      <td>0</td>\n",
       "      <td>0.0</td>\n",
       "      <td>...</td>\n",
       "      <td>No</td>\n",
       "      <td>Select</td>\n",
       "      <td>Select</td>\n",
       "      <td>02.Medium</td>\n",
       "      <td>02.Medium</td>\n",
       "      <td>15.0</td>\n",
       "      <td>15.0</td>\n",
       "      <td>No</td>\n",
       "      <td>No</td>\n",
       "      <td>Modified</td>\n",
       "    </tr>\n",
       "    <tr>\n",
       "      <th>1</th>\n",
       "      <td>2a272436-5132-4136-86fa-dcc88c88f482</td>\n",
       "      <td>660728</td>\n",
       "      <td>API</td>\n",
       "      <td>Organic Search</td>\n",
       "      <td>No</td>\n",
       "      <td>No</td>\n",
       "      <td>0</td>\n",
       "      <td>5.0</td>\n",
       "      <td>674</td>\n",
       "      <td>2.5</td>\n",
       "      <td>...</td>\n",
       "      <td>No</td>\n",
       "      <td>Select</td>\n",
       "      <td>Select</td>\n",
       "      <td>02.Medium</td>\n",
       "      <td>02.Medium</td>\n",
       "      <td>15.0</td>\n",
       "      <td>15.0</td>\n",
       "      <td>No</td>\n",
       "      <td>No</td>\n",
       "      <td>Email Opened</td>\n",
       "    </tr>\n",
       "    <tr>\n",
       "      <th>2</th>\n",
       "      <td>8cc8c611-a219-4f35-ad23-fdfd2656bd8a</td>\n",
       "      <td>660727</td>\n",
       "      <td>Landing Page Submission</td>\n",
       "      <td>Direct Traffic</td>\n",
       "      <td>No</td>\n",
       "      <td>No</td>\n",
       "      <td>1</td>\n",
       "      <td>2.0</td>\n",
       "      <td>1532</td>\n",
       "      <td>2.0</td>\n",
       "      <td>...</td>\n",
       "      <td>No</td>\n",
       "      <td>Potential Lead</td>\n",
       "      <td>Mumbai</td>\n",
       "      <td>02.Medium</td>\n",
       "      <td>01.High</td>\n",
       "      <td>14.0</td>\n",
       "      <td>20.0</td>\n",
       "      <td>No</td>\n",
       "      <td>Yes</td>\n",
       "      <td>Email Opened</td>\n",
       "    </tr>\n",
       "    <tr>\n",
       "      <th>3</th>\n",
       "      <td>0cc2df48-7cf4-4e39-9de9-19797f9b38cc</td>\n",
       "      <td>660719</td>\n",
       "      <td>Landing Page Submission</td>\n",
       "      <td>Direct Traffic</td>\n",
       "      <td>No</td>\n",
       "      <td>No</td>\n",
       "      <td>0</td>\n",
       "      <td>1.0</td>\n",
       "      <td>305</td>\n",
       "      <td>1.0</td>\n",
       "      <td>...</td>\n",
       "      <td>No</td>\n",
       "      <td>Select</td>\n",
       "      <td>Mumbai</td>\n",
       "      <td>02.Medium</td>\n",
       "      <td>01.High</td>\n",
       "      <td>13.0</td>\n",
       "      <td>17.0</td>\n",
       "      <td>No</td>\n",
       "      <td>No</td>\n",
       "      <td>Modified</td>\n",
       "    </tr>\n",
       "    <tr>\n",
       "      <th>4</th>\n",
       "      <td>3256f628-e534-4826-9d63-4a8b88782852</td>\n",
       "      <td>660681</td>\n",
       "      <td>Landing Page Submission</td>\n",
       "      <td>Google</td>\n",
       "      <td>No</td>\n",
       "      <td>No</td>\n",
       "      <td>1</td>\n",
       "      <td>2.0</td>\n",
       "      <td>1428</td>\n",
       "      <td>1.0</td>\n",
       "      <td>...</td>\n",
       "      <td>No</td>\n",
       "      <td>Select</td>\n",
       "      <td>Mumbai</td>\n",
       "      <td>02.Medium</td>\n",
       "      <td>01.High</td>\n",
       "      <td>15.0</td>\n",
       "      <td>18.0</td>\n",
       "      <td>No</td>\n",
       "      <td>No</td>\n",
       "      <td>Modified</td>\n",
       "    </tr>\n",
       "  </tbody>\n",
       "</table>\n",
       "<p>5 rows × 37 columns</p>\n",
       "</div>"
      ],
      "text/plain": [
       "                            Prospect ID  Lead Number              Lead Origin  \\\n",
       "0  7927b2df-8bba-4d29-b9a2-b6e0beafe620       660737                      API   \n",
       "1  2a272436-5132-4136-86fa-dcc88c88f482       660728                      API   \n",
       "2  8cc8c611-a219-4f35-ad23-fdfd2656bd8a       660727  Landing Page Submission   \n",
       "3  0cc2df48-7cf4-4e39-9de9-19797f9b38cc       660719  Landing Page Submission   \n",
       "4  3256f628-e534-4826-9d63-4a8b88782852       660681  Landing Page Submission   \n",
       "\n",
       "      Lead Source Do Not Email Do Not Call  Converted  TotalVisits  \\\n",
       "0      Olark Chat           No          No          0          0.0   \n",
       "1  Organic Search           No          No          0          5.0   \n",
       "2  Direct Traffic           No          No          1          2.0   \n",
       "3  Direct Traffic           No          No          0          1.0   \n",
       "4          Google           No          No          1          2.0   \n",
       "\n",
       "   Total Time Spent on Website  Page Views Per Visit          ...           \\\n",
       "0                            0                   0.0          ...            \n",
       "1                          674                   2.5          ...            \n",
       "2                         1532                   2.0          ...            \n",
       "3                          305                   1.0          ...            \n",
       "4                         1428                   1.0          ...            \n",
       "\n",
       "  Get updates on DM Content    Lead Profile    City  \\\n",
       "0                        No          Select  Select   \n",
       "1                        No          Select  Select   \n",
       "2                        No  Potential Lead  Mumbai   \n",
       "3                        No          Select  Mumbai   \n",
       "4                        No          Select  Mumbai   \n",
       "\n",
       "  Asymmetrique Activity Index Asymmetrique Profile Index  \\\n",
       "0                   02.Medium                  02.Medium   \n",
       "1                   02.Medium                  02.Medium   \n",
       "2                   02.Medium                    01.High   \n",
       "3                   02.Medium                    01.High   \n",
       "4                   02.Medium                    01.High   \n",
       "\n",
       "  Asymmetrique Activity Score Asymmetrique Profile Score  \\\n",
       "0                        15.0                       15.0   \n",
       "1                        15.0                       15.0   \n",
       "2                        14.0                       20.0   \n",
       "3                        13.0                       17.0   \n",
       "4                        15.0                       18.0   \n",
       "\n",
       "  I agree to pay the amount through cheque  \\\n",
       "0                                       No   \n",
       "1                                       No   \n",
       "2                                       No   \n",
       "3                                       No   \n",
       "4                                       No   \n",
       "\n",
       "  A free copy of Mastering The Interview Last Notable Activity  \n",
       "0                                     No              Modified  \n",
       "1                                     No          Email Opened  \n",
       "2                                    Yes          Email Opened  \n",
       "3                                     No              Modified  \n",
       "4                                     No              Modified  \n",
       "\n",
       "[5 rows x 37 columns]"
      ]
     },
     "execution_count": 3,
     "metadata": {},
     "output_type": "execute_result"
    }
   ],
   "source": [
    "# Examine the dataframe\n",
    "Leads_df.head(5)"
   ]
  },
  {
   "cell_type": "code",
   "execution_count": 4,
   "metadata": {},
   "outputs": [
    {
     "data": {
      "text/plain": [
       "(9240, 37)"
      ]
     },
     "execution_count": 4,
     "metadata": {},
     "output_type": "execute_result"
    }
   ],
   "source": [
    "# Examine the dataframe\n",
    "Leads_df.shape"
   ]
  },
  {
   "cell_type": "code",
   "execution_count": 5,
   "metadata": {},
   "outputs": [
    {
     "data": {
      "text/plain": [
       "Index(['Prospect ID', 'Lead Number', 'Lead Origin', 'Lead Source',\n",
       "       'Do Not Email', 'Do Not Call', 'Converted', 'TotalVisits',\n",
       "       'Total Time Spent on Website', 'Page Views Per Visit', 'Last Activity',\n",
       "       'Country', 'Specialization', 'How did you hear about X Education',\n",
       "       'What is your current occupation',\n",
       "       'What matters most to you in choosing a course', 'Search', 'Magazine',\n",
       "       'Newspaper Article', 'X Education Forums', 'Newspaper',\n",
       "       'Digital Advertisement', 'Through Recommendations',\n",
       "       'Receive More Updates About Our Courses', 'Tags', 'Lead Quality',\n",
       "       'Update me on Supply Chain Content', 'Get updates on DM Content',\n",
       "       'Lead Profile', 'City', 'Asymmetrique Activity Index',\n",
       "       'Asymmetrique Profile Index', 'Asymmetrique Activity Score',\n",
       "       'Asymmetrique Profile Score',\n",
       "       'I agree to pay the amount through cheque',\n",
       "       'A free copy of Mastering The Interview', 'Last Notable Activity'],\n",
       "      dtype='object')"
      ]
     },
     "execution_count": 5,
     "metadata": {},
     "output_type": "execute_result"
    }
   ],
   "source": [
    "# Checking the dataframe column names\n",
    "Leads_df.columns"
   ]
  },
  {
   "cell_type": "markdown",
   "metadata": {},
   "source": [
    "#### Definition of Data Columns:\n",
    "* Prospect ID -  A unique ID with which the customer is identified.\n",
    "* Lead Number -  A lead number assigned to each lead procured.\n",
    "* Lead Origin -  The origin identifier with which the customer was identified to be a lead. Includes API, Landing Page Submission, etc.\n",
    "* Lead Source -  The source of the lead. Includes Google, Organic Search, Olark Chat, etc.\n",
    "* Do Not Email- An indicator variable selected by the customer wherein they select whether of not they want to be emailed about the course or not.\n",
    "* Do Not Call -\tAn indicator variable selected by the customer wherein they select whether of not they want to be called about the course or not.\n",
    "* Converted   -  The target variable. Indicates whether a lead has been successfully converted or not.\n",
    "* TotalVisits -\tThe total number of visits made by the customer on the website.\n",
    "* Total Time Spent on Website -\tThe total time spent by the customer on the website.\n",
    "* Page Views Per Visit -\tAverage number of pages on the website viewed during the visits.\n",
    "* Last Activity - Last activity performed by the customer. Includes Email Opened, Olark Chat Conversation, etc.\n",
    "* Country -\tThe country of the customer.\n",
    "* Specialization -\tThe industry domain in which the customer worked before. Includes the level 'Select Specialization' which means the customer had not selected this option while filling the form.\n",
    "* How did you hear about X Education -\tThe source from which the customer heard about X Education.\n",
    "* What is your current occupation -\tIndicates whether the customer is a student, umemployed or employed.\n",
    "* What matters most to you in choosing this course - An option selected by the customer indicating what is their main motto behind doing this course.\n",
    "* Search -\tIndicating whether the customer had seen the ad in Search.\n",
    "* Magazine - Indicating whether the customer had seen the ad in\tMagazine\n",
    "* Newspaper Article\t- Indicating whether the customer had seen the ad in Newspaper Article\n",
    "* X Education Forums - Indicating whether the customer had seen the ad in X Education Forums\n",
    "* Newspaper - Indicating whether the customer had seen the ad in Newspaper\n",
    "* Digital Advertisement - Indicating whether the customer had seen the ad in Digital Advertisement\n",
    "* Through Recommendations -\tIndicates whether the customer came in through recommendations.\n",
    "* Receive More Updates About Our Courses -\tIndicates whether the customer chose to receive more updates about the courses.\n",
    "* Tags -\tTags assigned to customers indicating the current status of the lead.\n",
    "* Lead Quality - Indicates the quality of lead based on the data and intuition the the employee who has been assigned to the lead.\n",
    "* Update me on Supply Chain Content -\tIndicates whether the customer wants updates on the Supply Chain Content.\n",
    "* Get updates on DM Content -\tIndicates whether the customer wants updates on the DM Content.\n",
    "* Lead Profile -\tA lead level assigned to each customer based on their profile.\n",
    "* City - The city of the customer.\n",
    "* Asymmetrique Activity Index -\tAn index assigned to each customer based on their activity\n",
    "* Asymmetrique Profile Index -\tAn index assigned to each customer based on their profile\n",
    "* Asymmetrique Activity Score -\tA score assigned to each customer based on their activity\n",
    "* Asymmetrique Profile Score -\tA score assigned to each customer based on their profile\n",
    "* I agree to pay the amount through cheque - Indicates whether the customer has agreed to pay the amount through cheque or not.\n",
    "* a free copy of Mastering The Interview - Indicates whether the customer wants a free copy of 'Mastering the Interview' or not.\n",
    "* Last Notable Activity -\tThe last notable acitivity performed by the student."
   ]
  },
  {
   "cell_type": "code",
   "execution_count": 6,
   "metadata": {},
   "outputs": [
    {
     "name": "stdout",
     "output_type": "stream",
     "text": [
      "<class 'pandas.core.frame.DataFrame'>\n",
      "RangeIndex: 9240 entries, 0 to 9239\n",
      "Data columns (total 37 columns):\n",
      "Prospect ID                                      9240 non-null object\n",
      "Lead Number                                      9240 non-null int64\n",
      "Lead Origin                                      9240 non-null object\n",
      "Lead Source                                      9204 non-null object\n",
      "Do Not Email                                     9240 non-null object\n",
      "Do Not Call                                      9240 non-null object\n",
      "Converted                                        9240 non-null int64\n",
      "TotalVisits                                      9103 non-null float64\n",
      "Total Time Spent on Website                      9240 non-null int64\n",
      "Page Views Per Visit                             9103 non-null float64\n",
      "Last Activity                                    9137 non-null object\n",
      "Country                                          6779 non-null object\n",
      "Specialization                                   7802 non-null object\n",
      "How did you hear about X Education               7033 non-null object\n",
      "What is your current occupation                  6550 non-null object\n",
      "What matters most to you in choosing a course    6531 non-null object\n",
      "Search                                           9240 non-null object\n",
      "Magazine                                         9240 non-null object\n",
      "Newspaper Article                                9240 non-null object\n",
      "X Education Forums                               9240 non-null object\n",
      "Newspaper                                        9240 non-null object\n",
      "Digital Advertisement                            9240 non-null object\n",
      "Through Recommendations                          9240 non-null object\n",
      "Receive More Updates About Our Courses           9240 non-null object\n",
      "Tags                                             5887 non-null object\n",
      "Lead Quality                                     4473 non-null object\n",
      "Update me on Supply Chain Content                9240 non-null object\n",
      "Get updates on DM Content                        9240 non-null object\n",
      "Lead Profile                                     6531 non-null object\n",
      "City                                             7820 non-null object\n",
      "Asymmetrique Activity Index                      5022 non-null object\n",
      "Asymmetrique Profile Index                       5022 non-null object\n",
      "Asymmetrique Activity Score                      5022 non-null float64\n",
      "Asymmetrique Profile Score                       5022 non-null float64\n",
      "I agree to pay the amount through cheque         9240 non-null object\n",
      "A free copy of Mastering The Interview           9240 non-null object\n",
      "Last Notable Activity                            9240 non-null object\n",
      "dtypes: float64(4), int64(3), object(30)\n",
      "memory usage: 2.6+ MB\n"
     ]
    }
   ],
   "source": [
    "# Examine the summary of dataframe\n",
    "Leads_df.info()"
   ]
  },
  {
   "cell_type": "markdown",
   "metadata": {},
   "source": [
    "## Data Cleaning & EDA"
   ]
  },
  {
   "cell_type": "markdown",
   "metadata": {},
   "source": [
    "Looking at the datas we can see that there are some 'select' values in mentioned in few datapoints. 'Select' is a default value when a customer doesn't fill the information. Therefore, all 'Select' values can be considered as null values.\n"
   ]
  },
  {
   "cell_type": "code",
   "execution_count": 7,
   "metadata": {},
   "outputs": [],
   "source": [
    "# Replacing all Select values with null values\n",
    "Leads_df=Leads_df.replace(to_replace ='Select', value =np.NaN)"
   ]
  },
  {
   "cell_type": "code",
   "execution_count": 8,
   "metadata": {
    "scrolled": false
   },
   "outputs": [
    {
     "data": {
      "text/html": [
       "<div>\n",
       "<style scoped>\n",
       "    .dataframe tbody tr th:only-of-type {\n",
       "        vertical-align: middle;\n",
       "    }\n",
       "\n",
       "    .dataframe tbody tr th {\n",
       "        vertical-align: top;\n",
       "    }\n",
       "\n",
       "    .dataframe thead th {\n",
       "        text-align: right;\n",
       "    }\n",
       "</style>\n",
       "<table border=\"1\" class=\"dataframe\">\n",
       "  <thead>\n",
       "    <tr style=\"text-align: right;\">\n",
       "      <th></th>\n",
       "      <th>Prospect ID</th>\n",
       "      <th>Lead Number</th>\n",
       "      <th>Lead Origin</th>\n",
       "      <th>Lead Source</th>\n",
       "      <th>Do Not Email</th>\n",
       "      <th>Do Not Call</th>\n",
       "      <th>Converted</th>\n",
       "      <th>TotalVisits</th>\n",
       "      <th>Total Time Spent on Website</th>\n",
       "      <th>Page Views Per Visit</th>\n",
       "      <th>...</th>\n",
       "      <th>Get updates on DM Content</th>\n",
       "      <th>Lead Profile</th>\n",
       "      <th>City</th>\n",
       "      <th>Asymmetrique Activity Index</th>\n",
       "      <th>Asymmetrique Profile Index</th>\n",
       "      <th>Asymmetrique Activity Score</th>\n",
       "      <th>Asymmetrique Profile Score</th>\n",
       "      <th>I agree to pay the amount through cheque</th>\n",
       "      <th>A free copy of Mastering The Interview</th>\n",
       "      <th>Last Notable Activity</th>\n",
       "    </tr>\n",
       "  </thead>\n",
       "  <tbody>\n",
       "    <tr>\n",
       "      <th>0</th>\n",
       "      <td>7927b2df-8bba-4d29-b9a2-b6e0beafe620</td>\n",
       "      <td>660737</td>\n",
       "      <td>API</td>\n",
       "      <td>Olark Chat</td>\n",
       "      <td>No</td>\n",
       "      <td>No</td>\n",
       "      <td>0</td>\n",
       "      <td>0.0</td>\n",
       "      <td>0</td>\n",
       "      <td>0.0</td>\n",
       "      <td>...</td>\n",
       "      <td>No</td>\n",
       "      <td>NaN</td>\n",
       "      <td>NaN</td>\n",
       "      <td>02.Medium</td>\n",
       "      <td>02.Medium</td>\n",
       "      <td>15.0</td>\n",
       "      <td>15.0</td>\n",
       "      <td>No</td>\n",
       "      <td>No</td>\n",
       "      <td>Modified</td>\n",
       "    </tr>\n",
       "    <tr>\n",
       "      <th>1</th>\n",
       "      <td>2a272436-5132-4136-86fa-dcc88c88f482</td>\n",
       "      <td>660728</td>\n",
       "      <td>API</td>\n",
       "      <td>Organic Search</td>\n",
       "      <td>No</td>\n",
       "      <td>No</td>\n",
       "      <td>0</td>\n",
       "      <td>5.0</td>\n",
       "      <td>674</td>\n",
       "      <td>2.5</td>\n",
       "      <td>...</td>\n",
       "      <td>No</td>\n",
       "      <td>NaN</td>\n",
       "      <td>NaN</td>\n",
       "      <td>02.Medium</td>\n",
       "      <td>02.Medium</td>\n",
       "      <td>15.0</td>\n",
       "      <td>15.0</td>\n",
       "      <td>No</td>\n",
       "      <td>No</td>\n",
       "      <td>Email Opened</td>\n",
       "    </tr>\n",
       "    <tr>\n",
       "      <th>2</th>\n",
       "      <td>8cc8c611-a219-4f35-ad23-fdfd2656bd8a</td>\n",
       "      <td>660727</td>\n",
       "      <td>Landing Page Submission</td>\n",
       "      <td>Direct Traffic</td>\n",
       "      <td>No</td>\n",
       "      <td>No</td>\n",
       "      <td>1</td>\n",
       "      <td>2.0</td>\n",
       "      <td>1532</td>\n",
       "      <td>2.0</td>\n",
       "      <td>...</td>\n",
       "      <td>No</td>\n",
       "      <td>Potential Lead</td>\n",
       "      <td>Mumbai</td>\n",
       "      <td>02.Medium</td>\n",
       "      <td>01.High</td>\n",
       "      <td>14.0</td>\n",
       "      <td>20.0</td>\n",
       "      <td>No</td>\n",
       "      <td>Yes</td>\n",
       "      <td>Email Opened</td>\n",
       "    </tr>\n",
       "    <tr>\n",
       "      <th>3</th>\n",
       "      <td>0cc2df48-7cf4-4e39-9de9-19797f9b38cc</td>\n",
       "      <td>660719</td>\n",
       "      <td>Landing Page Submission</td>\n",
       "      <td>Direct Traffic</td>\n",
       "      <td>No</td>\n",
       "      <td>No</td>\n",
       "      <td>0</td>\n",
       "      <td>1.0</td>\n",
       "      <td>305</td>\n",
       "      <td>1.0</td>\n",
       "      <td>...</td>\n",
       "      <td>No</td>\n",
       "      <td>NaN</td>\n",
       "      <td>Mumbai</td>\n",
       "      <td>02.Medium</td>\n",
       "      <td>01.High</td>\n",
       "      <td>13.0</td>\n",
       "      <td>17.0</td>\n",
       "      <td>No</td>\n",
       "      <td>No</td>\n",
       "      <td>Modified</td>\n",
       "    </tr>\n",
       "    <tr>\n",
       "      <th>4</th>\n",
       "      <td>3256f628-e534-4826-9d63-4a8b88782852</td>\n",
       "      <td>660681</td>\n",
       "      <td>Landing Page Submission</td>\n",
       "      <td>Google</td>\n",
       "      <td>No</td>\n",
       "      <td>No</td>\n",
       "      <td>1</td>\n",
       "      <td>2.0</td>\n",
       "      <td>1428</td>\n",
       "      <td>1.0</td>\n",
       "      <td>...</td>\n",
       "      <td>No</td>\n",
       "      <td>NaN</td>\n",
       "      <td>Mumbai</td>\n",
       "      <td>02.Medium</td>\n",
       "      <td>01.High</td>\n",
       "      <td>15.0</td>\n",
       "      <td>18.0</td>\n",
       "      <td>No</td>\n",
       "      <td>No</td>\n",
       "      <td>Modified</td>\n",
       "    </tr>\n",
       "  </tbody>\n",
       "</table>\n",
       "<p>5 rows × 37 columns</p>\n",
       "</div>"
      ],
      "text/plain": [
       "                            Prospect ID  Lead Number              Lead Origin  \\\n",
       "0  7927b2df-8bba-4d29-b9a2-b6e0beafe620       660737                      API   \n",
       "1  2a272436-5132-4136-86fa-dcc88c88f482       660728                      API   \n",
       "2  8cc8c611-a219-4f35-ad23-fdfd2656bd8a       660727  Landing Page Submission   \n",
       "3  0cc2df48-7cf4-4e39-9de9-19797f9b38cc       660719  Landing Page Submission   \n",
       "4  3256f628-e534-4826-9d63-4a8b88782852       660681  Landing Page Submission   \n",
       "\n",
       "      Lead Source Do Not Email Do Not Call  Converted  TotalVisits  \\\n",
       "0      Olark Chat           No          No          0          0.0   \n",
       "1  Organic Search           No          No          0          5.0   \n",
       "2  Direct Traffic           No          No          1          2.0   \n",
       "3  Direct Traffic           No          No          0          1.0   \n",
       "4          Google           No          No          1          2.0   \n",
       "\n",
       "   Total Time Spent on Website  Page Views Per Visit          ...           \\\n",
       "0                            0                   0.0          ...            \n",
       "1                          674                   2.5          ...            \n",
       "2                         1532                   2.0          ...            \n",
       "3                          305                   1.0          ...            \n",
       "4                         1428                   1.0          ...            \n",
       "\n",
       "  Get updates on DM Content    Lead Profile    City  \\\n",
       "0                        No             NaN     NaN   \n",
       "1                        No             NaN     NaN   \n",
       "2                        No  Potential Lead  Mumbai   \n",
       "3                        No             NaN  Mumbai   \n",
       "4                        No             NaN  Mumbai   \n",
       "\n",
       "  Asymmetrique Activity Index Asymmetrique Profile Index  \\\n",
       "0                   02.Medium                  02.Medium   \n",
       "1                   02.Medium                  02.Medium   \n",
       "2                   02.Medium                    01.High   \n",
       "3                   02.Medium                    01.High   \n",
       "4                   02.Medium                    01.High   \n",
       "\n",
       "  Asymmetrique Activity Score Asymmetrique Profile Score  \\\n",
       "0                        15.0                       15.0   \n",
       "1                        15.0                       15.0   \n",
       "2                        14.0                       20.0   \n",
       "3                        13.0                       17.0   \n",
       "4                        15.0                       18.0   \n",
       "\n",
       "  I agree to pay the amount through cheque  \\\n",
       "0                                       No   \n",
       "1                                       No   \n",
       "2                                       No   \n",
       "3                                       No   \n",
       "4                                       No   \n",
       "\n",
       "  A free copy of Mastering The Interview Last Notable Activity  \n",
       "0                                     No              Modified  \n",
       "1                                     No          Email Opened  \n",
       "2                                    Yes          Email Opened  \n",
       "3                                     No              Modified  \n",
       "4                                     No              Modified  \n",
       "\n",
       "[5 rows x 37 columns]"
      ]
     },
     "execution_count": 8,
     "metadata": {},
     "output_type": "execute_result"
    }
   ],
   "source": [
    "# Checking the updated dataframe\n",
    "Leads_df.head()"
   ]
  },
  {
   "cell_type": "code",
   "execution_count": 9,
   "metadata": {
    "scrolled": true
   },
   "outputs": [
    {
     "data": {
      "text/plain": [
       "How did you hear about X Education               78.46\n",
       "Lead Profile                                     74.19\n",
       "Lead Quality                                     51.59\n",
       "Asymmetrique Profile Score                       45.65\n",
       "Asymmetrique Profile Index                       45.65\n",
       "Asymmetrique Activity Index                      45.65\n",
       "Asymmetrique Activity Score                      45.65\n",
       "City                                             39.71\n",
       "Specialization                                   36.58\n",
       "Tags                                             36.29\n",
       "What matters most to you in choosing a course    29.32\n",
       "What is your current occupation                  29.11\n",
       "Country                                          26.63\n",
       "Page Views Per Visit                              1.48\n",
       "TotalVisits                                       1.48\n",
       "Last Activity                                     1.11\n",
       "Lead Source                                       0.39\n",
       "dtype: float64"
      ]
     },
     "execution_count": 9,
     "metadata": {},
     "output_type": "execute_result"
    }
   ],
   "source": [
    "#checking the columns having missing values\n",
    "miscount=round(100*(Leads_df.isnull().sum(axis=0)/len(Leads_df.index)),2)\n",
    "miscount=miscount[miscount>0]\n",
    "miscount.sort_values(ascending=False)"
   ]
  },
  {
   "cell_type": "markdown",
   "metadata": {},
   "source": [
    "* Above columns have missing values in the dataset.\n",
    "\n",
    "And out of above columns, following columns can be dropped as the missing values are high and also looking at definition given in the data dictionary, these columns seems not much significant for data analysis.\n",
    "* How did you hear about X Education\n",
    "* Lead Profile\n",
    "* Lead Quality\n",
    "* Asymmetrique Profile Score\n",
    "* Asymmetrique Profile Index\n",
    "* Asymmetrique Activity Index\n",
    "* Asymmetrique Activity Score\n",
    "* City\n",
    "* Tags\n",
    "* What matters most to you in choosing a course\n",
    "\n",
    "So it better to drop these above columns for Analysis.\n",
    "\n",
    "'Prospect ID', 'Lead Number' are just identification nos. These shall also so be dropped for analysis"
   ]
  },
  {
   "cell_type": "code",
   "execution_count": 10,
   "metadata": {},
   "outputs": [],
   "source": [
    "# Dropping the above mentioned columns\n",
    "Leads_df=Leads_df.drop(['How did you hear about X Education','Lead Profile','Lead Quality','Asymmetrique Profile Score',\n",
    "                          'Asymmetrique Profile Index','Asymmetrique Activity Index','Asymmetrique Activity Score',\n",
    "                         'City','Tags','What matters most to you in choosing a course','Prospect ID','Lead Number'],axis=1)"
   ]
  },
  {
   "cell_type": "code",
   "execution_count": 11,
   "metadata": {},
   "outputs": [
    {
     "data": {
      "text/plain": [
       "(9240, 25)"
      ]
     },
     "execution_count": 11,
     "metadata": {},
     "output_type": "execute_result"
    }
   ],
   "source": [
    "Leads_df.shape"
   ]
  },
  {
   "cell_type": "markdown",
   "metadata": {},
   "source": [
    "There are 25 no. of variable remaining now."
   ]
  },
  {
   "cell_type": "markdown",
   "metadata": {},
   "source": [
    "Following data columns has very few missing values. These can be imputed with 'Mode' of the respective columns. However,we will drop the rows where these values are not available as the data loss is very less.\n",
    "\n",
    "Missing % of below columns:\n",
    "* Page Views Per Visit                              1.48%\n",
    "* TotalVisits                                       1.48%\n",
    "* Last Activity                                     1.11%\n",
    "* Lead Source                                       0.39%"
   ]
  },
  {
   "cell_type": "code",
   "execution_count": 12,
   "metadata": {},
   "outputs": [],
   "source": [
    "# Removing rows which has null values in columns 'Page Views Per Visit','TotalVisits', 'Last Activity', 'Lead Source':\n",
    "\n",
    "Leads_df=Leads_df.dropna(subset=['Page Views Per Visit', 'TotalVisits', 'Last Activity', 'Lead Source'])"
   ]
  },
  {
   "cell_type": "code",
   "execution_count": 13,
   "metadata": {
    "scrolled": true
   },
   "outputs": [
    {
     "data": {
      "text/plain": [
       "(9074, 25)"
      ]
     },
     "execution_count": 13,
     "metadata": {},
     "output_type": "execute_result"
    }
   ],
   "source": [
    "Leads_df.shape"
   ]
  },
  {
   "cell_type": "markdown",
   "metadata": {},
   "source": [
    "It means that (9240-9074)/9240 = 0.017965 i.e 1.7% data is lost here when we dropped rows having null values in columns 'Page Views Per Visit','TotalVisits', 'Last Activity', 'Lead Source'"
   ]
  },
  {
   "cell_type": "markdown",
   "metadata": {},
   "source": [
    "Following columns are having null values. However, Looking at the data dictionary we can say these columns could be useful for analysis. We will impute the null values here. The null values will be imputed with random values such that values distribution will remain same.\n",
    "* Specialization\n",
    "* What is your current occupation\n",
    "* Country"
   ]
  },
  {
   "cell_type": "code",
   "execution_count": 14,
   "metadata": {
    "scrolled": true
   },
   "outputs": [
    {
     "data": {
      "text/plain": [
       "Finance Management                   16.56\n",
       "Human Resource Management            14.45\n",
       "Marketing Management                 14.21\n",
       "Operations Management                 8.62\n",
       "Business Administration               6.89\n",
       "IT Projects Management                6.32\n",
       "Supply Chain Management               5.97\n",
       "Banking, Investment And Insurance     5.78\n",
       "Travel and Tourism                    3.49\n",
       "Media and Advertising                 3.49\n",
       "International Business                3.04\n",
       "Healthcare Management                 2.69\n",
       "E-COMMERCE                            1.92\n",
       "Hospitality Management                1.92\n",
       "Retail Management                     1.73\n",
       "Rural and Agribusiness                1.26\n",
       "E-Business                            0.98\n",
       "Services Excellence                   0.69\n",
       "Name: Specialization, dtype: float64"
      ]
     },
     "execution_count": 14,
     "metadata": {},
     "output_type": "execute_result"
    }
   ],
   "source": [
    "# Checking values distribution before imputing the null values in the 'Specialization' column\n",
    "(Leads_df['Specialization'].value_counts()/(Leads_df['Specialization'].value_counts().sum())*100).round(2)"
   ]
  },
  {
   "cell_type": "code",
   "execution_count": 15,
   "metadata": {},
   "outputs": [
    {
     "data": {
      "text/plain": [
       "Unemployed              85.68\n",
       "Working Professional    10.59\n",
       "Student                  3.22\n",
       "Other                    0.23\n",
       "Housewife                0.14\n",
       "Businessman              0.13\n",
       "Name: What is your current occupation, dtype: float64"
      ]
     },
     "execution_count": 15,
     "metadata": {},
     "output_type": "execute_result"
    }
   ],
   "source": [
    "# Checking values distribution before imputing the null values in the 'What is your current occupation' column\n",
    "(Leads_df['What is your current occupation'].value_counts()/(Leads_df['What is your current occupation'].value_counts().sum())*100).round(2)"
   ]
  },
  {
   "cell_type": "code",
   "execution_count": 16,
   "metadata": {},
   "outputs": [
    {
     "data": {
      "text/plain": [
       "India                   95.77\n",
       "United States            1.02\n",
       "United Arab Emirates     0.78\n",
       "Singapore                0.35\n",
       "Saudi Arabia             0.31\n",
       "United Kingdom           0.22\n",
       "Australia                0.19\n",
       "Qatar                    0.15\n",
       "Bahrain                  0.10\n",
       "Hong Kong                0.10\n",
       "France                   0.09\n",
       "Oman                     0.09\n",
       "unknown                  0.07\n",
       "Germany                  0.06\n",
       "Canada                   0.06\n",
       "Kuwait                   0.06\n",
       "Nigeria                  0.06\n",
       "South Africa             0.06\n",
       "Sweden                   0.04\n",
       "Italy                    0.03\n",
       "Bangladesh               0.03\n",
       "Philippines              0.03\n",
       "Uganda                   0.03\n",
       "Netherlands              0.03\n",
       "China                    0.03\n",
       "Ghana                    0.03\n",
       "Belgium                  0.03\n",
       "Asia/Pacific Region      0.03\n",
       "Denmark                  0.01\n",
       "Vietnam                  0.01\n",
       "Indonesia                0.01\n",
       "Tanzania                 0.01\n",
       "Malaysia                 0.01\n",
       "Russia                   0.01\n",
       "Kenya                    0.01\n",
       "Sri Lanka                0.01\n",
       "Switzerland              0.01\n",
       "Liberia                  0.01\n",
       "Name: Country, dtype: float64"
      ]
     },
     "execution_count": 16,
     "metadata": {},
     "output_type": "execute_result"
    }
   ],
   "source": [
    "# Checking values distribution before imputing the null values in the 'Country' column\n",
    "(Leads_df['Country'].value_counts()/(Leads_df['Country'].value_counts().sum())*100).round(2)"
   ]
  },
  {
   "cell_type": "code",
   "execution_count": 17,
   "metadata": {},
   "outputs": [],
   "source": [
    "# We will impute the null values now.\n",
    "\n",
    "# Providing seed for random function\n",
    "np.random.seed(0)\n",
    "\n",
    "# replacing null values with random values for 'specialization' column\n",
    "s = Leads_df['Specialization'].value_counts(normalize=True)\n",
    "missing = Leads_df['Specialization'].isnull()\n",
    "Leads_df.loc[missing,'Specialization'] = np.random.choice(s.index, size=len(Leads_df[missing]),p=s.values)\n",
    "\n",
    "# replacing null values with random values for 'What is your current occupation' column\n",
    "s= Leads_df['What is your current occupation'].value_counts(normalize=True)\n",
    "missing= Leads_df['What is your current occupation'].isnull()\n",
    "Leads_df.loc[missing,'What is your current occupation'] = np.random.choice(s.index, size=len(Leads_df[missing]),p=s.values)\n",
    "\n",
    "# replacing null values with random values for 'Country' column\n",
    "s = Leads_df['Country'].value_counts(normalize=True)\n",
    "missing = Leads_df['Country'].isnull()\n",
    "Leads_df.loc[missing,'Country'] = np.random.choice(s.index, size=len(Leads_df[missing]),p=s.values)"
   ]
  },
  {
   "cell_type": "code",
   "execution_count": 18,
   "metadata": {},
   "outputs": [
    {
     "data": {
      "text/plain": [
       "Finance Management                   16.65\n",
       "Human Resource Management            14.34\n",
       "Marketing Management                 14.26\n",
       "Operations Management                 8.53\n",
       "Business Administration               6.81\n",
       "IT Projects Management                6.11\n",
       "Supply Chain Management               6.02\n",
       "Banking, Investment And Insurance     5.66\n",
       "Travel and Tourism                    3.63\n",
       "Media and Advertising                 3.30\n",
       "International Business                3.13\n",
       "Healthcare Management                 2.60\n",
       "Retail Management                     2.12\n",
       "Hospitality Management                1.99\n",
       "E-COMMERCE                            1.90\n",
       "Rural and Agribusiness                1.33\n",
       "E-Business                            0.96\n",
       "Services Excellence                   0.67\n",
       "Name: Specialization, dtype: float64"
      ]
     },
     "execution_count": 18,
     "metadata": {},
     "output_type": "execute_result"
    }
   ],
   "source": [
    "# Checking values distribution after imputing the null values in the 'Specialization' column\n",
    "(Leads_df['Specialization'].value_counts()/(Leads_df['Specialization'].value_counts().sum())*100).round(2)"
   ]
  },
  {
   "cell_type": "code",
   "execution_count": 19,
   "metadata": {},
   "outputs": [
    {
     "data": {
      "text/plain": [
       "Unemployed              86.09\n",
       "Working Professional    10.46\n",
       "Student                  2.99\n",
       "Other                    0.23\n",
       "Housewife                0.12\n",
       "Businessman              0.11\n",
       "Name: What is your current occupation, dtype: float64"
      ]
     },
     "execution_count": 19,
     "metadata": {},
     "output_type": "execute_result"
    }
   ],
   "source": [
    "# Checking values distribution after imputing the null values in the 'What is your current occupation' column\n",
    "(Leads_df['What is your current occupation'].value_counts()/(Leads_df['What is your current occupation'].value_counts().sum())*100).round(2)"
   ]
  },
  {
   "cell_type": "code",
   "execution_count": 20,
   "metadata": {},
   "outputs": [
    {
     "data": {
      "text/plain": [
       "India                   95.82\n",
       "United States            0.96\n",
       "United Arab Emirates     0.76\n",
       "Singapore                0.33\n",
       "Saudi Arabia             0.32\n",
       "United Kingdom           0.24\n",
       "Australia                0.19\n",
       "Qatar                    0.15\n",
       "Oman                     0.12\n",
       "Hong Kong                0.09\n",
       "South Africa             0.08\n",
       "Bahrain                  0.08\n",
       "France                   0.08\n",
       "unknown                  0.07\n",
       "Germany                  0.07\n",
       "Philippines              0.06\n",
       "Nigeria                  0.06\n",
       "Kuwait                   0.06\n",
       "Canada                   0.06\n",
       "Sweden                   0.04\n",
       "Netherlands              0.04\n",
       "Ghana                    0.04\n",
       "Belgium                  0.03\n",
       "Asia/Pacific Region      0.02\n",
       "Liberia                  0.02\n",
       "Bangladesh               0.02\n",
       "Italy                    0.02\n",
       "Tanzania                 0.02\n",
       "Uganda                   0.02\n",
       "Kenya                    0.02\n",
       "China                    0.02\n",
       "Switzerland              0.02\n",
       "Indonesia                0.01\n",
       "Malaysia                 0.01\n",
       "Russia                   0.01\n",
       "Denmark                  0.01\n",
       "Sri Lanka                0.01\n",
       "Vietnam                  0.01\n",
       "Name: Country, dtype: float64"
      ]
     },
     "execution_count": 20,
     "metadata": {},
     "output_type": "execute_result"
    }
   ],
   "source": [
    "# Checking values distribution after imputing the null values in the 'Country' column\n",
    "(Leads_df['Country'].value_counts()/(Leads_df['Country'].value_counts().sum())*100).round(2)"
   ]
  },
  {
   "cell_type": "markdown",
   "metadata": {},
   "source": [
    "We can see above that Data distribution even after imputing null values is almost same for the columns 'Specialization', 'What is your current occupation', 'Country'"
   ]
  },
  {
   "cell_type": "code",
   "execution_count": 21,
   "metadata": {
    "scrolled": false
   },
   "outputs": [
    {
     "data": {
      "text/plain": [
       "Lead Origin                                 0\n",
       "Lead Source                                 0\n",
       "Do Not Email                                0\n",
       "Do Not Call                                 0\n",
       "Converted                                   0\n",
       "TotalVisits                                 0\n",
       "Total Time Spent on Website                 0\n",
       "Page Views Per Visit                        0\n",
       "Last Activity                               0\n",
       "Country                                     0\n",
       "Specialization                              0\n",
       "What is your current occupation             0\n",
       "Search                                      0\n",
       "Magazine                                    0\n",
       "Newspaper Article                           0\n",
       "X Education Forums                          0\n",
       "Newspaper                                   0\n",
       "Digital Advertisement                       0\n",
       "Through Recommendations                     0\n",
       "Receive More Updates About Our Courses      0\n",
       "Update me on Supply Chain Content           0\n",
       "Get updates on DM Content                   0\n",
       "I agree to pay the amount through cheque    0\n",
       "A free copy of Mastering The Interview      0\n",
       "Last Notable Activity                       0\n",
       "dtype: int64"
      ]
     },
     "execution_count": 21,
     "metadata": {},
     "output_type": "execute_result"
    }
   ],
   "source": [
    "#checking the columns having missing values\n",
    "Leads_df.isnull().sum()"
   ]
  },
  {
   "cell_type": "markdown",
   "metadata": {},
   "source": [
    "There are no null values now in the dataframe."
   ]
  },
  {
   "cell_type": "code",
   "execution_count": 22,
   "metadata": {
    "scrolled": false
   },
   "outputs": [
    {
     "name": "stdout",
     "output_type": "stream",
     "text": [
      "                         Lead Origin\n",
      "Landing Page Submission         4885\n",
      "API                             3578\n",
      "Lead Add Form                    581\n",
      "Lead Import                       30\n",
      "                   Lead Source\n",
      "Google                    2868\n",
      "Direct Traffic            2543\n",
      "Olark Chat                1753\n",
      "Organic Search            1154\n",
      "Reference                  443\n",
      "Welingak Website           129\n",
      "Referral Sites             125\n",
      "Facebook                    31\n",
      "bing                         6\n",
      "google                       5\n",
      "Click2call                   4\n",
      "Social Media                 2\n",
      "Live Chat                    2\n",
      "Press_Release                2\n",
      "WeLearn                      1\n",
      "blog                         1\n",
      "testone                      1\n",
      "youtubechannel               1\n",
      "Pay per Click Ads            1\n",
      "NC_EDM                       1\n",
      "welearnblog_Home             1\n",
      "     Do Not Email\n",
      "No           8358\n",
      "Yes           716\n",
      "     Do Not Call\n",
      "No          9072\n",
      "Yes            2\n",
      "   Converted\n",
      "0       5639\n",
      "1       3435\n",
      "                              Last Activity\n",
      "Email Opened                           3432\n",
      "SMS Sent                               2716\n",
      "Olark Chat Conversation                 972\n",
      "Page Visited on Website                 640\n",
      "Converted to Lead                       428\n",
      "Email Bounced                           312\n",
      "Email Link Clicked                      267\n",
      "Form Submitted on Website               116\n",
      "Unreachable                              90\n",
      "Unsubscribed                             59\n",
      "Had a Phone Conversation                 25\n",
      "View in browser link Clicked              6\n",
      "Approached upfront                        5\n",
      "Email Marked Spam                         2\n",
      "Email Received                            2\n",
      "Visited Booth in Tradeshow                1\n",
      "Resubscribed to emails                    1\n",
      "                      Country\n",
      "India                    8695\n",
      "United States              87\n",
      "United Arab Emirates       69\n",
      "Singapore                  30\n",
      "Saudi Arabia               29\n",
      "United Kingdom             22\n",
      "Australia                  17\n",
      "Qatar                      14\n",
      "Oman                       11\n",
      "Hong Kong                   8\n",
      "South Africa                7\n",
      "Bahrain                     7\n",
      "France                      7\n",
      "unknown                     6\n",
      "Germany                     6\n",
      "Philippines                 5\n",
      "Nigeria                     5\n",
      "Kuwait                      5\n",
      "Canada                      5\n",
      "Sweden                      4\n",
      "Netherlands                 4\n",
      "Ghana                       4\n",
      "Belgium                     3\n",
      "Asia/Pacific Region         2\n",
      "Liberia                     2\n",
      "Bangladesh                  2\n",
      "Italy                       2\n",
      "Tanzania                    2\n",
      "Uganda                      2\n",
      "Kenya                       2\n",
      "China                       2\n",
      "Switzerland                 2\n",
      "Indonesia                   1\n",
      "Malaysia                    1\n",
      "Russia                      1\n",
      "Denmark                     1\n",
      "Sri Lanka                   1\n",
      "Vietnam                     1\n",
      "                                   Specialization\n",
      "Finance Management                           1511\n",
      "Human Resource Management                    1301\n",
      "Marketing Management                         1294\n",
      "Operations Management                         774\n",
      "Business Administration                       618\n",
      "IT Projects Management                        554\n",
      "Supply Chain Management                       546\n",
      "Banking, Investment And Insurance             514\n",
      "Travel and Tourism                            329\n",
      "Media and Advertising                         299\n",
      "International Business                        284\n",
      "Healthcare Management                         236\n",
      "Retail Management                             192\n",
      "Hospitality Management                        181\n",
      "E-COMMERCE                                    172\n",
      "Rural and Agribusiness                        121\n",
      "E-Business                                     87\n",
      "Services Excellence                            61\n",
      "                      What is your current occupation\n",
      "Unemployed                                       7812\n",
      "Working Professional                              949\n",
      "Student                                           271\n",
      "Other                                              21\n",
      "Housewife                                          11\n",
      "Businessman                                        10\n",
      "     Search\n",
      "No     9060\n",
      "Yes      14\n",
      "    Magazine\n",
      "No      9074\n",
      "     Newspaper Article\n",
      "No                9072\n",
      "Yes                  2\n",
      "     X Education Forums\n",
      "No                 9073\n",
      "Yes                   1\n",
      "     Newspaper\n",
      "No        9073\n",
      "Yes          1\n",
      "     Digital Advertisement\n",
      "No                    9070\n",
      "Yes                      4\n",
      "     Through Recommendations\n",
      "No                      9067\n",
      "Yes                        7\n",
      "    Receive More Updates About Our Courses\n",
      "No                                    9074\n",
      "    Update me on Supply Chain Content\n",
      "No                               9074\n",
      "    Get updates on DM Content\n",
      "No                       9074\n",
      "    I agree to pay the amount through cheque\n",
      "No                                      9074\n",
      "     A free copy of Mastering The Interview\n",
      "No                                     6186\n",
      "Yes                                    2888\n",
      "                              Last Notable Activity\n",
      "Modified                                       3267\n",
      "Email Opened                                   2823\n",
      "SMS Sent                                       2152\n",
      "Page Visited on Website                         318\n",
      "Olark Chat Conversation                         183\n",
      "Email Link Clicked                              173\n",
      "Email Bounced                                    60\n",
      "Unsubscribed                                     45\n",
      "Unreachable                                      32\n",
      "Had a Phone Conversation                         14\n",
      "Email Marked Spam                                 2\n",
      "Resubscribed to emails                            1\n",
      "Email Received                                    1\n",
      "Form Submitted on Website                         1\n",
      "View in browser link Clicked                      1\n",
      "Approached upfront                                1\n"
     ]
    }
   ],
   "source": [
    "# We will check value counts for all the Categorical variables.\n",
    "cat_var=['Lead Origin', 'Lead Source', 'Do Not Email', 'Do Not Call', 'Converted', 'Last Activity', 'Country', 'Specialization',\n",
    "         'What is your current occupation', 'Search', 'Magazine', 'Newspaper Article', 'X Education Forums', 'Newspaper',\n",
    "         'Digital Advertisement', 'Through Recommendations', 'Receive More Updates About Our Courses', \n",
    "         'Update me on Supply Chain Content', 'Get updates on DM Content', 'I agree to pay the amount through cheque',\n",
    "         'A free copy of Mastering The Interview', 'Last Notable Activity']\n",
    "\n",
    "for i in cat_var:\n",
    "    print(Leads_df[[i]].apply(pd.Series.value_counts))"
   ]
  },
  {
   "cell_type": "markdown",
   "metadata": {},
   "source": [
    "Looking at the value counts, we see that, In following columns almost all the values are single value 'No'. Therefore, these columns will not add any value for modeling. We will drop these columns\n",
    "\n",
    "* Do Not Call\n",
    "* Search\n",
    "* Magazine\n",
    "* Newspaper Article\n",
    "* X Education Forums\n",
    "* Newspaper\n",
    "* Digital Advertisement\n",
    "* Through Recommendations\n",
    "* Receive More Updates About Our Courses\n",
    "* Update me on Supply Chain Content\n",
    "* Get updates on DM Content\n",
    "* I agree to pay the amount through cheque\n",
    "\n",
    "Similarly 'Country' column is also mostly India. So we will drop the column as it won't add value for modeling.\n",
    "\n",
    "So we will drop these columns as well from the dataset."
   ]
  },
  {
   "cell_type": "code",
   "execution_count": 23,
   "metadata": {},
   "outputs": [],
   "source": [
    "# Dropping the above mentioned columns from the Dataframe\n",
    "Leads_main=Leads_df.drop(['Do Not Call', 'Country','Search', 'Magazine', 'Newspaper Article', 'X Education Forums', 'Newspaper', \n",
    "                          'Digital Advertisement', 'Through Recommendations', 'Receive More Updates About Our Courses',\n",
    "                         'Update me on Supply Chain Content', 'Get updates on DM Content', \n",
    "                          'I agree to pay the amount through cheque' ],axis=1)"
   ]
  },
  {
   "cell_type": "code",
   "execution_count": 24,
   "metadata": {},
   "outputs": [
    {
     "data": {
      "text/plain": [
       "(9074, 12)"
      ]
     },
     "execution_count": 24,
     "metadata": {},
     "output_type": "execute_result"
    }
   ],
   "source": [
    "Leads_main.shape"
   ]
  },
  {
   "cell_type": "markdown",
   "metadata": {},
   "source": [
    "Therefore, Selected columns variable types are as below:\n",
    "\n",
    "#### Categorical Variables\n",
    "'Lead Origin', 'Lead Source', 'Do Not Email', 'Converted', 'Last Activity', 'Specialization', 'What is your current occupation', 'A free copy of Mastering The Interview', 'Last Notable Activity' \n",
    "\n",
    "#### Numeric Variables:\n",
    "'TotalVisits', 'Total Time Spent on Website', 'Page Views Per Visit'\n"
   ]
  },
  {
   "cell_type": "markdown",
   "metadata": {},
   "source": [
    "#### Visualising Categorical Variables"
   ]
  },
  {
   "cell_type": "code",
   "execution_count": 25,
   "metadata": {
    "scrolled": false
   },
   "outputs": [
    {
     "data": {
      "text/plain": [
       "(array([0, 1]), <a list of 2 Text xticklabel objects>)"
      ]
     },
     "execution_count": 25,
     "metadata": {},
     "output_type": "execute_result"
    },
    {
     "data": {
      "image/png": "[encoded data removed]",
      "text/plain": [
       "<Figure size 800x300 with 2 Axes>"
      ]
     },
     "metadata": {},
     "output_type": "display_data"
    }
   ],
   "source": [
    "# Checking distribution of Categorical variables with respect to Target variable 'Converted'\n",
    "\n",
    "plt.figure(figsize=(8,3),dpi=100)\n",
    "plt.subplots_adjust(wspace = 0.8)\n",
    "\n",
    "plt.subplot(1,2,1)\n",
    "sns.countplot(x = 'Lead Origin', hue = 'Converted', data = Leads_main)\n",
    "plt.xticks(rotation = 90)\n",
    "\n",
    "plt.subplot(1,2,2)\n",
    "sns.countplot(x = 'Do Not Email', hue = 'Converted', data = Leads_main)\n",
    "plt.xticks(rotation = 90)"
   ]
  },
  {
   "cell_type": "markdown",
   "metadata": {},
   "source": [
    "* For the customer whose Lead Origin identifier is 'Lead Add Form', has very high probablity of conversion\n",
    "* Customer who has selected that they don't want to be emailed about the course, has very less chance of conversion"
   ]
  },
  {
   "cell_type": "code",
   "execution_count": 26,
   "metadata": {},
   "outputs": [
    {
     "data": {
      "text/plain": [
       "(array([ 0,  1,  2,  3,  4,  5,  6,  7,  8,  9, 10, 11, 12, 13, 14, 15, 16,\n",
       "        17]), <a list of 18 Text xticklabel objects>)"
      ]
     },
     "execution_count": 26,
     "metadata": {},
     "output_type": "execute_result"
    },
    {
     "data": {
      "image/png": "[encoded data removed]",
      "text/plain": [
       "<Figure size 1200x300 with 2 Axes>"
      ]
     },
     "metadata": {},
     "output_type": "display_data"
    }
   ],
   "source": [
    "# Checking distribution of Categorical variables with respect to Target variable 'Converted'\n",
    "\n",
    "plt.figure(figsize=(12,3),dpi=100)\n",
    "plt.subplots_adjust(wspace = 0.3)\n",
    "\n",
    "plt.subplot(1,2,1)\n",
    "sns.countplot(x = 'Last Activity', hue = 'Converted', data = Leads_main)\n",
    "plt.xticks(rotation = 90)\n",
    "\n",
    "plt.subplot(1,2,2)\n",
    "sns.countplot(x = 'Specialization', hue = 'Converted', data = Leads_main)\n",
    "plt.xticks(rotation = 90)"
   ]
  },
  {
   "cell_type": "markdown",
   "metadata": {},
   "source": [
    "* Customer whose last activity was 'SMS sent', has better chance of conversion compare to customer who has performed other last activities\n",
    "* Customer whose last activity were 'Olark Chat Conversation', 'Email Bounced', 'Converted to Lead', have less chance of conversion.\n",
    "* Customer who have specialization in 'Marketing management', 'Finance management', 'Human Resource management', are higher in numbers who were looking for such online course. However, Conversion chance are similar for all the customer across the 'Specilization' segment."
   ]
  },
  {
   "cell_type": "code",
   "execution_count": 27,
   "metadata": {},
   "outputs": [
    {
     "data": {
      "text/plain": [
       "(array([0, 1]), <a list of 2 Text xticklabel objects>)"
      ]
     },
     "execution_count": 27,
     "metadata": {},
     "output_type": "execute_result"
    },
    {
     "data": {
      "image/png": "[encoded data removed]",
      "text/plain": [
       "<Figure size 800x300 with 2 Axes>"
      ]
     },
     "metadata": {},
     "output_type": "display_data"
    }
   ],
   "source": [
    "# Checking distribution of Categorical variables with respect to Target variable 'Converted'\n",
    "\n",
    "plt.figure(figsize=(8,3),dpi=100)\n",
    "plt.subplots_adjust(wspace = 0.8)\n",
    "\n",
    "plt.subplot(1,2,1)\n",
    "sns.countplot(x = 'What is your current occupation', hue = 'Converted', data = Leads_main)\n",
    "plt.xticks(rotation = 90)\n",
    "\n",
    "plt.subplot(1,2,2)\n",
    "sns.countplot(x = 'A free copy of Mastering The Interview', hue = 'Converted', data = Leads_main)\n",
    "plt.xticks(rotation = 90)"
   ]
  },
  {
   "cell_type": "markdown",
   "metadata": {},
   "source": [
    "* For the customer who are working professionals, have high probablity of conversion\n",
    "\n",
    "* There is no significance impact on Conversion of whether Customer has selected yes or no for free copy of mastering the interview"
   ]
  },
  {
   "cell_type": "code",
   "execution_count": 28,
   "metadata": {},
   "outputs": [
    {
     "data": {
      "text/plain": [
       "(array([ 0,  1,  2,  3,  4,  5,  6,  7,  8,  9, 10, 11, 12, 13, 14, 15, 16,\n",
       "        17, 18, 19, 20]), <a list of 21 Text xticklabel objects>)"
      ]
     },
     "execution_count": 28,
     "metadata": {},
     "output_type": "execute_result"
    },
    {
     "data": {
      "image/png": "[encoded data removed]",
      "text/plain": [
       "<Figure size 1200x300 with 2 Axes>"
      ]
     },
     "metadata": {},
     "output_type": "display_data"
    }
   ],
   "source": [
    "# Checking distribution of Categorical variables with respect to Target variable 'Converted'\n",
    "\n",
    "plt.figure(figsize=(12,3),dpi=100)\n",
    "plt.subplots_adjust(wspace = 0.3)\n",
    "\n",
    "plt.subplot(1,2,1)\n",
    "sns.countplot(x = 'Last Notable Activity', hue = 'Converted', data = Leads_main)\n",
    "plt.xticks(rotation = 90)\n",
    "\n",
    "plt.subplot(1,2,2)\n",
    "sns.countplot(x = 'Lead Source', hue = 'Converted', data = Leads_main)\n",
    "plt.xticks(rotation = 90)"
   ]
  },
  {
   "cell_type": "markdown",
   "metadata": {},
   "source": [
    "* Customer whose last notable activity was 'SMS sent', has better chance of conversion compare to customer who has performed other last activities\n",
    "* Customer whose last notable activity was 'Modified', have less chance of conversion.\n",
    "* Customer whose lead Source was from 'Reference' and Welingak Website  have better chance of conversion."
   ]
  },
  {
   "cell_type": "code",
   "execution_count": 29,
   "metadata": {},
   "outputs": [
    {
     "data": {
      "text/html": [
       "<div>\n",
       "<style scoped>\n",
       "    .dataframe tbody tr th:only-of-type {\n",
       "        vertical-align: middle;\n",
       "    }\n",
       "\n",
       "    .dataframe tbody tr th {\n",
       "        vertical-align: top;\n",
       "    }\n",
       "\n",
       "    .dataframe thead th {\n",
       "        text-align: right;\n",
       "    }\n",
       "</style>\n",
       "<table border=\"1\" class=\"dataframe\">\n",
       "  <thead>\n",
       "    <tr style=\"text-align: right;\">\n",
       "      <th></th>\n",
       "      <th>Converted</th>\n",
       "      <th>TotalVisits</th>\n",
       "      <th>Total Time Spent on Website</th>\n",
       "      <th>Page Views Per Visit</th>\n",
       "    </tr>\n",
       "  </thead>\n",
       "  <tbody>\n",
       "    <tr>\n",
       "      <th>count</th>\n",
       "      <td>9074.00</td>\n",
       "      <td>9074.00</td>\n",
       "      <td>9074.00</td>\n",
       "      <td>9074.00</td>\n",
       "    </tr>\n",
       "    <tr>\n",
       "      <th>mean</th>\n",
       "      <td>0.38</td>\n",
       "      <td>3.46</td>\n",
       "      <td>482.89</td>\n",
       "      <td>2.37</td>\n",
       "    </tr>\n",
       "    <tr>\n",
       "      <th>std</th>\n",
       "      <td>0.49</td>\n",
       "      <td>4.86</td>\n",
       "      <td>545.26</td>\n",
       "      <td>2.16</td>\n",
       "    </tr>\n",
       "    <tr>\n",
       "      <th>min</th>\n",
       "      <td>0.00</td>\n",
       "      <td>0.00</td>\n",
       "      <td>0.00</td>\n",
       "      <td>0.00</td>\n",
       "    </tr>\n",
       "    <tr>\n",
       "      <th>25%</th>\n",
       "      <td>0.00</td>\n",
       "      <td>1.00</td>\n",
       "      <td>11.00</td>\n",
       "      <td>1.00</td>\n",
       "    </tr>\n",
       "    <tr>\n",
       "      <th>50%</th>\n",
       "      <td>0.00</td>\n",
       "      <td>3.00</td>\n",
       "      <td>246.00</td>\n",
       "      <td>2.00</td>\n",
       "    </tr>\n",
       "    <tr>\n",
       "      <th>75%</th>\n",
       "      <td>1.00</td>\n",
       "      <td>5.00</td>\n",
       "      <td>922.75</td>\n",
       "      <td>3.20</td>\n",
       "    </tr>\n",
       "    <tr>\n",
       "      <th>max</th>\n",
       "      <td>1.00</td>\n",
       "      <td>251.00</td>\n",
       "      <td>2272.00</td>\n",
       "      <td>55.00</td>\n",
       "    </tr>\n",
       "  </tbody>\n",
       "</table>\n",
       "</div>"
      ],
      "text/plain": [
       "       Converted  TotalVisits  Total Time Spent on Website  \\\n",
       "count    9074.00      9074.00                      9074.00   \n",
       "mean        0.38         3.46                       482.89   \n",
       "std         0.49         4.86                       545.26   \n",
       "min         0.00         0.00                         0.00   \n",
       "25%         0.00         1.00                        11.00   \n",
       "50%         0.00         3.00                       246.00   \n",
       "75%         1.00         5.00                       922.75   \n",
       "max         1.00       251.00                      2272.00   \n",
       "\n",
       "       Page Views Per Visit  \n",
       "count               9074.00  \n",
       "mean                   2.37  \n",
       "std                    2.16  \n",
       "min                    0.00  \n",
       "25%                    1.00  \n",
       "50%                    2.00  \n",
       "75%                    3.20  \n",
       "max                   55.00  "
      ]
     },
     "execution_count": 29,
     "metadata": {},
     "output_type": "execute_result"
    }
   ],
   "source": [
    "# View the statistical details for the numeric columns of the dataframe.\n",
    "Leads_main.describe().round(2)"
   ]
  },
  {
   "cell_type": "markdown",
   "metadata": {},
   "source": [
    "We can see here, There are outliers in the numeric variables"
   ]
  },
  {
   "cell_type": "markdown",
   "metadata": {},
   "source": [
    "#### Visualising Numeric Variables"
   ]
  },
  {
   "cell_type": "code",
   "execution_count": 30,
   "metadata": {},
   "outputs": [
    {
     "data": {
      "text/plain": [
       "<matplotlib.axes._subplots.AxesSubplot at 0x19d26ac83c8>"
      ]
     },
     "execution_count": 30,
     "metadata": {},
     "output_type": "execute_result"
    },
    {
     "data": {
      "image/png": "[encoded data removed]",
      "text/plain": [
       "<Figure size 800x300 with 3 Axes>"
      ]
     },
     "metadata": {},
     "output_type": "display_data"
    }
   ],
   "source": [
    "# Outliers are checked for numeric columns through Boxplots\n",
    "plt.figure(figsize=(8,3),dpi=100)\n",
    "plt.subplots_adjust(wspace = 0.6,hspace = 0.3)\n",
    "\n",
    "plt.subplot(1,3,1)\n",
    "sns.boxplot(y=Leads_main['TotalVisits'])\n",
    "plt.subplot(1,3,2)\n",
    "sns.boxplot(y=Leads_main['Total Time Spent on Website'])\n",
    "plt.subplot(1,3,3)\n",
    "sns.boxplot(y=Leads_main['Page Views Per Visit'])"
   ]
  },
  {
   "cell_type": "code",
   "execution_count": 31,
   "metadata": {},
   "outputs": [],
   "source": [
    "# Checking for outliers in the continuous variables\n",
    "num_Leads = Leads_main[['TotalVisits','Total Time Spent on Website','Page Views Per Visit']]"
   ]
  },
  {
   "cell_type": "code",
   "execution_count": 32,
   "metadata": {},
   "outputs": [
    {
     "data": {
      "text/html": [
       "<div>\n",
       "<style scoped>\n",
       "    .dataframe tbody tr th:only-of-type {\n",
       "        vertical-align: middle;\n",
       "    }\n",
       "\n",
       "    .dataframe tbody tr th {\n",
       "        vertical-align: top;\n",
       "    }\n",
       "\n",
       "    .dataframe thead th {\n",
       "        text-align: right;\n",
       "    }\n",
       "</style>\n",
       "<table border=\"1\" class=\"dataframe\">\n",
       "  <thead>\n",
       "    <tr style=\"text-align: right;\">\n",
       "      <th></th>\n",
       "      <th>TotalVisits</th>\n",
       "      <th>Total Time Spent on Website</th>\n",
       "      <th>Page Views Per Visit</th>\n",
       "    </tr>\n",
       "  </thead>\n",
       "  <tbody>\n",
       "    <tr>\n",
       "      <th>count</th>\n",
       "      <td>9074.000000</td>\n",
       "      <td>9074.000000</td>\n",
       "      <td>9074.000000</td>\n",
       "    </tr>\n",
       "    <tr>\n",
       "      <th>mean</th>\n",
       "      <td>3.456028</td>\n",
       "      <td>482.887481</td>\n",
       "      <td>2.370151</td>\n",
       "    </tr>\n",
       "    <tr>\n",
       "      <th>std</th>\n",
       "      <td>4.858802</td>\n",
       "      <td>545.256560</td>\n",
       "      <td>2.160871</td>\n",
       "    </tr>\n",
       "    <tr>\n",
       "      <th>min</th>\n",
       "      <td>0.000000</td>\n",
       "      <td>0.000000</td>\n",
       "      <td>0.000000</td>\n",
       "    </tr>\n",
       "    <tr>\n",
       "      <th>25%</th>\n",
       "      <td>1.000000</td>\n",
       "      <td>11.000000</td>\n",
       "      <td>1.000000</td>\n",
       "    </tr>\n",
       "    <tr>\n",
       "      <th>50%</th>\n",
       "      <td>3.000000</td>\n",
       "      <td>246.000000</td>\n",
       "      <td>2.000000</td>\n",
       "    </tr>\n",
       "    <tr>\n",
       "      <th>75%</th>\n",
       "      <td>5.000000</td>\n",
       "      <td>922.750000</td>\n",
       "      <td>3.200000</td>\n",
       "    </tr>\n",
       "    <tr>\n",
       "      <th>90%</th>\n",
       "      <td>7.000000</td>\n",
       "      <td>1373.000000</td>\n",
       "      <td>5.000000</td>\n",
       "    </tr>\n",
       "    <tr>\n",
       "      <th>95%</th>\n",
       "      <td>10.000000</td>\n",
       "      <td>1557.000000</td>\n",
       "      <td>6.000000</td>\n",
       "    </tr>\n",
       "    <tr>\n",
       "      <th>99%</th>\n",
       "      <td>17.000000</td>\n",
       "      <td>1839.000000</td>\n",
       "      <td>9.000000</td>\n",
       "    </tr>\n",
       "    <tr>\n",
       "      <th>max</th>\n",
       "      <td>251.000000</td>\n",
       "      <td>2272.000000</td>\n",
       "      <td>55.000000</td>\n",
       "    </tr>\n",
       "  </tbody>\n",
       "</table>\n",
       "</div>"
      ],
      "text/plain": [
       "       TotalVisits  Total Time Spent on Website  Page Views Per Visit\n",
       "count  9074.000000                  9074.000000           9074.000000\n",
       "mean      3.456028                   482.887481              2.370151\n",
       "std       4.858802                   545.256560              2.160871\n",
       "min       0.000000                     0.000000              0.000000\n",
       "25%       1.000000                    11.000000              1.000000\n",
       "50%       3.000000                   246.000000              2.000000\n",
       "75%       5.000000                   922.750000              3.200000\n",
       "90%       7.000000                  1373.000000              5.000000\n",
       "95%      10.000000                  1557.000000              6.000000\n",
       "99%      17.000000                  1839.000000              9.000000\n",
       "max     251.000000                  2272.000000             55.000000"
      ]
     },
     "execution_count": 32,
     "metadata": {},
     "output_type": "execute_result"
    }
   ],
   "source": [
    "# Checking outliers at 25%, 50%, 75%, 90%, 95% and 99%\n",
    "num_Leads.describe(percentiles=[.25, .5, .75, .90, .95, .99])"
   ]
  },
  {
   "cell_type": "markdown",
   "metadata": {},
   "source": [
    "There are outliers in 'Total visits' and 'Pag Views Per Visit'"
   ]
  },
  {
   "cell_type": "code",
   "execution_count": 33,
   "metadata": {},
   "outputs": [
    {
     "data": {
      "text/plain": [
       "(9074, 12)"
      ]
     },
     "execution_count": 33,
     "metadata": {},
     "output_type": "execute_result"
    }
   ],
   "source": [
    "Leads_main.shape"
   ]
  },
  {
   "cell_type": "code",
   "execution_count": 34,
   "metadata": {},
   "outputs": [],
   "source": [
    "# Outlier treatment\n",
    "\n",
    "# Creating function for outlier removal.\n",
    "def remove_outlier(df_in, col_name): \n",
    "    Q1 = df_in[col_name].quantile(0.05) \n",
    "    Q3 = df_in[col_name].quantile(0.95) \n",
    "    IQR=Q3-Q1               # Interquantile range\n",
    "    df_out = df_in.loc[(df_in[col_name] >= Q1) & (df_in[col_name] <= Q3)]\n",
    "    return(df_out)\n",
    "\n",
    "Leads_main = remove_outlier(Leads_main,'TotalVisits') # For outlier treatment of 'TotalVisits' column\n",
    "Leads_main = remove_outlier(Leads_main,'Total Time Spent on Website') # For outlier treatment of 'Total Time Spent on Website' column\n",
    "Leads_main = remove_outlier(Leads_main,'Page Views Per Visit') # For outlier treatment of 'Page Views Per Visit' column"
   ]
  },
  {
   "cell_type": "code",
   "execution_count": 35,
   "metadata": {
    "scrolled": false
   },
   "outputs": [
    {
     "data": {
      "text/plain": [
       "(8027, 12)"
      ]
     },
     "execution_count": 35,
     "metadata": {},
     "output_type": "execute_result"
    }
   ],
   "source": [
    "Leads_main.shape"
   ]
  },
  {
   "cell_type": "markdown",
   "metadata": {},
   "source": [
    "It means that (9074-8027)/9074 = 0.11538 i.e 11.5% data is lost here during outlier treatment"
   ]
  },
  {
   "cell_type": "markdown",
   "metadata": {},
   "source": [
    "## Data Preparation"
   ]
  },
  {
   "cell_type": "markdown",
   "metadata": {},
   "source": [
    "#### Converting Categorical variables to numeric for model building"
   ]
  },
  {
   "cell_type": "code",
   "execution_count": 36,
   "metadata": {
    "scrolled": false
   },
   "outputs": [
    {
     "name": "stdout",
     "output_type": "stream",
     "text": [
      "                         Lead Origin\n",
      "Landing Page Submission         4111\n",
      "API                             3319\n",
      "Lead Add Form                    568\n",
      "Lead Import                       29\n",
      "                   Lead Source\n",
      "Google                    2521\n",
      "Direct Traffic            2192\n",
      "Olark Chat                1732\n",
      "Organic Search             869\n",
      "Reference                  433\n",
      "Welingak Website           128\n",
      "Referral Sites              96\n",
      "Facebook                    30\n",
      "bing                         6\n",
      "google                       5\n",
      "Click2call                   3\n",
      "Social Media                 2\n",
      "Live Chat                    2\n",
      "WeLearn                      1\n",
      "blog                         1\n",
      "testone                      1\n",
      "youtubechannel               1\n",
      "Pay per Click Ads            1\n",
      "NC_EDM                       1\n",
      "welearnblog_Home             1\n",
      "Press_Release                1\n",
      "     Do Not Email\n",
      "No           7401\n",
      "Yes           626\n",
      "   Converted\n",
      "0       5144\n",
      "1       2883\n",
      "                              Last Activity\n",
      "Email Opened                           3028\n",
      "SMS Sent                               2376\n",
      "Olark Chat Conversation                 924\n",
      "Page Visited on Website                 486\n",
      "Converted to Lead                       408\n",
      "Email Bounced                           295\n",
      "Email Link Clicked                      243\n",
      "Form Submitted on Website               103\n",
      "Unreachable                              80\n",
      "Unsubscribed                             53\n",
      "Had a Phone Conversation                 17\n",
      "Approached upfront                        5\n",
      "View in browser link Clicked              4\n",
      "Email Received                            2\n",
      "Email Marked Spam                         1\n",
      "Visited Booth in Tradeshow                1\n",
      "Resubscribed to emails                    1\n",
      "                                   Specialization\n",
      "Finance Management                           1338\n",
      "Marketing Management                         1176\n",
      "Human Resource Management                    1154\n",
      "Operations Management                         698\n",
      "Business Administration                       551\n",
      "IT Projects Management                        499\n",
      "Supply Chain Management                       477\n",
      "Banking, Investment And Insurance             439\n",
      "Travel and Tourism                            279\n",
      "International Business                        252\n",
      "Media and Advertising                         251\n",
      "Healthcare Management                         204\n",
      "Retail Management                             165\n",
      "Hospitality Management                        159\n",
      "E-COMMERCE                                    150\n",
      "Rural and Agribusiness                        104\n",
      "E-Business                                     76\n",
      "Services Excellence                            55\n",
      "                      What is your current occupation\n",
      "Unemployed                                       6909\n",
      "Working Professional                              834\n",
      "Student                                           252\n",
      "Other                                              17\n",
      "Housewife                                          10\n",
      "Businessman                                         5\n",
      "     A free copy of Mastering The Interview\n",
      "No                                     5649\n",
      "Yes                                    2378\n",
      "                              Last Notable Activity\n",
      "Modified                                       2984\n",
      "Email Opened                                   2478\n",
      "SMS Sent                                       1878\n",
      "Page Visited on Website                         226\n",
      "Olark Chat Conversation                         168\n",
      "Email Link Clicked                              156\n",
      "Email Bounced                                    56\n",
      "Unsubscribed                                     40\n",
      "Unreachable                                      27\n",
      "Had a Phone Conversation                          8\n",
      "Resubscribed to emails                            1\n",
      "Email Received                                    1\n",
      "Form Submitted on Website                         1\n",
      "Email Marked Spam                                 1\n",
      "View in browser link Clicked                      1\n",
      "Approached upfront                                1\n"
     ]
    }
   ],
   "source": [
    "# We will check value counts for all the Categorical variables.\n",
    "cat_var=['Lead Origin', 'Lead Source', 'Do Not Email', 'Converted', 'Last Activity', 'Specialization', \n",
    "         'What is your current occupation', 'A free copy of Mastering The Interview', 'Last Notable Activity']\n",
    "\n",
    "for i in cat_var:\n",
    "    print(Leads_main[[i]].apply(pd.Series.value_counts))"
   ]
  },
  {
   "cell_type": "markdown",
   "metadata": {},
   "source": [
    "Following Categorical variables has only two values each (Yes or No):\n",
    "\n",
    "* Do Not Email\n",
    "* A free copy of Mastering The Interview\n",
    "\n",
    "Therefore, we will convert them to numeric values as '1' and '0' for model preparation"
   ]
  },
  {
   "cell_type": "code",
   "execution_count": 37,
   "metadata": {},
   "outputs": [],
   "source": [
    "# Converting above variables to numeric values as '1' and '0' for model preparation\n",
    "\n",
    "Leads_main['Do Not Email']=Leads_main['Do Not Email'].map({'Yes':1,'No':0})\n",
    "Leads_main['A free copy of Mastering The Interview']=Leads_main['A free copy of Mastering The Interview'].map({'Yes':1,'No':0})"
   ]
  },
  {
   "cell_type": "markdown",
   "metadata": {},
   "source": [
    "Following Categorical variables has more than two values. Therefore, we will create dummy variables for these.\n",
    "\n",
    "* Lead Origin\n",
    "* Lead Source\n",
    "* Last Activity\n",
    "* Specialization\n",
    "* What is your current occupation\n",
    "* Last Notable Activity"
   ]
  },
  {
   "cell_type": "code",
   "execution_count": 38,
   "metadata": {},
   "outputs": [],
   "source": [
    "# Creating dummy variables for above mentioned Categorical variables\n",
    "\n",
    "var=['Lead Origin', 'Lead Source', 'Last Activity', 'Specialization','What is your current occupation','Last Notable Activity']\n",
    "for i in var:\n",
    "    dum=pd.get_dummies(Leads_main[i],drop_first=True).rename(columns=lambda x: i + '_'+ str(x)) # Creating dummy variable dataframe\n",
    "    Leads_main = pd.concat([Leads_main, dum], axis = 1)    # Concatinating the dummy variable dataframe with Leads_main dataframe\n",
    "    Leads_main=Leads_main.drop([i], axis=1)  # droping orignial column of categorical variable from Leads_main dataframe"
   ]
  },
  {
   "cell_type": "code",
   "execution_count": 39,
   "metadata": {
    "scrolled": true
   },
   "outputs": [
    {
     "data": {
      "text/html": [
       "<div>\n",
       "<style scoped>\n",
       "    .dataframe tbody tr th:only-of-type {\n",
       "        vertical-align: middle;\n",
       "    }\n",
       "\n",
       "    .dataframe tbody tr th {\n",
       "        vertical-align: top;\n",
       "    }\n",
       "\n",
       "    .dataframe thead th {\n",
       "        text-align: right;\n",
       "    }\n",
       "</style>\n",
       "<table border=\"1\" class=\"dataframe\">\n",
       "  <thead>\n",
       "    <tr style=\"text-align: right;\">\n",
       "      <th></th>\n",
       "      <th>Do Not Email</th>\n",
       "      <th>Converted</th>\n",
       "      <th>TotalVisits</th>\n",
       "      <th>Total Time Spent on Website</th>\n",
       "      <th>Page Views Per Visit</th>\n",
       "      <th>A free copy of Mastering The Interview</th>\n",
       "      <th>Lead Origin_Landing Page Submission</th>\n",
       "      <th>Lead Origin_Lead Add Form</th>\n",
       "      <th>Lead Origin_Lead Import</th>\n",
       "      <th>Lead Source_Direct Traffic</th>\n",
       "      <th>...</th>\n",
       "      <th>Last Notable Activity_Form Submitted on Website</th>\n",
       "      <th>Last Notable Activity_Had a Phone Conversation</th>\n",
       "      <th>Last Notable Activity_Modified</th>\n",
       "      <th>Last Notable Activity_Olark Chat Conversation</th>\n",
       "      <th>Last Notable Activity_Page Visited on Website</th>\n",
       "      <th>Last Notable Activity_Resubscribed to emails</th>\n",
       "      <th>Last Notable Activity_SMS Sent</th>\n",
       "      <th>Last Notable Activity_Unreachable</th>\n",
       "      <th>Last Notable Activity_Unsubscribed</th>\n",
       "      <th>Last Notable Activity_View in browser link Clicked</th>\n",
       "    </tr>\n",
       "  </thead>\n",
       "  <tbody>\n",
       "    <tr>\n",
       "      <th>0</th>\n",
       "      <td>0</td>\n",
       "      <td>0</td>\n",
       "      <td>0.0</td>\n",
       "      <td>0</td>\n",
       "      <td>0.0</td>\n",
       "      <td>0</td>\n",
       "      <td>0</td>\n",
       "      <td>0</td>\n",
       "      <td>0</td>\n",
       "      <td>0</td>\n",
       "      <td>...</td>\n",
       "      <td>0</td>\n",
       "      <td>0</td>\n",
       "      <td>1</td>\n",
       "      <td>0</td>\n",
       "      <td>0</td>\n",
       "      <td>0</td>\n",
       "      <td>0</td>\n",
       "      <td>0</td>\n",
       "      <td>0</td>\n",
       "      <td>0</td>\n",
       "    </tr>\n",
       "    <tr>\n",
       "      <th>1</th>\n",
       "      <td>0</td>\n",
       "      <td>0</td>\n",
       "      <td>5.0</td>\n",
       "      <td>674</td>\n",
       "      <td>2.5</td>\n",
       "      <td>0</td>\n",
       "      <td>0</td>\n",
       "      <td>0</td>\n",
       "      <td>0</td>\n",
       "      <td>0</td>\n",
       "      <td>...</td>\n",
       "      <td>0</td>\n",
       "      <td>0</td>\n",
       "      <td>0</td>\n",
       "      <td>0</td>\n",
       "      <td>0</td>\n",
       "      <td>0</td>\n",
       "      <td>0</td>\n",
       "      <td>0</td>\n",
       "      <td>0</td>\n",
       "      <td>0</td>\n",
       "    </tr>\n",
       "    <tr>\n",
       "      <th>2</th>\n",
       "      <td>0</td>\n",
       "      <td>1</td>\n",
       "      <td>2.0</td>\n",
       "      <td>1532</td>\n",
       "      <td>2.0</td>\n",
       "      <td>1</td>\n",
       "      <td>1</td>\n",
       "      <td>0</td>\n",
       "      <td>0</td>\n",
       "      <td>1</td>\n",
       "      <td>...</td>\n",
       "      <td>0</td>\n",
       "      <td>0</td>\n",
       "      <td>0</td>\n",
       "      <td>0</td>\n",
       "      <td>0</td>\n",
       "      <td>0</td>\n",
       "      <td>0</td>\n",
       "      <td>0</td>\n",
       "      <td>0</td>\n",
       "      <td>0</td>\n",
       "    </tr>\n",
       "    <tr>\n",
       "      <th>3</th>\n",
       "      <td>0</td>\n",
       "      <td>0</td>\n",
       "      <td>1.0</td>\n",
       "      <td>305</td>\n",
       "      <td>1.0</td>\n",
       "      <td>0</td>\n",
       "      <td>1</td>\n",
       "      <td>0</td>\n",
       "      <td>0</td>\n",
       "      <td>1</td>\n",
       "      <td>...</td>\n",
       "      <td>0</td>\n",
       "      <td>0</td>\n",
       "      <td>1</td>\n",
       "      <td>0</td>\n",
       "      <td>0</td>\n",
       "      <td>0</td>\n",
       "      <td>0</td>\n",
       "      <td>0</td>\n",
       "      <td>0</td>\n",
       "      <td>0</td>\n",
       "    </tr>\n",
       "    <tr>\n",
       "      <th>4</th>\n",
       "      <td>0</td>\n",
       "      <td>1</td>\n",
       "      <td>2.0</td>\n",
       "      <td>1428</td>\n",
       "      <td>1.0</td>\n",
       "      <td>0</td>\n",
       "      <td>1</td>\n",
       "      <td>0</td>\n",
       "      <td>0</td>\n",
       "      <td>0</td>\n",
       "      <td>...</td>\n",
       "      <td>0</td>\n",
       "      <td>0</td>\n",
       "      <td>1</td>\n",
       "      <td>0</td>\n",
       "      <td>0</td>\n",
       "      <td>0</td>\n",
       "      <td>0</td>\n",
       "      <td>0</td>\n",
       "      <td>0</td>\n",
       "      <td>0</td>\n",
       "    </tr>\n",
       "  </tbody>\n",
       "</table>\n",
       "<p>5 rows × 82 columns</p>\n",
       "</div>"
      ],
      "text/plain": [
       "   Do Not Email  Converted  TotalVisits  Total Time Spent on Website  \\\n",
       "0             0          0          0.0                            0   \n",
       "1             0          0          5.0                          674   \n",
       "2             0          1          2.0                         1532   \n",
       "3             0          0          1.0                          305   \n",
       "4             0          1          2.0                         1428   \n",
       "\n",
       "   Page Views Per Visit  A free copy of Mastering The Interview  \\\n",
       "0                   0.0                                       0   \n",
       "1                   2.5                                       0   \n",
       "2                   2.0                                       1   \n",
       "3                   1.0                                       0   \n",
       "4                   1.0                                       0   \n",
       "\n",
       "   Lead Origin_Landing Page Submission  Lead Origin_Lead Add Form  \\\n",
       "0                                    0                          0   \n",
       "1                                    0                          0   \n",
       "2                                    1                          0   \n",
       "3                                    1                          0   \n",
       "4                                    1                          0   \n",
       "\n",
       "   Lead Origin_Lead Import  Lead Source_Direct Traffic  \\\n",
       "0                        0                           0   \n",
       "1                        0                           0   \n",
       "2                        0                           1   \n",
       "3                        0                           1   \n",
       "4                        0                           0   \n",
       "\n",
       "                          ...                          \\\n",
       "0                         ...                           \n",
       "1                         ...                           \n",
       "2                         ...                           \n",
       "3                         ...                           \n",
       "4                         ...                           \n",
       "\n",
       "   Last Notable Activity_Form Submitted on Website  \\\n",
       "0                                                0   \n",
       "1                                                0   \n",
       "2                                                0   \n",
       "3                                                0   \n",
       "4                                                0   \n",
       "\n",
       "   Last Notable Activity_Had a Phone Conversation  \\\n",
       "0                                               0   \n",
       "1                                               0   \n",
       "2                                               0   \n",
       "3                                               0   \n",
       "4                                               0   \n",
       "\n",
       "   Last Notable Activity_Modified  \\\n",
       "0                               1   \n",
       "1                               0   \n",
       "2                               0   \n",
       "3                               1   \n",
       "4                               1   \n",
       "\n",
       "   Last Notable Activity_Olark Chat Conversation  \\\n",
       "0                                              0   \n",
       "1                                              0   \n",
       "2                                              0   \n",
       "3                                              0   \n",
       "4                                              0   \n",
       "\n",
       "   Last Notable Activity_Page Visited on Website  \\\n",
       "0                                              0   \n",
       "1                                              0   \n",
       "2                                              0   \n",
       "3                                              0   \n",
       "4                                              0   \n",
       "\n",
       "   Last Notable Activity_Resubscribed to emails  \\\n",
       "0                                             0   \n",
       "1                                             0   \n",
       "2                                             0   \n",
       "3                                             0   \n",
       "4                                             0   \n",
       "\n",
       "   Last Notable Activity_SMS Sent  Last Notable Activity_Unreachable  \\\n",
       "0                               0                                  0   \n",
       "1                               0                                  0   \n",
       "2                               0                                  0   \n",
       "3                               0                                  0   \n",
       "4                               0                                  0   \n",
       "\n",
       "   Last Notable Activity_Unsubscribed  \\\n",
       "0                                   0   \n",
       "1                                   0   \n",
       "2                                   0   \n",
       "3                                   0   \n",
       "4                                   0   \n",
       "\n",
       "   Last Notable Activity_View in browser link Clicked  \n",
       "0                                                  0   \n",
       "1                                                  0   \n",
       "2                                                  0   \n",
       "3                                                  0   \n",
       "4                                                  0   \n",
       "\n",
       "[5 rows x 82 columns]"
      ]
     },
     "execution_count": 39,
     "metadata": {},
     "output_type": "execute_result"
    }
   ],
   "source": [
    "Leads_main.head()"
   ]
  },
  {
   "cell_type": "markdown",
   "metadata": {},
   "source": [
    "## Model Building"
   ]
  },
  {
   "cell_type": "markdown",
   "metadata": {},
   "source": [
    "### Test-Train Split\n",
    "\n",
    "We will split the data into train data and test data"
   ]
  },
  {
   "cell_type": "code",
   "execution_count": 40,
   "metadata": {},
   "outputs": [],
   "source": [
    "# Importing required python library for train test split\n",
    "\n",
    "from sklearn.model_selection import train_test_split"
   ]
  },
  {
   "cell_type": "code",
   "execution_count": 41,
   "metadata": {},
   "outputs": [
    {
     "data": {
      "text/html": [
       "<div>\n",
       "<style scoped>\n",
       "    .dataframe tbody tr th:only-of-type {\n",
       "        vertical-align: middle;\n",
       "    }\n",
       "\n",
       "    .dataframe tbody tr th {\n",
       "        vertical-align: top;\n",
       "    }\n",
       "\n",
       "    .dataframe thead th {\n",
       "        text-align: right;\n",
       "    }\n",
       "</style>\n",
       "<table border=\"1\" class=\"dataframe\">\n",
       "  <thead>\n",
       "    <tr style=\"text-align: right;\">\n",
       "      <th></th>\n",
       "      <th>Do Not Email</th>\n",
       "      <th>TotalVisits</th>\n",
       "      <th>Total Time Spent on Website</th>\n",
       "      <th>Page Views Per Visit</th>\n",
       "      <th>A free copy of Mastering The Interview</th>\n",
       "      <th>Lead Origin_Landing Page Submission</th>\n",
       "      <th>Lead Origin_Lead Add Form</th>\n",
       "      <th>Lead Origin_Lead Import</th>\n",
       "      <th>Lead Source_Direct Traffic</th>\n",
       "      <th>Lead Source_Facebook</th>\n",
       "      <th>...</th>\n",
       "      <th>Last Notable Activity_Form Submitted on Website</th>\n",
       "      <th>Last Notable Activity_Had a Phone Conversation</th>\n",
       "      <th>Last Notable Activity_Modified</th>\n",
       "      <th>Last Notable Activity_Olark Chat Conversation</th>\n",
       "      <th>Last Notable Activity_Page Visited on Website</th>\n",
       "      <th>Last Notable Activity_Resubscribed to emails</th>\n",
       "      <th>Last Notable Activity_SMS Sent</th>\n",
       "      <th>Last Notable Activity_Unreachable</th>\n",
       "      <th>Last Notable Activity_Unsubscribed</th>\n",
       "      <th>Last Notable Activity_View in browser link Clicked</th>\n",
       "    </tr>\n",
       "  </thead>\n",
       "  <tbody>\n",
       "    <tr>\n",
       "      <th>0</th>\n",
       "      <td>0</td>\n",
       "      <td>0.0</td>\n",
       "      <td>0</td>\n",
       "      <td>0.0</td>\n",
       "      <td>0</td>\n",
       "      <td>0</td>\n",
       "      <td>0</td>\n",
       "      <td>0</td>\n",
       "      <td>0</td>\n",
       "      <td>0</td>\n",
       "      <td>...</td>\n",
       "      <td>0</td>\n",
       "      <td>0</td>\n",
       "      <td>1</td>\n",
       "      <td>0</td>\n",
       "      <td>0</td>\n",
       "      <td>0</td>\n",
       "      <td>0</td>\n",
       "      <td>0</td>\n",
       "      <td>0</td>\n",
       "      <td>0</td>\n",
       "    </tr>\n",
       "    <tr>\n",
       "      <th>1</th>\n",
       "      <td>0</td>\n",
       "      <td>5.0</td>\n",
       "      <td>674</td>\n",
       "      <td>2.5</td>\n",
       "      <td>0</td>\n",
       "      <td>0</td>\n",
       "      <td>0</td>\n",
       "      <td>0</td>\n",
       "      <td>0</td>\n",
       "      <td>0</td>\n",
       "      <td>...</td>\n",
       "      <td>0</td>\n",
       "      <td>0</td>\n",
       "      <td>0</td>\n",
       "      <td>0</td>\n",
       "      <td>0</td>\n",
       "      <td>0</td>\n",
       "      <td>0</td>\n",
       "      <td>0</td>\n",
       "      <td>0</td>\n",
       "      <td>0</td>\n",
       "    </tr>\n",
       "    <tr>\n",
       "      <th>2</th>\n",
       "      <td>0</td>\n",
       "      <td>2.0</td>\n",
       "      <td>1532</td>\n",
       "      <td>2.0</td>\n",
       "      <td>1</td>\n",
       "      <td>1</td>\n",
       "      <td>0</td>\n",
       "      <td>0</td>\n",
       "      <td>1</td>\n",
       "      <td>0</td>\n",
       "      <td>...</td>\n",
       "      <td>0</td>\n",
       "      <td>0</td>\n",
       "      <td>0</td>\n",
       "      <td>0</td>\n",
       "      <td>0</td>\n",
       "      <td>0</td>\n",
       "      <td>0</td>\n",
       "      <td>0</td>\n",
       "      <td>0</td>\n",
       "      <td>0</td>\n",
       "    </tr>\n",
       "    <tr>\n",
       "      <th>3</th>\n",
       "      <td>0</td>\n",
       "      <td>1.0</td>\n",
       "      <td>305</td>\n",
       "      <td>1.0</td>\n",
       "      <td>0</td>\n",
       "      <td>1</td>\n",
       "      <td>0</td>\n",
       "      <td>0</td>\n",
       "      <td>1</td>\n",
       "      <td>0</td>\n",
       "      <td>...</td>\n",
       "      <td>0</td>\n",
       "      <td>0</td>\n",
       "      <td>1</td>\n",
       "      <td>0</td>\n",
       "      <td>0</td>\n",
       "      <td>0</td>\n",
       "      <td>0</td>\n",
       "      <td>0</td>\n",
       "      <td>0</td>\n",
       "      <td>0</td>\n",
       "    </tr>\n",
       "    <tr>\n",
       "      <th>4</th>\n",
       "      <td>0</td>\n",
       "      <td>2.0</td>\n",
       "      <td>1428</td>\n",
       "      <td>1.0</td>\n",
       "      <td>0</td>\n",
       "      <td>1</td>\n",
       "      <td>0</td>\n",
       "      <td>0</td>\n",
       "      <td>0</td>\n",
       "      <td>0</td>\n",
       "      <td>...</td>\n",
       "      <td>0</td>\n",
       "      <td>0</td>\n",
       "      <td>1</td>\n",
       "      <td>0</td>\n",
       "      <td>0</td>\n",
       "      <td>0</td>\n",
       "      <td>0</td>\n",
       "      <td>0</td>\n",
       "      <td>0</td>\n",
       "      <td>0</td>\n",
       "    </tr>\n",
       "  </tbody>\n",
       "</table>\n",
       "<p>5 rows × 81 columns</p>\n",
       "</div>"
      ],
      "text/plain": [
       "   Do Not Email  TotalVisits  Total Time Spent on Website  \\\n",
       "0             0          0.0                            0   \n",
       "1             0          5.0                          674   \n",
       "2             0          2.0                         1532   \n",
       "3             0          1.0                          305   \n",
       "4             0          2.0                         1428   \n",
       "\n",
       "   Page Views Per Visit  A free copy of Mastering The Interview  \\\n",
       "0                   0.0                                       0   \n",
       "1                   2.5                                       0   \n",
       "2                   2.0                                       1   \n",
       "3                   1.0                                       0   \n",
       "4                   1.0                                       0   \n",
       "\n",
       "   Lead Origin_Landing Page Submission  Lead Origin_Lead Add Form  \\\n",
       "0                                    0                          0   \n",
       "1                                    0                          0   \n",
       "2                                    1                          0   \n",
       "3                                    1                          0   \n",
       "4                                    1                          0   \n",
       "\n",
       "   Lead Origin_Lead Import  Lead Source_Direct Traffic  Lead Source_Facebook  \\\n",
       "0                        0                           0                     0   \n",
       "1                        0                           0                     0   \n",
       "2                        0                           1                     0   \n",
       "3                        0                           1                     0   \n",
       "4                        0                           0                     0   \n",
       "\n",
       "                          ...                          \\\n",
       "0                         ...                           \n",
       "1                         ...                           \n",
       "2                         ...                           \n",
       "3                         ...                           \n",
       "4                         ...                           \n",
       "\n",
       "   Last Notable Activity_Form Submitted on Website  \\\n",
       "0                                                0   \n",
       "1                                                0   \n",
       "2                                                0   \n",
       "3                                                0   \n",
       "4                                                0   \n",
       "\n",
       "   Last Notable Activity_Had a Phone Conversation  \\\n",
       "0                                               0   \n",
       "1                                               0   \n",
       "2                                               0   \n",
       "3                                               0   \n",
       "4                                               0   \n",
       "\n",
       "   Last Notable Activity_Modified  \\\n",
       "0                               1   \n",
       "1                               0   \n",
       "2                               0   \n",
       "3                               1   \n",
       "4                               1   \n",
       "\n",
       "   Last Notable Activity_Olark Chat Conversation  \\\n",
       "0                                              0   \n",
       "1                                              0   \n",
       "2                                              0   \n",
       "3                                              0   \n",
       "4                                              0   \n",
       "\n",
       "   Last Notable Activity_Page Visited on Website  \\\n",
       "0                                              0   \n",
       "1                                              0   \n",
       "2                                              0   \n",
       "3                                              0   \n",
       "4                                              0   \n",
       "\n",
       "   Last Notable Activity_Resubscribed to emails  \\\n",
       "0                                             0   \n",
       "1                                             0   \n",
       "2                                             0   \n",
       "3                                             0   \n",
       "4                                             0   \n",
       "\n",
       "   Last Notable Activity_SMS Sent  Last Notable Activity_Unreachable  \\\n",
       "0                               0                                  0   \n",
       "1                               0                                  0   \n",
       "2                               0                                  0   \n",
       "3                               0                                  0   \n",
       "4                               0                                  0   \n",
       "\n",
       "   Last Notable Activity_Unsubscribed  \\\n",
       "0                                   0   \n",
       "1                                   0   \n",
       "2                                   0   \n",
       "3                                   0   \n",
       "4                                   0   \n",
       "\n",
       "   Last Notable Activity_View in browser link Clicked  \n",
       "0                                                  0   \n",
       "1                                                  0   \n",
       "2                                                  0   \n",
       "3                                                  0   \n",
       "4                                                  0   \n",
       "\n",
       "[5 rows x 81 columns]"
      ]
     },
     "execution_count": 41,
     "metadata": {},
     "output_type": "execute_result"
    }
   ],
   "source": [
    "# Putting feature variables to X\n",
    "X = Leads_main.drop(['Converted'], axis=1)\n",
    "\n",
    "X.head()"
   ]
  },
  {
   "cell_type": "code",
   "execution_count": 42,
   "metadata": {},
   "outputs": [
    {
     "data": {
      "text/plain": [
       "0    0\n",
       "1    0\n",
       "2    1\n",
       "3    0\n",
       "4    1\n",
       "Name: Converted, dtype: int64"
      ]
     },
     "execution_count": 42,
     "metadata": {},
     "output_type": "execute_result"
    }
   ],
   "source": [
    "# Putting target variable to y\n",
    "y = Leads_main['Converted']\n",
    "\n",
    "y.head()"
   ]
  },
  {
   "cell_type": "code",
   "execution_count": 43,
   "metadata": {},
   "outputs": [],
   "source": [
    "# Splitting the data into train and test\n",
    "X_train, X_test, y_train, y_test = train_test_split(X, y, train_size=0.7, test_size=0.3, random_state=100)"
   ]
  },
  {
   "cell_type": "code",
   "execution_count": 44,
   "metadata": {},
   "outputs": [
    {
     "data": {
      "text/plain": [
       "(5618, 81)"
      ]
     },
     "execution_count": 44,
     "metadata": {},
     "output_type": "execute_result"
    }
   ],
   "source": [
    "# Checking shape of train data\n",
    "X_train.shape"
   ]
  },
  {
   "cell_type": "code",
   "execution_count": 45,
   "metadata": {
    "scrolled": true
   },
   "outputs": [
    {
     "data": {
      "text/plain": [
       "(2409, 81)"
      ]
     },
     "execution_count": 45,
     "metadata": {},
     "output_type": "execute_result"
    }
   ],
   "source": [
    "# Checking shape of test data\n",
    "X_test.shape"
   ]
  },
  {
   "cell_type": "markdown",
   "metadata": {},
   "source": [
    "### Feature Scaling of Numeric Variables"
   ]
  },
  {
   "cell_type": "code",
   "execution_count": 46,
   "metadata": {},
   "outputs": [],
   "source": [
    "# Importing required python library for Standard Scaling\n",
    "\n",
    "from sklearn.preprocessing import StandardScaler"
   ]
  },
  {
   "cell_type": "code",
   "execution_count": 47,
   "metadata": {},
   "outputs": [
    {
     "data": {
      "text/html": [
       "<div>\n",
       "<style scoped>\n",
       "    .dataframe tbody tr th:only-of-type {\n",
       "        vertical-align: middle;\n",
       "    }\n",
       "\n",
       "    .dataframe tbody tr th {\n",
       "        vertical-align: top;\n",
       "    }\n",
       "\n",
       "    .dataframe thead th {\n",
       "        text-align: right;\n",
       "    }\n",
       "</style>\n",
       "<table border=\"1\" class=\"dataframe\">\n",
       "  <thead>\n",
       "    <tr style=\"text-align: right;\">\n",
       "      <th></th>\n",
       "      <th>Do Not Email</th>\n",
       "      <th>TotalVisits</th>\n",
       "      <th>Total Time Spent on Website</th>\n",
       "      <th>Page Views Per Visit</th>\n",
       "      <th>A free copy of Mastering The Interview</th>\n",
       "      <th>Lead Origin_Landing Page Submission</th>\n",
       "      <th>Lead Origin_Lead Add Form</th>\n",
       "      <th>Lead Origin_Lead Import</th>\n",
       "      <th>Lead Source_Direct Traffic</th>\n",
       "      <th>Lead Source_Facebook</th>\n",
       "      <th>...</th>\n",
       "      <th>Last Notable Activity_Form Submitted on Website</th>\n",
       "      <th>Last Notable Activity_Had a Phone Conversation</th>\n",
       "      <th>Last Notable Activity_Modified</th>\n",
       "      <th>Last Notable Activity_Olark Chat Conversation</th>\n",
       "      <th>Last Notable Activity_Page Visited on Website</th>\n",
       "      <th>Last Notable Activity_Resubscribed to emails</th>\n",
       "      <th>Last Notable Activity_SMS Sent</th>\n",
       "      <th>Last Notable Activity_Unreachable</th>\n",
       "      <th>Last Notable Activity_Unsubscribed</th>\n",
       "      <th>Last Notable Activity_View in browser link Clicked</th>\n",
       "    </tr>\n",
       "  </thead>\n",
       "  <tbody>\n",
       "    <tr>\n",
       "      <th>2626</th>\n",
       "      <td>0</td>\n",
       "      <td>-1.158807</td>\n",
       "      <td>-0.860855</td>\n",
       "      <td>-1.229836</td>\n",
       "      <td>0</td>\n",
       "      <td>0</td>\n",
       "      <td>0</td>\n",
       "      <td>0</td>\n",
       "      <td>0</td>\n",
       "      <td>0</td>\n",
       "      <td>...</td>\n",
       "      <td>0</td>\n",
       "      <td>0</td>\n",
       "      <td>0</td>\n",
       "      <td>0</td>\n",
       "      <td>0</td>\n",
       "      <td>0</td>\n",
       "      <td>1</td>\n",
       "      <td>0</td>\n",
       "      <td>0</td>\n",
       "      <td>0</td>\n",
       "    </tr>\n",
       "    <tr>\n",
       "      <th>2973</th>\n",
       "      <td>0</td>\n",
       "      <td>0.563804</td>\n",
       "      <td>0.097800</td>\n",
       "      <td>1.185400</td>\n",
       "      <td>1</td>\n",
       "      <td>1</td>\n",
       "      <td>0</td>\n",
       "      <td>0</td>\n",
       "      <td>1</td>\n",
       "      <td>0</td>\n",
       "      <td>...</td>\n",
       "      <td>0</td>\n",
       "      <td>0</td>\n",
       "      <td>0</td>\n",
       "      <td>0</td>\n",
       "      <td>1</td>\n",
       "      <td>0</td>\n",
       "      <td>0</td>\n",
       "      <td>0</td>\n",
       "      <td>0</td>\n",
       "      <td>0</td>\n",
       "    </tr>\n",
       "    <tr>\n",
       "      <th>5392</th>\n",
       "      <td>1</td>\n",
       "      <td>-0.728154</td>\n",
       "      <td>-0.109591</td>\n",
       "      <td>-0.626027</td>\n",
       "      <td>0</td>\n",
       "      <td>1</td>\n",
       "      <td>0</td>\n",
       "      <td>0</td>\n",
       "      <td>1</td>\n",
       "      <td>0</td>\n",
       "      <td>...</td>\n",
       "      <td>0</td>\n",
       "      <td>0</td>\n",
       "      <td>1</td>\n",
       "      <td>0</td>\n",
       "      <td>0</td>\n",
       "      <td>0</td>\n",
       "      <td>0</td>\n",
       "      <td>0</td>\n",
       "      <td>0</td>\n",
       "      <td>0</td>\n",
       "    </tr>\n",
       "    <tr>\n",
       "      <th>8344</th>\n",
       "      <td>0</td>\n",
       "      <td>-1.158807</td>\n",
       "      <td>-0.860855</td>\n",
       "      <td>-1.229836</td>\n",
       "      <td>0</td>\n",
       "      <td>0</td>\n",
       "      <td>0</td>\n",
       "      <td>0</td>\n",
       "      <td>0</td>\n",
       "      <td>0</td>\n",
       "      <td>...</td>\n",
       "      <td>0</td>\n",
       "      <td>0</td>\n",
       "      <td>1</td>\n",
       "      <td>0</td>\n",
       "      <td>0</td>\n",
       "      <td>0</td>\n",
       "      <td>0</td>\n",
       "      <td>0</td>\n",
       "      <td>0</td>\n",
       "      <td>0</td>\n",
       "    </tr>\n",
       "    <tr>\n",
       "      <th>1763</th>\n",
       "      <td>0</td>\n",
       "      <td>0.133151</td>\n",
       "      <td>-0.287355</td>\n",
       "      <td>0.581591</td>\n",
       "      <td>0</td>\n",
       "      <td>0</td>\n",
       "      <td>0</td>\n",
       "      <td>0</td>\n",
       "      <td>0</td>\n",
       "      <td>0</td>\n",
       "      <td>...</td>\n",
       "      <td>0</td>\n",
       "      <td>0</td>\n",
       "      <td>1</td>\n",
       "      <td>0</td>\n",
       "      <td>0</td>\n",
       "      <td>0</td>\n",
       "      <td>0</td>\n",
       "      <td>0</td>\n",
       "      <td>0</td>\n",
       "      <td>0</td>\n",
       "    </tr>\n",
       "  </tbody>\n",
       "</table>\n",
       "<p>5 rows × 81 columns</p>\n",
       "</div>"
      ],
      "text/plain": [
       "      Do Not Email  TotalVisits  Total Time Spent on Website  \\\n",
       "2626             0    -1.158807                    -0.860855   \n",
       "2973             0     0.563804                     0.097800   \n",
       "5392             1    -0.728154                    -0.109591   \n",
       "8344             0    -1.158807                    -0.860855   \n",
       "1763             0     0.133151                    -0.287355   \n",
       "\n",
       "      Page Views Per Visit  A free copy of Mastering The Interview  \\\n",
       "2626             -1.229836                                       0   \n",
       "2973              1.185400                                       1   \n",
       "5392             -0.626027                                       0   \n",
       "8344             -1.229836                                       0   \n",
       "1763              0.581591                                       0   \n",
       "\n",
       "      Lead Origin_Landing Page Submission  Lead Origin_Lead Add Form  \\\n",
       "2626                                    0                          0   \n",
       "2973                                    1                          0   \n",
       "5392                                    1                          0   \n",
       "8344                                    0                          0   \n",
       "1763                                    0                          0   \n",
       "\n",
       "      Lead Origin_Lead Import  Lead Source_Direct Traffic  \\\n",
       "2626                        0                           0   \n",
       "2973                        0                           1   \n",
       "5392                        0                           1   \n",
       "8344                        0                           0   \n",
       "1763                        0                           0   \n",
       "\n",
       "      Lead Source_Facebook  \\\n",
       "2626                     0   \n",
       "2973                     0   \n",
       "5392                     0   \n",
       "8344                     0   \n",
       "1763                     0   \n",
       "\n",
       "                             ...                          \\\n",
       "2626                         ...                           \n",
       "2973                         ...                           \n",
       "5392                         ...                           \n",
       "8344                         ...                           \n",
       "1763                         ...                           \n",
       "\n",
       "      Last Notable Activity_Form Submitted on Website  \\\n",
       "2626                                                0   \n",
       "2973                                                0   \n",
       "5392                                                0   \n",
       "8344                                                0   \n",
       "1763                                                0   \n",
       "\n",
       "      Last Notable Activity_Had a Phone Conversation  \\\n",
       "2626                                               0   \n",
       "2973                                               0   \n",
       "5392                                               0   \n",
       "8344                                               0   \n",
       "1763                                               0   \n",
       "\n",
       "      Last Notable Activity_Modified  \\\n",
       "2626                               0   \n",
       "2973                               0   \n",
       "5392                               1   \n",
       "8344                               1   \n",
       "1763                               1   \n",
       "\n",
       "      Last Notable Activity_Olark Chat Conversation  \\\n",
       "2626                                              0   \n",
       "2973                                              0   \n",
       "5392                                              0   \n",
       "8344                                              0   \n",
       "1763                                              0   \n",
       "\n",
       "      Last Notable Activity_Page Visited on Website  \\\n",
       "2626                                              0   \n",
       "2973                                              1   \n",
       "5392                                              0   \n",
       "8344                                              0   \n",
       "1763                                              0   \n",
       "\n",
       "      Last Notable Activity_Resubscribed to emails  \\\n",
       "2626                                             0   \n",
       "2973                                             0   \n",
       "5392                                             0   \n",
       "8344                                             0   \n",
       "1763                                             0   \n",
       "\n",
       "      Last Notable Activity_SMS Sent  Last Notable Activity_Unreachable  \\\n",
       "2626                               1                                  0   \n",
       "2973                               0                                  0   \n",
       "5392                               0                                  0   \n",
       "8344                               0                                  0   \n",
       "1763                               0                                  0   \n",
       "\n",
       "      Last Notable Activity_Unsubscribed  \\\n",
       "2626                                   0   \n",
       "2973                                   0   \n",
       "5392                                   0   \n",
       "8344                                   0   \n",
       "1763                                   0   \n",
       "\n",
       "      Last Notable Activity_View in browser link Clicked  \n",
       "2626                                                  0   \n",
       "2973                                                  0   \n",
       "5392                                                  0   \n",
       "8344                                                  0   \n",
       "1763                                                  0   \n",
       "\n",
       "[5 rows x 81 columns]"
      ]
     },
     "execution_count": 47,
     "metadata": {},
     "output_type": "execute_result"
    }
   ],
   "source": [
    "# instantiating an Standard Scaler object\n",
    "scaler = StandardScaler()\n",
    "\n",
    "# Scaling the numeric variables data\n",
    "X_train[['TotalVisits','Total Time Spent on Website','Page Views Per Visit']] = scaler.fit_transform(X_train[['TotalVisits','Total Time Spent on Website','Page Views Per Visit']])\n",
    "\n",
    "X_train.head()"
   ]
  },
  {
   "cell_type": "code",
   "execution_count": 48,
   "metadata": {},
   "outputs": [
    {
     "data": {
      "text/plain": [
       "35.91628254640588"
      ]
     },
     "execution_count": 48,
     "metadata": {},
     "output_type": "execute_result"
    }
   ],
   "source": [
    "# Checking the data imbalance for 'Converted' column\n",
    "Converted = (sum(Leads_main['Converted'])/len(Leads_main['Converted'].index))*100\n",
    "Converted"
   ]
  },
  {
   "cell_type": "markdown",
   "metadata": {},
   "source": [
    "We have almost 36% converted values in the given dataset."
   ]
  },
  {
   "cell_type": "markdown",
   "metadata": {},
   "source": [
    "#### Running First Training Model with All variables"
   ]
  },
  {
   "cell_type": "code",
   "execution_count": 49,
   "metadata": {},
   "outputs": [],
   "source": [
    "# importing required python library for modeling\n",
    "import statsmodels.api as sm"
   ]
  },
  {
   "cell_type": "code",
   "execution_count": 50,
   "metadata": {
    "scrolled": true
   },
   "outputs": [
    {
     "data": {
      "text/html": [
       "<table class=\"simpletable\">\n",
       "<caption>Generalized Linear Model Regression Results</caption>\n",
       "<tr>\n",
       "  <th>Dep. Variable:</th>      <td>Converted</td>    <th>  No. Observations:  </th>  <td>  5618</td>  \n",
       "</tr>\n",
       "<tr>\n",
       "  <th>Model:</th>                 <td>GLM</td>       <th>  Df Residuals:      </th>  <td>  5544</td>  \n",
       "</tr>\n",
       "<tr>\n",
       "  <th>Model Family:</th>       <td>Binomial</td>     <th>  Df Model:          </th>  <td>    73</td>  \n",
       "</tr>\n",
       "<tr>\n",
       "  <th>Link Function:</th>        <td>logit</td>      <th>  Scale:             </th> <td>  1.0000</td> \n",
       "</tr>\n",
       "<tr>\n",
       "  <th>Method:</th>               <td>IRLS</td>       <th>  Log-Likelihood:    </th> <td>     nan</td> \n",
       "</tr>\n",
       "<tr>\n",
       "  <th>Date:</th>           <td>Mon, 06 Jan 2020</td> <th>  Deviance:          </th> <td>     nan</td> \n",
       "</tr>\n",
       "<tr>\n",
       "  <th>Time:</th>               <td>22:38:13</td>     <th>  Pearson chi2:      </th> <td>6.50e+18</td> \n",
       "</tr>\n",
       "<tr>\n",
       "  <th>No. Iterations:</th>        <td>100</td>       <th>  Covariance Type:   </th> <td>nonrobust</td>\n",
       "</tr>\n",
       "</table>\n",
       "<table class=\"simpletable\">\n",
       "<tr>\n",
       "                            <td></td>                              <th>coef</th>     <th>std err</th>      <th>z</th>      <th>P>|z|</th>  <th>[0.025</th>    <th>0.975]</th>  \n",
       "</tr>\n",
       "<tr>\n",
       "  <th>const</th>                                                <td>-7.441e+14</td> <td> 8.57e+07</td> <td>-8.68e+06</td> <td> 0.000</td> <td>-7.44e+14</td> <td>-7.44e+14</td>\n",
       "</tr>\n",
       "<tr>\n",
       "  <th>Do Not Email</th>                                         <td>-5.754e+13</td> <td> 4.83e+06</td> <td>-1.19e+07</td> <td> 0.000</td> <td>-5.75e+13</td> <td>-5.75e+13</td>\n",
       "</tr>\n",
       "<tr>\n",
       "  <th>TotalVisits</th>                                          <td>   1.8e+14</td> <td> 1.56e+06</td> <td> 1.15e+08</td> <td> 0.000</td> <td>  1.8e+14</td> <td>  1.8e+14</td>\n",
       "</tr>\n",
       "<tr>\n",
       "  <th>Total Time Spent on Website</th>                          <td> 7.825e+14</td> <td> 1.06e+06</td> <td>  7.4e+08</td> <td> 0.000</td> <td> 7.82e+14</td> <td> 7.82e+14</td>\n",
       "</tr>\n",
       "<tr>\n",
       "  <th>Page Views Per Visit</th>                                 <td>-9.261e+13</td> <td> 1.72e+06</td> <td> -5.4e+07</td> <td> 0.000</td> <td>-9.26e+13</td> <td>-9.26e+13</td>\n",
       "</tr>\n",
       "<tr>\n",
       "  <th>A free copy of Mastering The Interview</th>               <td>-3.736e+13</td> <td> 2.89e+06</td> <td>-1.29e+07</td> <td> 0.000</td> <td>-3.74e+13</td> <td>-3.74e+13</td>\n",
       "</tr>\n",
       "<tr>\n",
       "  <th>Lead Origin_Landing Page Submission</th>                  <td> 3.561e+13</td> <td> 2.99e+06</td> <td> 1.19e+07</td> <td> 0.000</td> <td> 3.56e+13</td> <td> 3.56e+13</td>\n",
       "</tr>\n",
       "<tr>\n",
       "  <th>Lead Origin_Lead Add Form</th>                            <td> 5.332e+15</td> <td> 6.73e+07</td> <td> 7.92e+07</td> <td> 0.000</td> <td> 5.33e+15</td> <td> 5.33e+15</td>\n",
       "</tr>\n",
       "<tr>\n",
       "  <th>Lead Origin_Lead Import</th>                              <td>  2.73e+15</td> <td> 6.95e+07</td> <td> 3.93e+07</td> <td> 0.000</td> <td> 2.73e+15</td> <td> 2.73e+15</td>\n",
       "</tr>\n",
       "<tr>\n",
       "  <th>Lead Source_Direct Traffic</th>                           <td> 5.117e+15</td> <td> 7.77e+07</td> <td> 6.58e+07</td> <td> 0.000</td> <td> 5.12e+15</td> <td> 5.12e+15</td>\n",
       "</tr>\n",
       "<tr>\n",
       "  <th>Lead Source_Facebook</th>                                 <td> 7.505e+14</td> <td> 1.03e+08</td> <td>  7.3e+06</td> <td> 0.000</td> <td> 7.51e+14</td> <td> 7.51e+14</td>\n",
       "</tr>\n",
       "<tr>\n",
       "  <th>Lead Source_Google</th>                                   <td> 5.342e+15</td> <td> 7.76e+07</td> <td> 6.88e+07</td> <td> 0.000</td> <td> 5.34e+15</td> <td> 5.34e+15</td>\n",
       "</tr>\n",
       "<tr>\n",
       "  <th>Lead Source_Live Chat</th>                                <td> 6.353e+15</td> <td> 6.14e+07</td> <td> 1.04e+08</td> <td> 0.000</td> <td> 6.35e+15</td> <td> 6.35e+15</td>\n",
       "</tr>\n",
       "<tr>\n",
       "  <th>Lead Source_NC_EDM</th>                                   <td>  -32.7815</td> <td> 1.04e-06</td> <td>-3.15e+07</td> <td> 0.000</td> <td>  -32.782</td> <td>  -32.782</td>\n",
       "</tr>\n",
       "<tr>\n",
       "  <th>Lead Source_Olark Chat</th>                               <td> 5.047e+15</td> <td> 7.78e+07</td> <td> 6.49e+07</td> <td> 0.000</td> <td> 5.05e+15</td> <td> 5.05e+15</td>\n",
       "</tr>\n",
       "<tr>\n",
       "  <th>Lead Source_Organic Search</th>                           <td> 5.171e+15</td> <td> 7.77e+07</td> <td> 6.65e+07</td> <td> 0.000</td> <td> 5.17e+15</td> <td> 5.17e+15</td>\n",
       "</tr>\n",
       "<tr>\n",
       "  <th>Lead Source_Pay per Click Ads</th>                        <td> 1.029e+15</td> <td> 1.03e+08</td> <td>    1e+07</td> <td> 0.000</td> <td> 1.03e+15</td> <td> 1.03e+15</td>\n",
       "</tr>\n",
       "<tr>\n",
       "  <th>Lead Source_Press_Release</th>                            <td> 1.019e+15</td> <td> 1.03e+08</td> <td> 9.89e+06</td> <td> 0.000</td> <td> 1.02e+15</td> <td> 1.02e+15</td>\n",
       "</tr>\n",
       "<tr>\n",
       "  <th>Lead Source_Reference</th>                                <td>   2.1e+15</td> <td>  3.9e+07</td> <td> 5.38e+07</td> <td> 0.000</td> <td>  2.1e+15</td> <td>  2.1e+15</td>\n",
       "</tr>\n",
       "<tr>\n",
       "  <th>Lead Source_Referral Sites</th>                           <td> 4.901e+15</td> <td> 7.81e+07</td> <td> 6.28e+07</td> <td> 0.000</td> <td>  4.9e+15</td> <td>  4.9e+15</td>\n",
       "</tr>\n",
       "<tr>\n",
       "  <th>Lead Source_Social Media</th>                             <td> 5.302e+15</td> <td> 9.12e+07</td> <td> 5.81e+07</td> <td> 0.000</td> <td>  5.3e+15</td> <td>  5.3e+15</td>\n",
       "</tr>\n",
       "<tr>\n",
       "  <th>Lead Source_WeLearn</th>                                  <td> 8.651e+15</td> <td> 1.03e+08</td> <td> 8.42e+07</td> <td> 0.000</td> <td> 8.65e+15</td> <td> 8.65e+15</td>\n",
       "</tr>\n",
       "<tr>\n",
       "  <th>Lead Source_Welingak Website</th>                         <td> 2.027e+15</td> <td> 3.95e+07</td> <td> 5.13e+07</td> <td> 0.000</td> <td> 2.03e+15</td> <td> 2.03e+15</td>\n",
       "</tr>\n",
       "<tr>\n",
       "  <th>Lead Source_bing</th>                                     <td> 1.801e+15</td> <td> 9.11e+07</td> <td> 1.98e+07</td> <td> 0.000</td> <td>  1.8e+15</td> <td>  1.8e+15</td>\n",
       "</tr>\n",
       "<tr>\n",
       "  <th>Lead Source_blog</th>                                     <td> 4.632e+14</td> <td> 1.03e+08</td> <td> 4.51e+06</td> <td> 0.000</td> <td> 4.63e+14</td> <td> 4.63e+14</td>\n",
       "</tr>\n",
       "<tr>\n",
       "  <th>Lead Source_google</th>                                   <td> 6.829e+14</td> <td> 8.34e+07</td> <td> 8.19e+06</td> <td> 0.000</td> <td> 6.83e+14</td> <td> 6.83e+14</td>\n",
       "</tr>\n",
       "<tr>\n",
       "  <th>Lead Source_testone</th>                                  <td> 5.469e+14</td> <td> 1.03e+08</td> <td> 5.33e+06</td> <td> 0.000</td> <td> 5.47e+14</td> <td> 5.47e+14</td>\n",
       "</tr>\n",
       "<tr>\n",
       "  <th>Lead Source_welearnblog_Home</th>                         <td> -147.3541</td> <td> 4.01e-06</td> <td>-3.68e+07</td> <td> 0.000</td> <td> -147.354</td> <td> -147.354</td>\n",
       "</tr>\n",
       "<tr>\n",
       "  <th>Lead Source_youtubechannel</th>                           <td>-5.949e+13</td> <td> 1.04e+08</td> <td>-5.74e+05</td> <td> 0.000</td> <td>-5.95e+13</td> <td>-5.95e+13</td>\n",
       "</tr>\n",
       "<tr>\n",
       "  <th>Last Activity_Converted to Lead</th>                      <td>-3.767e+15</td> <td> 3.91e+07</td> <td>-9.63e+07</td> <td> 0.000</td> <td>-3.77e+15</td> <td>-3.77e+15</td>\n",
       "</tr>\n",
       "<tr>\n",
       "  <th>Last Activity_Email Bounced</th>                          <td> -4.91e+15</td> <td> 3.95e+07</td> <td>-1.24e+08</td> <td> 0.000</td> <td>-4.91e+15</td> <td>-4.91e+15</td>\n",
       "</tr>\n",
       "<tr>\n",
       "  <th>Last Activity_Email Link Clicked</th>                     <td>-3.451e+15</td> <td> 3.98e+07</td> <td>-8.67e+07</td> <td> 0.000</td> <td>-3.45e+15</td> <td>-3.45e+15</td>\n",
       "</tr>\n",
       "<tr>\n",
       "  <th>Last Activity_Email Marked Spam</th>                      <td>   60.6630</td> <td> 5.39e-07</td> <td> 1.12e+08</td> <td> 0.000</td> <td>   60.663</td> <td>   60.663</td>\n",
       "</tr>\n",
       "<tr>\n",
       "  <th>Last Activity_Email Opened</th>                           <td>-3.193e+15</td> <td>  3.9e+07</td> <td>-8.19e+07</td> <td> 0.000</td> <td>-3.19e+15</td> <td>-3.19e+15</td>\n",
       "</tr>\n",
       "<tr>\n",
       "  <th>Last Activity_Email Received</th>                         <td>-5.271e+15</td> <td> 7.76e+07</td> <td>-6.79e+07</td> <td> 0.000</td> <td>-5.27e+15</td> <td>-5.27e+15</td>\n",
       "</tr>\n",
       "<tr>\n",
       "  <th>Last Activity_Form Submitted on Website</th>              <td>-3.876e+15</td> <td> 3.97e+07</td> <td>-9.77e+07</td> <td> 0.000</td> <td>-3.88e+15</td> <td>-3.88e+15</td>\n",
       "</tr>\n",
       "<tr>\n",
       "  <th>Last Activity_Had a Phone Conversation</th>               <td>-5.049e+15</td> <td> 4.75e+07</td> <td>-1.06e+08</td> <td> 0.000</td> <td>-5.05e+15</td> <td>-5.05e+15</td>\n",
       "</tr>\n",
       "<tr>\n",
       "  <th>Last Activity_Olark Chat Conversation</th>                <td>-3.662e+15</td> <td>  3.9e+07</td> <td>-9.39e+07</td> <td> 0.000</td> <td>-3.66e+15</td> <td>-3.66e+15</td>\n",
       "</tr>\n",
       "<tr>\n",
       "  <th>Last Activity_Page Visited on Website</th>                <td>-4.129e+15</td> <td> 3.92e+07</td> <td>-1.05e+08</td> <td> 0.000</td> <td>-4.13e+15</td> <td>-4.13e+15</td>\n",
       "</tr>\n",
       "<tr>\n",
       "  <th>Last Activity_Resubscribed to emails</th>                 <td> 3.697e+14</td> <td> 3.69e+07</td> <td>    1e+07</td> <td> 0.000</td> <td>  3.7e+14</td> <td>  3.7e+14</td>\n",
       "</tr>\n",
       "<tr>\n",
       "  <th>Last Activity_SMS Sent</th>                               <td> -3.59e+15</td> <td>  3.9e+07</td> <td> -9.2e+07</td> <td> 0.000</td> <td>-3.59e+15</td> <td>-3.59e+15</td>\n",
       "</tr>\n",
       "<tr>\n",
       "  <th>Last Activity_Unreachable</th>                            <td>-4.167e+15</td> <td> 4.04e+07</td> <td>-1.03e+08</td> <td> 0.000</td> <td>-4.17e+15</td> <td>-4.17e+15</td>\n",
       "</tr>\n",
       "<tr>\n",
       "  <th>Last Activity_Unsubscribed</th>                           <td>-5.021e+15</td> <td> 4.45e+07</td> <td>-1.13e+08</td> <td> 0.000</td> <td>-5.02e+15</td> <td>-5.02e+15</td>\n",
       "</tr>\n",
       "<tr>\n",
       "  <th>Last Activity_View in browser link Clicked</th>           <td>-7.195e+15</td> <td> 6.14e+07</td> <td>-1.17e+08</td> <td> 0.000</td> <td> -7.2e+15</td> <td> -7.2e+15</td>\n",
       "</tr>\n",
       "<tr>\n",
       "  <th>Last Activity_Visited Booth in Tradeshow</th>             <td>-7.551e+15</td> <td> 7.76e+07</td> <td>-9.73e+07</td> <td> 0.000</td> <td>-7.55e+15</td> <td>-7.55e+15</td>\n",
       "</tr>\n",
       "<tr>\n",
       "  <th>Specialization_Business Administration</th>               <td> 4.496e+13</td> <td> 5.23e+06</td> <td>  8.6e+06</td> <td> 0.000</td> <td>  4.5e+13</td> <td>  4.5e+13</td>\n",
       "</tr>\n",
       "<tr>\n",
       "  <th>Specialization_E-Business</th>                            <td> 1.868e+14</td> <td> 9.95e+06</td> <td> 1.88e+07</td> <td> 0.000</td> <td> 1.87e+14</td> <td> 1.87e+14</td>\n",
       "</tr>\n",
       "<tr>\n",
       "  <th>Specialization_E-COMMERCE</th>                            <td>-9.164e+13</td> <td> 7.87e+06</td> <td>-1.17e+07</td> <td> 0.000</td> <td>-9.16e+13</td> <td>-9.16e+13</td>\n",
       "</tr>\n",
       "<tr>\n",
       "  <th>Specialization_Finance Management</th>                    <td>-8.742e+13</td> <td> 4.46e+06</td> <td>-1.96e+07</td> <td> 0.000</td> <td>-8.74e+13</td> <td>-8.74e+13</td>\n",
       "</tr>\n",
       "<tr>\n",
       "  <th>Specialization_Healthcare Management</th>                 <td>-6.561e+13</td> <td>  6.7e+06</td> <td> -9.8e+06</td> <td> 0.000</td> <td>-6.56e+13</td> <td>-6.56e+13</td>\n",
       "</tr>\n",
       "<tr>\n",
       "  <th>Specialization_Hospitality Management</th>                <td> -1.79e+14</td> <td> 7.41e+06</td> <td>-2.42e+07</td> <td> 0.000</td> <td>-1.79e+14</td> <td>-1.79e+14</td>\n",
       "</tr>\n",
       "<tr>\n",
       "  <th>Specialization_Human Resource Management</th>             <td> 3.719e+13</td> <td> 4.52e+06</td> <td> 8.22e+06</td> <td> 0.000</td> <td> 3.72e+13</td> <td> 3.72e+13</td>\n",
       "</tr>\n",
       "<tr>\n",
       "  <th>Specialization_IT Projects Management</th>                <td> 4.584e+13</td> <td>  5.3e+06</td> <td> 8.65e+06</td> <td> 0.000</td> <td> 4.58e+13</td> <td> 4.58e+13</td>\n",
       "</tr>\n",
       "<tr>\n",
       "  <th>Specialization_International Business</th>                <td>-1.154e+14</td> <td> 6.47e+06</td> <td>-1.79e+07</td> <td> 0.000</td> <td>-1.15e+14</td> <td>-1.15e+14</td>\n",
       "</tr>\n",
       "<tr>\n",
       "  <th>Specialization_Marketing Management</th>                  <td> 1.895e+14</td> <td> 4.51e+06</td> <td>  4.2e+07</td> <td> 0.000</td> <td>  1.9e+14</td> <td>  1.9e+14</td>\n",
       "</tr>\n",
       "<tr>\n",
       "  <th>Specialization_Media and Advertising</th>                 <td>-1.692e+14</td> <td> 6.38e+06</td> <td>-2.65e+07</td> <td> 0.000</td> <td>-1.69e+14</td> <td>-1.69e+14</td>\n",
       "</tr>\n",
       "<tr>\n",
       "  <th>Specialization_Operations Management</th>                 <td>-2.619e+13</td> <td> 4.92e+06</td> <td>-5.33e+06</td> <td> 0.000</td> <td>-2.62e+13</td> <td>-2.62e+13</td>\n",
       "</tr>\n",
       "<tr>\n",
       "  <th>Specialization_Retail Management</th>                     <td> 1.525e+13</td> <td> 7.56e+06</td> <td> 2.02e+06</td> <td> 0.000</td> <td> 1.53e+13</td> <td> 1.53e+13</td>\n",
       "</tr>\n",
       "<tr>\n",
       "  <th>Specialization_Rural and Agribusiness</th>                <td>-5.444e+14</td> <td> 9.09e+06</td> <td>-5.99e+07</td> <td> 0.000</td> <td>-5.44e+14</td> <td>-5.44e+14</td>\n",
       "</tr>\n",
       "<tr>\n",
       "  <th>Specialization_Services Excellence</th>                   <td>-3.193e+14</td> <td> 1.14e+07</td> <td>-2.81e+07</td> <td> 0.000</td> <td>-3.19e+14</td> <td>-3.19e+14</td>\n",
       "</tr>\n",
       "<tr>\n",
       "  <th>Specialization_Supply Chain Management</th>               <td> 1.771e+13</td> <td> 5.36e+06</td> <td>  3.3e+06</td> <td> 0.000</td> <td> 1.77e+13</td> <td> 1.77e+13</td>\n",
       "</tr>\n",
       "<tr>\n",
       "  <th>Specialization_Travel and Tourism</th>                    <td> 4.128e+13</td> <td> 6.11e+06</td> <td> 6.75e+06</td> <td> 0.000</td> <td> 4.13e+13</td> <td> 4.13e+13</td>\n",
       "</tr>\n",
       "<tr>\n",
       "  <th>What is your current occupation_Housewife</th>            <td>-8.634e+14</td> <td> 4.36e+07</td> <td>-1.98e+07</td> <td> 0.000</td> <td>-8.63e+14</td> <td>-8.63e+14</td>\n",
       "</tr>\n",
       "<tr>\n",
       "  <th>What is your current occupation_Other</th>                <td> 6.403e+14</td> <td> 3.77e+07</td> <td>  1.7e+07</td> <td> 0.000</td> <td>  6.4e+14</td> <td>  6.4e+14</td>\n",
       "</tr>\n",
       "<tr>\n",
       "  <th>What is your current occupation_Student</th>              <td> 1.998e+14</td> <td> 3.41e+07</td> <td> 5.86e+06</td> <td> 0.000</td> <td>    2e+14</td> <td>    2e+14</td>\n",
       "</tr>\n",
       "<tr>\n",
       "  <th>What is your current occupation_Unemployed</th>           <td>-8.061e+12</td> <td> 3.37e+07</td> <td>-2.39e+05</td> <td> 0.000</td> <td>-8.06e+12</td> <td>-8.06e+12</td>\n",
       "</tr>\n",
       "<tr>\n",
       "  <th>What is your current occupation_Working Professional</th> <td>-3.147e+12</td> <td> 3.38e+07</td> <td> -9.3e+04</td> <td> 0.000</td> <td>-3.15e+12</td> <td>-3.15e+12</td>\n",
       "</tr>\n",
       "<tr>\n",
       "  <th>Last Notable Activity_Email Bounced</th>                  <td>-1.865e+13</td> <td> 1.63e+07</td> <td>-1.14e+06</td> <td> 0.000</td> <td>-1.87e+13</td> <td>-1.87e+13</td>\n",
       "</tr>\n",
       "<tr>\n",
       "  <th>Last Notable Activity_Email Link Clicked</th>             <td>-7.807e+14</td> <td> 1.58e+07</td> <td>-4.94e+07</td> <td> 0.000</td> <td>-7.81e+14</td> <td>-7.81e+14</td>\n",
       "</tr>\n",
       "<tr>\n",
       "  <th>Last Notable Activity_Email Marked Spam</th>              <td>    0.3962</td> <td>  1.7e-08</td> <td> 2.33e+07</td> <td> 0.000</td> <td>    0.396</td> <td>    0.396</td>\n",
       "</tr>\n",
       "<tr>\n",
       "  <th>Last Notable Activity_Email Opened</th>                   <td>-1.486e+15</td> <td> 1.28e+07</td> <td>-1.16e+08</td> <td> 0.000</td> <td>-1.49e+15</td> <td>-1.49e+15</td>\n",
       "</tr>\n",
       "<tr>\n",
       "  <th>Last Notable Activity_Email Received</th>                 <td> 4.366e+15</td> <td> 8.79e+07</td> <td> 4.97e+07</td> <td> 0.000</td> <td> 4.37e+15</td> <td> 4.37e+15</td>\n",
       "</tr>\n",
       "<tr>\n",
       "  <th>Last Notable Activity_Form Submitted on Website</th>      <td>    2.3389</td> <td> 3.38e-08</td> <td> 6.92e+07</td> <td> 0.000</td> <td>    2.339</td> <td>    2.339</td>\n",
       "</tr>\n",
       "<tr>\n",
       "  <th>Last Notable Activity_Had a Phone Conversation</th>       <td> 1.041e+15</td> <td> 3.64e+07</td> <td> 2.86e+07</td> <td> 0.000</td> <td> 1.04e+15</td> <td> 1.04e+15</td>\n",
       "</tr>\n",
       "<tr>\n",
       "  <th>Last Notable Activity_Modified</th>                       <td>-9.433e+14</td> <td> 1.23e+07</td> <td>-7.66e+07</td> <td> 0.000</td> <td>-9.43e+14</td> <td>-9.43e+14</td>\n",
       "</tr>\n",
       "<tr>\n",
       "  <th>Last Notable Activity_Olark Chat Conversation</th>        <td>-7.936e+14</td> <td> 1.38e+07</td> <td>-5.75e+07</td> <td> 0.000</td> <td>-7.94e+14</td> <td>-7.94e+14</td>\n",
       "</tr>\n",
       "<tr>\n",
       "  <th>Last Notable Activity_Page Visited on Website</th>        <td>-6.041e+14</td> <td>  1.4e+07</td> <td>-4.32e+07</td> <td> 0.000</td> <td>-6.04e+14</td> <td>-6.04e+14</td>\n",
       "</tr>\n",
       "<tr>\n",
       "  <th>Last Notable Activity_Resubscribed to emails</th>         <td> 3.697e+14</td> <td> 3.69e+07</td> <td>    1e+07</td> <td> 0.000</td> <td>  3.7e+14</td> <td>  3.7e+14</td>\n",
       "</tr>\n",
       "<tr>\n",
       "  <th>Last Notable Activity_SMS Sent</th>                       <td>-1.851e+15</td> <td> 1.29e+07</td> <td>-1.44e+08</td> <td> 0.000</td> <td>-1.85e+15</td> <td>-1.85e+15</td>\n",
       "</tr>\n",
       "<tr>\n",
       "  <th>Last Notable Activity_Unreachable</th>                    <td> -8.19e+14</td> <td> 2.33e+07</td> <td>-3.51e+07</td> <td> 0.000</td> <td>-8.19e+14</td> <td>-8.19e+14</td>\n",
       "</tr>\n",
       "<tr>\n",
       "  <th>Last Notable Activity_Unsubscribed</th>                   <td> 7.749e+14</td> <td> 2.61e+07</td> <td> 2.97e+07</td> <td> 0.000</td> <td> 7.75e+14</td> <td> 7.75e+14</td>\n",
       "</tr>\n",
       "<tr>\n",
       "  <th>Last Notable Activity_View in browser link Clicked</th>   <td>         0</td> <td>        0</td> <td>      nan</td> <td>   nan</td> <td>        0</td> <td>        0</td>\n",
       "</tr>\n",
       "</table>"
      ],
      "text/plain": [
       "<class 'statsmodels.iolib.summary.Summary'>\n",
       "\"\"\"\n",
       "                 Generalized Linear Model Regression Results                  \n",
       "==============================================================================\n",
       "Dep. Variable:              Converted   No. Observations:                 5618\n",
       "Model:                            GLM   Df Residuals:                     5544\n",
       "Model Family:                Binomial   Df Model:                           73\n",
       "Link Function:                  logit   Scale:                          1.0000\n",
       "Method:                          IRLS   Log-Likelihood:                    nan\n",
       "Date:                Mon, 06 Jan 2020   Deviance:                          nan\n",
       "Time:                        22:38:13   Pearson chi2:                 6.50e+18\n",
       "No. Iterations:                   100   Covariance Type:             nonrobust\n",
       "========================================================================================================================\n",
       "                                                           coef    std err          z      P>|z|      [0.025      0.975]\n",
       "------------------------------------------------------------------------------------------------------------------------\n",
       "const                                                -7.441e+14   8.57e+07  -8.68e+06      0.000   -7.44e+14   -7.44e+14\n",
       "Do Not Email                                         -5.754e+13   4.83e+06  -1.19e+07      0.000   -5.75e+13   -5.75e+13\n",
       "TotalVisits                                             1.8e+14   1.56e+06   1.15e+08      0.000     1.8e+14     1.8e+14\n",
       "Total Time Spent on Website                           7.825e+14   1.06e+06    7.4e+08      0.000    7.82e+14    7.82e+14\n",
       "Page Views Per Visit                                 -9.261e+13   1.72e+06   -5.4e+07      0.000   -9.26e+13   -9.26e+13\n",
       "A free copy of Mastering The Interview               -3.736e+13   2.89e+06  -1.29e+07      0.000   -3.74e+13   -3.74e+13\n",
       "Lead Origin_Landing Page Submission                   3.561e+13   2.99e+06   1.19e+07      0.000    3.56e+13    3.56e+13\n",
       "Lead Origin_Lead Add Form                             5.332e+15   6.73e+07   7.92e+07      0.000    5.33e+15    5.33e+15\n",
       "Lead Origin_Lead Import                                2.73e+15   6.95e+07   3.93e+07      0.000    2.73e+15    2.73e+15\n",
       "Lead Source_Direct Traffic                            5.117e+15   7.77e+07   6.58e+07      0.000    5.12e+15    5.12e+15\n",
       "Lead Source_Facebook                                  7.505e+14   1.03e+08    7.3e+06      0.000    7.51e+14    7.51e+14\n",
       "Lead Source_Google                                    5.342e+15   7.76e+07   6.88e+07      0.000    5.34e+15    5.34e+15\n",
       "Lead Source_Live Chat                                 6.353e+15   6.14e+07   1.04e+08      0.000    6.35e+15    6.35e+15\n",
       "Lead Source_NC_EDM                                     -32.7815   1.04e-06  -3.15e+07      0.000     -32.782     -32.782\n",
       "Lead Source_Olark Chat                                5.047e+15   7.78e+07   6.49e+07      0.000    5.05e+15    5.05e+15\n",
       "Lead Source_Organic Search                            5.171e+15   7.77e+07   6.65e+07      0.000    5.17e+15    5.17e+15\n",
       "Lead Source_Pay per Click Ads                         1.029e+15   1.03e+08      1e+07      0.000    1.03e+15    1.03e+15\n",
       "Lead Source_Press_Release                             1.019e+15   1.03e+08   9.89e+06      0.000    1.02e+15    1.02e+15\n",
       "Lead Source_Reference                                   2.1e+15    3.9e+07   5.38e+07      0.000     2.1e+15     2.1e+15\n",
       "Lead Source_Referral Sites                            4.901e+15   7.81e+07   6.28e+07      0.000     4.9e+15     4.9e+15\n",
       "Lead Source_Social Media                              5.302e+15   9.12e+07   5.81e+07      0.000     5.3e+15     5.3e+15\n",
       "Lead Source_WeLearn                                   8.651e+15   1.03e+08   8.42e+07      0.000    8.65e+15    8.65e+15\n",
       "Lead Source_Welingak Website                          2.027e+15   3.95e+07   5.13e+07      0.000    2.03e+15    2.03e+15\n",
       "Lead Source_bing                                      1.801e+15   9.11e+07   1.98e+07      0.000     1.8e+15     1.8e+15\n",
       "Lead Source_blog                                      4.632e+14   1.03e+08   4.51e+06      0.000    4.63e+14    4.63e+14\n",
       "Lead Source_google                                    6.829e+14   8.34e+07   8.19e+06      0.000    6.83e+14    6.83e+14\n",
       "Lead Source_testone                                   5.469e+14   1.03e+08   5.33e+06      0.000    5.47e+14    5.47e+14\n",
       "Lead Source_welearnblog_Home                          -147.3541   4.01e-06  -3.68e+07      0.000    -147.354    -147.354\n",
       "Lead Source_youtubechannel                           -5.949e+13   1.04e+08  -5.74e+05      0.000   -5.95e+13   -5.95e+13\n",
       "Last Activity_Converted to Lead                      -3.767e+15   3.91e+07  -9.63e+07      0.000   -3.77e+15   -3.77e+15\n",
       "Last Activity_Email Bounced                           -4.91e+15   3.95e+07  -1.24e+08      0.000   -4.91e+15   -4.91e+15\n",
       "Last Activity_Email Link Clicked                     -3.451e+15   3.98e+07  -8.67e+07      0.000   -3.45e+15   -3.45e+15\n",
       "Last Activity_Email Marked Spam                         60.6630   5.39e-07   1.12e+08      0.000      60.663      60.663\n",
       "Last Activity_Email Opened                           -3.193e+15    3.9e+07  -8.19e+07      0.000   -3.19e+15   -3.19e+15\n",
       "Last Activity_Email Received                         -5.271e+15   7.76e+07  -6.79e+07      0.000   -5.27e+15   -5.27e+15\n",
       "Last Activity_Form Submitted on Website              -3.876e+15   3.97e+07  -9.77e+07      0.000   -3.88e+15   -3.88e+15\n",
       "Last Activity_Had a Phone Conversation               -5.049e+15   4.75e+07  -1.06e+08      0.000   -5.05e+15   -5.05e+15\n",
       "Last Activity_Olark Chat Conversation                -3.662e+15    3.9e+07  -9.39e+07      0.000   -3.66e+15   -3.66e+15\n",
       "Last Activity_Page Visited on Website                -4.129e+15   3.92e+07  -1.05e+08      0.000   -4.13e+15   -4.13e+15\n",
       "Last Activity_Resubscribed to emails                  3.697e+14   3.69e+07      1e+07      0.000     3.7e+14     3.7e+14\n",
       "Last Activity_SMS Sent                                -3.59e+15    3.9e+07   -9.2e+07      0.000   -3.59e+15   -3.59e+15\n",
       "Last Activity_Unreachable                            -4.167e+15   4.04e+07  -1.03e+08      0.000   -4.17e+15   -4.17e+15\n",
       "Last Activity_Unsubscribed                           -5.021e+15   4.45e+07  -1.13e+08      0.000   -5.02e+15   -5.02e+15\n",
       "Last Activity_View in browser link Clicked           -7.195e+15   6.14e+07  -1.17e+08      0.000    -7.2e+15    -7.2e+15\n",
       "Last Activity_Visited Booth in Tradeshow             -7.551e+15   7.76e+07  -9.73e+07      0.000   -7.55e+15   -7.55e+15\n",
       "Specialization_Business Administration                4.496e+13   5.23e+06    8.6e+06      0.000     4.5e+13     4.5e+13\n",
       "Specialization_E-Business                             1.868e+14   9.95e+06   1.88e+07      0.000    1.87e+14    1.87e+14\n",
       "Specialization_E-COMMERCE                            -9.164e+13   7.87e+06  -1.17e+07      0.000   -9.16e+13   -9.16e+13\n",
       "Specialization_Finance Management                    -8.742e+13   4.46e+06  -1.96e+07      0.000   -8.74e+13   -8.74e+13\n",
       "Specialization_Healthcare Management                 -6.561e+13    6.7e+06   -9.8e+06      0.000   -6.56e+13   -6.56e+13\n",
       "Specialization_Hospitality Management                 -1.79e+14   7.41e+06  -2.42e+07      0.000   -1.79e+14   -1.79e+14\n",
       "Specialization_Human Resource Management              3.719e+13   4.52e+06   8.22e+06      0.000    3.72e+13    3.72e+13\n",
       "Specialization_IT Projects Management                 4.584e+13    5.3e+06   8.65e+06      0.000    4.58e+13    4.58e+13\n",
       "Specialization_International Business                -1.154e+14   6.47e+06  -1.79e+07      0.000   -1.15e+14   -1.15e+14\n",
       "Specialization_Marketing Management                   1.895e+14   4.51e+06    4.2e+07      0.000     1.9e+14     1.9e+14\n",
       "Specialization_Media and Advertising                 -1.692e+14   6.38e+06  -2.65e+07      0.000   -1.69e+14   -1.69e+14\n",
       "Specialization_Operations Management                 -2.619e+13   4.92e+06  -5.33e+06      0.000   -2.62e+13   -2.62e+13\n",
       "Specialization_Retail Management                      1.525e+13   7.56e+06   2.02e+06      0.000    1.53e+13    1.53e+13\n",
       "Specialization_Rural and Agribusiness                -5.444e+14   9.09e+06  -5.99e+07      0.000   -5.44e+14   -5.44e+14\n",
       "Specialization_Services Excellence                   -3.193e+14   1.14e+07  -2.81e+07      0.000   -3.19e+14   -3.19e+14\n",
       "Specialization_Supply Chain Management                1.771e+13   5.36e+06    3.3e+06      0.000    1.77e+13    1.77e+13\n",
       "Specialization_Travel and Tourism                     4.128e+13   6.11e+06   6.75e+06      0.000    4.13e+13    4.13e+13\n",
       "What is your current occupation_Housewife            -8.634e+14   4.36e+07  -1.98e+07      0.000   -8.63e+14   -8.63e+14\n",
       "What is your current occupation_Other                 6.403e+14   3.77e+07    1.7e+07      0.000     6.4e+14     6.4e+14\n",
       "What is your current occupation_Student               1.998e+14   3.41e+07   5.86e+06      0.000       2e+14       2e+14\n",
       "What is your current occupation_Unemployed           -8.061e+12   3.37e+07  -2.39e+05      0.000   -8.06e+12   -8.06e+12\n",
       "What is your current occupation_Working Professional -3.147e+12   3.38e+07   -9.3e+04      0.000   -3.15e+12   -3.15e+12\n",
       "Last Notable Activity_Email Bounced                  -1.865e+13   1.63e+07  -1.14e+06      0.000   -1.87e+13   -1.87e+13\n",
       "Last Notable Activity_Email Link Clicked             -7.807e+14   1.58e+07  -4.94e+07      0.000   -7.81e+14   -7.81e+14\n",
       "Last Notable Activity_Email Marked Spam                  0.3962    1.7e-08   2.33e+07      0.000       0.396       0.396\n",
       "Last Notable Activity_Email Opened                   -1.486e+15   1.28e+07  -1.16e+08      0.000   -1.49e+15   -1.49e+15\n",
       "Last Notable Activity_Email Received                  4.366e+15   8.79e+07   4.97e+07      0.000    4.37e+15    4.37e+15\n",
       "Last Notable Activity_Form Submitted on Website          2.3389   3.38e-08   6.92e+07      0.000       2.339       2.339\n",
       "Last Notable Activity_Had a Phone Conversation        1.041e+15   3.64e+07   2.86e+07      0.000    1.04e+15    1.04e+15\n",
       "Last Notable Activity_Modified                       -9.433e+14   1.23e+07  -7.66e+07      0.000   -9.43e+14   -9.43e+14\n",
       "Last Notable Activity_Olark Chat Conversation        -7.936e+14   1.38e+07  -5.75e+07      0.000   -7.94e+14   -7.94e+14\n",
       "Last Notable Activity_Page Visited on Website        -6.041e+14    1.4e+07  -4.32e+07      0.000   -6.04e+14   -6.04e+14\n",
       "Last Notable Activity_Resubscribed to emails          3.697e+14   3.69e+07      1e+07      0.000     3.7e+14     3.7e+14\n",
       "Last Notable Activity_SMS Sent                       -1.851e+15   1.29e+07  -1.44e+08      0.000   -1.85e+15   -1.85e+15\n",
       "Last Notable Activity_Unreachable                     -8.19e+14   2.33e+07  -3.51e+07      0.000   -8.19e+14   -8.19e+14\n",
       "Last Notable Activity_Unsubscribed                    7.749e+14   2.61e+07   2.97e+07      0.000    7.75e+14    7.75e+14\n",
       "Last Notable Activity_View in browser link Clicked            0          0        nan        nan           0           0\n",
       "========================================================================================================================\n",
       "\"\"\""
      ]
     },
     "execution_count": 50,
     "metadata": {},
     "output_type": "execute_result"
    }
   ],
   "source": [
    "# Logistic regression model\n",
    "logm1 = sm.GLM(y_train,(sm.add_constant(X_train)), family = sm.families.Binomial())\n",
    "logm1.fit().summary()"
   ]
  },
  {
   "cell_type": "markdown",
   "metadata": {},
   "source": [
    "### Building a logistic regression model\n",
    "\n",
    "We will fit a logistic regression with training data using sklearn and RFE for feature selection."
   ]
  },
  {
   "cell_type": "markdown",
   "metadata": {},
   "source": [
    "#### Feature Selection Using RFE"
   ]
  },
  {
   "cell_type": "code",
   "execution_count": 51,
   "metadata": {},
   "outputs": [],
   "source": [
    "# Importing required python library\n",
    "from sklearn.linear_model import LogisticRegression\n",
    "logreg = LogisticRegression()"
   ]
  },
  {
   "cell_type": "code",
   "execution_count": 52,
   "metadata": {},
   "outputs": [],
   "source": [
    "# Importing required python library\n",
    "from sklearn.feature_selection import RFE\n",
    "\n",
    "# Running RFE with the output number of the variable equal to 12 for total 12 no. of most signification feature selection\n",
    "rfe = RFE(logreg, 12)\n",
    "rfe = rfe.fit(X_train, y_train)"
   ]
  },
  {
   "cell_type": "code",
   "execution_count": 53,
   "metadata": {
    "scrolled": false
   },
   "outputs": [
    {
     "data": {
      "text/plain": [
       "[('Do Not Email', True, 1),\n",
       " ('TotalVisits', False, 38),\n",
       " ('Total Time Spent on Website', True, 1),\n",
       " ('Page Views Per Visit', False, 40),\n",
       " ('A free copy of Mastering The Interview', False, 57),\n",
       " ('Lead Origin_Landing Page Submission', False, 44),\n",
       " ('Lead Origin_Lead Add Form', True, 1),\n",
       " ('Lead Origin_Lead Import', False, 7),\n",
       " ('Lead Source_Direct Traffic', False, 23),\n",
       " ('Lead Source_Facebook', False, 46),\n",
       " ('Lead Source_Google', False, 29),\n",
       " ('Lead Source_Live Chat', False, 47),\n",
       " ('Lead Source_NC_EDM', False, 65),\n",
       " ('Lead Source_Olark Chat', True, 1),\n",
       " ('Lead Source_Organic Search', False, 28),\n",
       " ('Lead Source_Pay per Click Ads', False, 48),\n",
       " ('Lead Source_Press_Release', False, 63),\n",
       " ('Lead Source_Reference', True, 1),\n",
       " ('Lead Source_Referral Sites', False, 27),\n",
       " ('Lead Source_Social Media', False, 9),\n",
       " ('Lead Source_WeLearn', False, 33),\n",
       " ('Lead Source_Welingak Website', True, 1),\n",
       " ('Lead Source_bing', False, 35),\n",
       " ('Lead Source_blog', False, 26),\n",
       " ('Lead Source_google', True, 1),\n",
       " ('Lead Source_testone', False, 42),\n",
       " ('Lead Source_welearnblog_Home', False, 68),\n",
       " ('Lead Source_youtubechannel', False, 37),\n",
       " ('Last Activity_Converted to Lead', False, 17),\n",
       " ('Last Activity_Email Bounced', False, 2),\n",
       " ('Last Activity_Email Link Clicked', False, 54),\n",
       " ('Last Activity_Email Marked Spam', False, 69),\n",
       " ('Last Activity_Email Opened', False, 25),\n",
       " ('Last Activity_Email Received', False, 24),\n",
       " ('Last Activity_Form Submitted on Website', False, 16),\n",
       " ('Last Activity_Had a Phone Conversation', True, 1),\n",
       " ('Last Activity_Olark Chat Conversation', True, 1),\n",
       " ('Last Activity_Page Visited on Website', False, 18),\n",
       " ('Last Activity_Resubscribed to emails', False, 21),\n",
       " ('Last Activity_SMS Sent', False, 10),\n",
       " ('Last Activity_Unreachable', False, 34),\n",
       " ('Last Activity_Unsubscribed', False, 56),\n",
       " ('Last Activity_View in browser link Clicked', False, 30),\n",
       " ('Last Activity_Visited Booth in Tradeshow', False, 55),\n",
       " ('Specialization_Business Administration', False, 61),\n",
       " ('Specialization_E-Business', False, 31),\n",
       " ('Specialization_E-COMMERCE', False, 59),\n",
       " ('Specialization_Finance Management', False, 49),\n",
       " ('Specialization_Healthcare Management', False, 52),\n",
       " ('Specialization_Hospitality Management', False, 41),\n",
       " ('Specialization_Human Resource Management', False, 60),\n",
       " ('Specialization_IT Projects Management', False, 62),\n",
       " ('Specialization_International Business', False, 51),\n",
       " ('Specialization_Marketing Management', False, 32),\n",
       " ('Specialization_Media and Advertising', False, 50),\n",
       " ('Specialization_Operations Management', False, 53),\n",
       " ('Specialization_Retail Management', False, 8),\n",
       " ('Specialization_Rural and Agribusiness', False, 43),\n",
       " ('Specialization_Services Excellence', False, 22),\n",
       " ('Specialization_Supply Chain Management', False, 58),\n",
       " ('Specialization_Travel and Tourism', False, 64),\n",
       " ('What is your current occupation_Housewife', False, 5),\n",
       " ('What is your current occupation_Other', False, 39),\n",
       " ('What is your current occupation_Student', False, 14),\n",
       " ('What is your current occupation_Unemployed', False, 13),\n",
       " ('What is your current occupation_Working Professional', True, 1),\n",
       " ('Last Notable Activity_Email Bounced', False, 3),\n",
       " ('Last Notable Activity_Email Link Clicked', False, 15),\n",
       " ('Last Notable Activity_Email Marked Spam', False, 67),\n",
       " ('Last Notable Activity_Email Opened', False, 20),\n",
       " ('Last Notable Activity_Email Received', False, 45),\n",
       " ('Last Notable Activity_Form Submitted on Website', False, 66),\n",
       " ('Last Notable Activity_Had a Phone Conversation', False, 6),\n",
       " ('Last Notable Activity_Modified', False, 11),\n",
       " ('Last Notable Activity_Olark Chat Conversation', False, 19),\n",
       " ('Last Notable Activity_Page Visited on Website', False, 36),\n",
       " ('Last Notable Activity_Resubscribed to emails', False, 12),\n",
       " ('Last Notable Activity_SMS Sent', True, 1),\n",
       " ('Last Notable Activity_Unreachable', True, 1),\n",
       " ('Last Notable Activity_Unsubscribed', False, 4),\n",
       " ('Last Notable Activity_View in browser link Clicked', False, 70)]"
      ]
     },
     "execution_count": 53,
     "metadata": {},
     "output_type": "execute_result"
    }
   ],
   "source": [
    "list(zip(X_train.columns, rfe.support_, rfe.ranking_))"
   ]
  },
  {
   "cell_type": "code",
   "execution_count": 54,
   "metadata": {},
   "outputs": [
    {
     "data": {
      "text/plain": [
       "Index(['Do Not Email', 'Total Time Spent on Website',\n",
       "       'Lead Origin_Lead Add Form', 'Lead Source_Olark Chat',\n",
       "       'Lead Source_Reference', 'Lead Source_Welingak Website',\n",
       "       'Lead Source_google', 'Last Activity_Had a Phone Conversation',\n",
       "       'Last Activity_Olark Chat Conversation',\n",
       "       'What is your current occupation_Working Professional',\n",
       "       'Last Notable Activity_SMS Sent', 'Last Notable Activity_Unreachable'],\n",
       "      dtype='object')"
      ]
     },
     "execution_count": 54,
     "metadata": {},
     "output_type": "execute_result"
    }
   ],
   "source": [
    "# Top significant features selected by RFE\n",
    "col = X_train.columns[rfe.support_]\n",
    "col"
   ]
  },
  {
   "cell_type": "code",
   "execution_count": 55,
   "metadata": {
    "scrolled": false
   },
   "outputs": [
    {
     "data": {
      "text/plain": [
       "Index(['TotalVisits', 'Page Views Per Visit',\n",
       "       'A free copy of Mastering The Interview',\n",
       "       'Lead Origin_Landing Page Submission', 'Lead Origin_Lead Import',\n",
       "       'Lead Source_Direct Traffic', 'Lead Source_Facebook',\n",
       "       'Lead Source_Google', 'Lead Source_Live Chat', 'Lead Source_NC_EDM',\n",
       "       'Lead Source_Organic Search', 'Lead Source_Pay per Click Ads',\n",
       "       'Lead Source_Press_Release', 'Lead Source_Referral Sites',\n",
       "       'Lead Source_Social Media', 'Lead Source_WeLearn', 'Lead Source_bing',\n",
       "       'Lead Source_blog', 'Lead Source_testone',\n",
       "       'Lead Source_welearnblog_Home', 'Lead Source_youtubechannel',\n",
       "       'Last Activity_Converted to Lead', 'Last Activity_Email Bounced',\n",
       "       'Last Activity_Email Link Clicked', 'Last Activity_Email Marked Spam',\n",
       "       'Last Activity_Email Opened', 'Last Activity_Email Received',\n",
       "       'Last Activity_Form Submitted on Website',\n",
       "       'Last Activity_Page Visited on Website',\n",
       "       'Last Activity_Resubscribed to emails', 'Last Activity_SMS Sent',\n",
       "       'Last Activity_Unreachable', 'Last Activity_Unsubscribed',\n",
       "       'Last Activity_View in browser link Clicked',\n",
       "       'Last Activity_Visited Booth in Tradeshow',\n",
       "       'Specialization_Business Administration', 'Specialization_E-Business',\n",
       "       'Specialization_E-COMMERCE', 'Specialization_Finance Management',\n",
       "       'Specialization_Healthcare Management',\n",
       "       'Specialization_Hospitality Management',\n",
       "       'Specialization_Human Resource Management',\n",
       "       'Specialization_IT Projects Management',\n",
       "       'Specialization_International Business',\n",
       "       'Specialization_Marketing Management',\n",
       "       'Specialization_Media and Advertising',\n",
       "       'Specialization_Operations Management',\n",
       "       'Specialization_Retail Management',\n",
       "       'Specialization_Rural and Agribusiness',\n",
       "       'Specialization_Services Excellence',\n",
       "       'Specialization_Supply Chain Management',\n",
       "       'Specialization_Travel and Tourism',\n",
       "       'What is your current occupation_Housewife',\n",
       "       'What is your current occupation_Other',\n",
       "       'What is your current occupation_Student',\n",
       "       'What is your current occupation_Unemployed',\n",
       "       'Last Notable Activity_Email Bounced',\n",
       "       'Last Notable Activity_Email Link Clicked',\n",
       "       'Last Notable Activity_Email Marked Spam',\n",
       "       'Last Notable Activity_Email Opened',\n",
       "       'Last Notable Activity_Email Received',\n",
       "       'Last Notable Activity_Form Submitted on Website',\n",
       "       'Last Notable Activity_Had a Phone Conversation',\n",
       "       'Last Notable Activity_Modified',\n",
       "       'Last Notable Activity_Olark Chat Conversation',\n",
       "       'Last Notable Activity_Page Visited on Website',\n",
       "       'Last Notable Activity_Resubscribed to emails',\n",
       "       'Last Notable Activity_Unsubscribed',\n",
       "       'Last Notable Activity_View in browser link Clicked'],\n",
       "      dtype='object')"
      ]
     },
     "execution_count": 55,
     "metadata": {},
     "output_type": "execute_result"
    }
   ],
   "source": [
    "# Other features which was not selected by RFE\n",
    "X_train.columns[~rfe.support_]"
   ]
  },
  {
   "cell_type": "markdown",
   "metadata": {},
   "source": [
    "#### Assessing the model with StatsModels"
   ]
  },
  {
   "cell_type": "code",
   "execution_count": 56,
   "metadata": {
    "scrolled": true
   },
   "outputs": [
    {
     "name": "stdout",
     "output_type": "stream",
     "text": [
      "                 Generalized Linear Model Regression Results                  \n",
      "==============================================================================\n",
      "Dep. Variable:              Converted   No. Observations:                 5618\n",
      "Model:                            GLM   Df Residuals:                     5605\n",
      "Model Family:                Binomial   Df Model:                           12\n",
      "Link Function:                  logit   Scale:                          1.0000\n",
      "Method:                          IRLS   Log-Likelihood:                -2358.8\n",
      "Date:                Mon, 06 Jan 2020   Deviance:                       4717.7\n",
      "Time:                        22:38:15   Pearson chi2:                 5.62e+03\n",
      "No. Iterations:                    21   Covariance Type:             nonrobust\n",
      "========================================================================================================================\n",
      "                                                           coef    std err          z      P>|z|      [0.025      0.975]\n",
      "------------------------------------------------------------------------------------------------------------------------\n",
      "const                                                   -1.6470      0.057    -28.738      0.000      -1.759      -1.535\n",
      "Do Not Email                                            -1.5246      0.183     -8.347      0.000      -1.883      -1.167\n",
      "Total Time Spent on Website                              1.1211      0.042     26.565      0.000       1.038       1.204\n",
      "Lead Origin_Lead Add Form                                3.5868      1.147      3.128      0.002       1.340       5.834\n",
      "Lead Source_Olark Chat                                   1.4410      0.107     13.421      0.000       1.231       1.651\n",
      "Lead Source_Reference                                    0.7969      1.168      0.682      0.495      -1.492       3.086\n",
      "Lead Source_Welingak Website                             2.4454      1.355      1.804      0.071      -0.211       5.102\n",
      "Lead Source_google                                     -22.4226   1.69e+04     -0.001      0.999   -3.32e+04    3.31e+04\n",
      "Last Activity_Had a Phone Conversation                   2.1695      0.734      2.955      0.003       0.731       3.609\n",
      "Last Activity_Olark Chat Conversation                   -1.7162      0.181     -9.482      0.000      -2.071      -1.361\n",
      "What is your current occupation_Working Professional     1.3585      0.117     11.566      0.000       1.128       1.589\n",
      "Last Notable Activity_SMS Sent                           1.6264      0.084     19.455      0.000       1.463       1.790\n",
      "Last Notable Activity_Unreachable                        1.8769      0.711      2.642      0.008       0.484       3.269\n",
      "========================================================================================================================\n"
     ]
    }
   ],
   "source": [
    "# Adding a constant variable \n",
    "X_train_sm = sm.add_constant(X_train[col])\n",
    "\n",
    "# Running the logistic regression model\n",
    "logm2 = sm.GLM(y_train,X_train_sm, family = sm.families.Binomial())\n",
    "res = logm2.fit()\n",
    "\n",
    "# Summary of our model\n",
    "print(res.summary())"
   ]
  },
  {
   "cell_type": "code",
   "execution_count": 57,
   "metadata": {},
   "outputs": [],
   "source": [
    "# Check for the VIF values of the feature variables. \n",
    "from statsmodels.stats.outliers_influence import variance_inflation_factor"
   ]
  },
  {
   "cell_type": "code",
   "execution_count": 58,
   "metadata": {},
   "outputs": [
    {
     "data": {
      "text/html": [
       "<div>\n",
       "<style scoped>\n",
       "    .dataframe tbody tr th:only-of-type {\n",
       "        vertical-align: middle;\n",
       "    }\n",
       "\n",
       "    .dataframe tbody tr th {\n",
       "        vertical-align: top;\n",
       "    }\n",
       "\n",
       "    .dataframe thead th {\n",
       "        text-align: right;\n",
       "    }\n",
       "</style>\n",
       "<table border=\"1\" class=\"dataframe\">\n",
       "  <thead>\n",
       "    <tr style=\"text-align: right;\">\n",
       "      <th></th>\n",
       "      <th>Features</th>\n",
       "      <th>VIF</th>\n",
       "    </tr>\n",
       "  </thead>\n",
       "  <tbody>\n",
       "    <tr>\n",
       "      <th>2</th>\n",
       "      <td>Lead Origin_Lead Add Form</td>\n",
       "      <td>67.75</td>\n",
       "    </tr>\n",
       "    <tr>\n",
       "      <th>4</th>\n",
       "      <td>Lead Source_Reference</td>\n",
       "      <td>52.76</td>\n",
       "    </tr>\n",
       "    <tr>\n",
       "      <th>5</th>\n",
       "      <td>Lead Source_Welingak Website</td>\n",
       "      <td>16.00</td>\n",
       "    </tr>\n",
       "    <tr>\n",
       "      <th>3</th>\n",
       "      <td>Lead Source_Olark Chat</td>\n",
       "      <td>1.63</td>\n",
       "    </tr>\n",
       "    <tr>\n",
       "      <th>8</th>\n",
       "      <td>Last Activity_Olark Chat Conversation</td>\n",
       "      <td>1.38</td>\n",
       "    </tr>\n",
       "    <tr>\n",
       "      <th>1</th>\n",
       "      <td>Total Time Spent on Website</td>\n",
       "      <td>1.30</td>\n",
       "    </tr>\n",
       "    <tr>\n",
       "      <th>10</th>\n",
       "      <td>Last Notable Activity_SMS Sent</td>\n",
       "      <td>1.22</td>\n",
       "    </tr>\n",
       "    <tr>\n",
       "      <th>9</th>\n",
       "      <td>What is your current occupation_Working Profes...</td>\n",
       "      <td>1.15</td>\n",
       "    </tr>\n",
       "    <tr>\n",
       "      <th>0</th>\n",
       "      <td>Do Not Email</td>\n",
       "      <td>1.02</td>\n",
       "    </tr>\n",
       "    <tr>\n",
       "      <th>6</th>\n",
       "      <td>Lead Source_google</td>\n",
       "      <td>1.00</td>\n",
       "    </tr>\n",
       "    <tr>\n",
       "      <th>7</th>\n",
       "      <td>Last Activity_Had a Phone Conversation</td>\n",
       "      <td>1.00</td>\n",
       "    </tr>\n",
       "    <tr>\n",
       "      <th>11</th>\n",
       "      <td>Last Notable Activity_Unreachable</td>\n",
       "      <td>1.00</td>\n",
       "    </tr>\n",
       "  </tbody>\n",
       "</table>\n",
       "</div>"
      ],
      "text/plain": [
       "                                             Features    VIF\n",
       "2                           Lead Origin_Lead Add Form  67.75\n",
       "4                               Lead Source_Reference  52.76\n",
       "5                        Lead Source_Welingak Website  16.00\n",
       "3                              Lead Source_Olark Chat   1.63\n",
       "8               Last Activity_Olark Chat Conversation   1.38\n",
       "1                         Total Time Spent on Website   1.30\n",
       "10                     Last Notable Activity_SMS Sent   1.22\n",
       "9   What is your current occupation_Working Profes...   1.15\n",
       "0                                        Do Not Email   1.02\n",
       "6                                  Lead Source_google   1.00\n",
       "7              Last Activity_Had a Phone Conversation   1.00\n",
       "11                  Last Notable Activity_Unreachable   1.00"
      ]
     },
     "execution_count": 58,
     "metadata": {},
     "output_type": "execute_result"
    }
   ],
   "source": [
    "# Calculate the VIFs for the new model\n",
    "\n",
    "# Create a dataframe that will contain the names of all the feature variables and their respective VIFs\n",
    "vif = pd.DataFrame()\n",
    "vif['Features'] = X_train[col].columns\n",
    "vif['VIF'] = [variance_inflation_factor(X_train[col].values, i) for i in range(X_train[col].shape[1])]\n",
    "vif['VIF'] = round(vif['VIF'], 2)\n",
    "vif = vif.sort_values(by = \"VIF\", ascending = False)\n",
    "vif"
   ]
  },
  {
   "cell_type": "markdown",
   "metadata": {},
   "source": [
    "There few features which has high VIF. However, We will drop 'Lead Source_google' first as this feature has high p value which means this feature is not significant."
   ]
  },
  {
   "cell_type": "code",
   "execution_count": 59,
   "metadata": {
    "scrolled": true
   },
   "outputs": [
    {
     "data": {
      "text/plain": [
       "Index(['Do Not Email', 'Total Time Spent on Website',\n",
       "       'Lead Origin_Lead Add Form', 'Lead Source_Olark Chat',\n",
       "       'Lead Source_Reference', 'Lead Source_Welingak Website',\n",
       "       'Last Activity_Had a Phone Conversation',\n",
       "       'Last Activity_Olark Chat Conversation',\n",
       "       'What is your current occupation_Working Professional',\n",
       "       'Last Notable Activity_SMS Sent', 'Last Notable Activity_Unreachable'],\n",
       "      dtype='object')"
      ]
     },
     "execution_count": 59,
     "metadata": {},
     "output_type": "execute_result"
    }
   ],
   "source": [
    "# Dropping 'Lead Source_google' column\n",
    "col = col.drop('Lead Source_google', 1)\n",
    "col"
   ]
  },
  {
   "cell_type": "code",
   "execution_count": 60,
   "metadata": {
    "scrolled": false
   },
   "outputs": [
    {
     "name": "stdout",
     "output_type": "stream",
     "text": [
      "                 Generalized Linear Model Regression Results                  \n",
      "==============================================================================\n",
      "Dep. Variable:              Converted   No. Observations:                 5618\n",
      "Model:                            GLM   Df Residuals:                     5606\n",
      "Model Family:                Binomial   Df Model:                           11\n",
      "Link Function:                  logit   Scale:                          1.0000\n",
      "Method:                          IRLS   Log-Likelihood:                -2362.0\n",
      "Date:                Mon, 06 Jan 2020   Deviance:                       4724.1\n",
      "Time:                        22:38:16   Pearson chi2:                 5.62e+03\n",
      "No. Iterations:                     7   Covariance Type:             nonrobust\n",
      "========================================================================================================================\n",
      "                                                           coef    std err          z      P>|z|      [0.025      0.975]\n",
      "------------------------------------------------------------------------------------------------------------------------\n",
      "const                                                   -1.6478      0.057    -28.767      0.000      -1.760      -1.536\n",
      "Do Not Email                                            -1.5226      0.183     -8.340      0.000      -1.880      -1.165\n",
      "Total Time Spent on Website                              1.1189      0.042     26.547      0.000       1.036       1.202\n",
      "Lead Origin_Lead Add Form                                3.5856      1.147      3.127      0.002       1.338       5.833\n",
      "Lead Source_Olark Chat                                   1.4409      0.107     13.426      0.000       1.231       1.651\n",
      "Lead Source_Reference                                    0.7994      1.168      0.685      0.494      -1.489       3.088\n",
      "Lead Source_Welingak Website                             2.4445      1.355      1.803      0.071      -0.212       5.101\n",
      "Last Activity_Had a Phone Conversation                   2.1715      0.734      2.959      0.003       0.733       3.610\n",
      "Last Activity_Olark Chat Conversation                   -1.7129      0.181     -9.469      0.000      -2.068      -1.358\n",
      "What is your current occupation_Working Professional     1.3400      0.117     11.446      0.000       1.111       1.569\n",
      "Last Notable Activity_SMS Sent                           1.6286      0.084     19.493      0.000       1.465       1.792\n",
      "Last Notable Activity_Unreachable                        1.8808      0.710      2.649      0.008       0.489       3.273\n",
      "========================================================================================================================\n"
     ]
    }
   ],
   "source": [
    "# Let's re-run the model using the selected variables\n",
    "X_train_sm = sm.add_constant(X_train[col])\n",
    "logm3 = sm.GLM(y_train,X_train_sm, family = sm.families.Binomial())\n",
    "res = logm3.fit()\n",
    "print(res.summary())"
   ]
  },
  {
   "cell_type": "code",
   "execution_count": 61,
   "metadata": {
    "scrolled": true
   },
   "outputs": [
    {
     "data": {
      "text/html": [
       "<div>\n",
       "<style scoped>\n",
       "    .dataframe tbody tr th:only-of-type {\n",
       "        vertical-align: middle;\n",
       "    }\n",
       "\n",
       "    .dataframe tbody tr th {\n",
       "        vertical-align: top;\n",
       "    }\n",
       "\n",
       "    .dataframe thead th {\n",
       "        text-align: right;\n",
       "    }\n",
       "</style>\n",
       "<table border=\"1\" class=\"dataframe\">\n",
       "  <thead>\n",
       "    <tr style=\"text-align: right;\">\n",
       "      <th></th>\n",
       "      <th>Features</th>\n",
       "      <th>VIF</th>\n",
       "    </tr>\n",
       "  </thead>\n",
       "  <tbody>\n",
       "    <tr>\n",
       "      <th>2</th>\n",
       "      <td>Lead Origin_Lead Add Form</td>\n",
       "      <td>67.75</td>\n",
       "    </tr>\n",
       "    <tr>\n",
       "      <th>4</th>\n",
       "      <td>Lead Source_Reference</td>\n",
       "      <td>52.76</td>\n",
       "    </tr>\n",
       "    <tr>\n",
       "      <th>5</th>\n",
       "      <td>Lead Source_Welingak Website</td>\n",
       "      <td>16.00</td>\n",
       "    </tr>\n",
       "    <tr>\n",
       "      <th>3</th>\n",
       "      <td>Lead Source_Olark Chat</td>\n",
       "      <td>1.63</td>\n",
       "    </tr>\n",
       "    <tr>\n",
       "      <th>7</th>\n",
       "      <td>Last Activity_Olark Chat Conversation</td>\n",
       "      <td>1.38</td>\n",
       "    </tr>\n",
       "    <tr>\n",
       "      <th>1</th>\n",
       "      <td>Total Time Spent on Website</td>\n",
       "      <td>1.30</td>\n",
       "    </tr>\n",
       "    <tr>\n",
       "      <th>9</th>\n",
       "      <td>Last Notable Activity_SMS Sent</td>\n",
       "      <td>1.22</td>\n",
       "    </tr>\n",
       "    <tr>\n",
       "      <th>8</th>\n",
       "      <td>What is your current occupation_Working Profes...</td>\n",
       "      <td>1.15</td>\n",
       "    </tr>\n",
       "    <tr>\n",
       "      <th>0</th>\n",
       "      <td>Do Not Email</td>\n",
       "      <td>1.02</td>\n",
       "    </tr>\n",
       "    <tr>\n",
       "      <th>6</th>\n",
       "      <td>Last Activity_Had a Phone Conversation</td>\n",
       "      <td>1.00</td>\n",
       "    </tr>\n",
       "    <tr>\n",
       "      <th>10</th>\n",
       "      <td>Last Notable Activity_Unreachable</td>\n",
       "      <td>1.00</td>\n",
       "    </tr>\n",
       "  </tbody>\n",
       "</table>\n",
       "</div>"
      ],
      "text/plain": [
       "                                             Features    VIF\n",
       "2                           Lead Origin_Lead Add Form  67.75\n",
       "4                               Lead Source_Reference  52.76\n",
       "5                        Lead Source_Welingak Website  16.00\n",
       "3                              Lead Source_Olark Chat   1.63\n",
       "7               Last Activity_Olark Chat Conversation   1.38\n",
       "1                         Total Time Spent on Website   1.30\n",
       "9                      Last Notable Activity_SMS Sent   1.22\n",
       "8   What is your current occupation_Working Profes...   1.15\n",
       "0                                        Do Not Email   1.02\n",
       "6              Last Activity_Had a Phone Conversation   1.00\n",
       "10                  Last Notable Activity_Unreachable   1.00"
      ]
     },
     "execution_count": 61,
     "metadata": {},
     "output_type": "execute_result"
    }
   ],
   "source": [
    "# Calculate the VIFs for the new model\n",
    "\n",
    "# Create a dataframe that will contain the names of all the feature variables and their respective VIFs\n",
    "vif = pd.DataFrame()\n",
    "vif['Features'] = X_train[col].columns\n",
    "vif['VIF'] = [variance_inflation_factor(X_train[col].values, i) for i in range(X_train[col].shape[1])]\n",
    "vif['VIF'] = round(vif['VIF'], 2)\n",
    "vif = vif.sort_values(by = \"VIF\", ascending = False)\n",
    "vif"
   ]
  },
  {
   "cell_type": "markdown",
   "metadata": {},
   "source": [
    "There few features which has high VIF. However, We will drop 'Lead Source_Reference' first as this feature has high p value which means this feature is not significant."
   ]
  },
  {
   "cell_type": "code",
   "execution_count": 62,
   "metadata": {},
   "outputs": [
    {
     "data": {
      "text/plain": [
       "Index(['Do Not Email', 'Total Time Spent on Website',\n",
       "       'Lead Origin_Lead Add Form', 'Lead Source_Olark Chat',\n",
       "       'Lead Source_Welingak Website',\n",
       "       'Last Activity_Had a Phone Conversation',\n",
       "       'Last Activity_Olark Chat Conversation',\n",
       "       'What is your current occupation_Working Professional',\n",
       "       'Last Notable Activity_SMS Sent', 'Last Notable Activity_Unreachable'],\n",
       "      dtype='object')"
      ]
     },
     "execution_count": 62,
     "metadata": {},
     "output_type": "execute_result"
    }
   ],
   "source": [
    "# Dropping 'Lead Source_Reference' column\n",
    "col = col.drop('Lead Source_Reference', 1)\n",
    "col"
   ]
  },
  {
   "cell_type": "code",
   "execution_count": 63,
   "metadata": {
    "scrolled": false
   },
   "outputs": [
    {
     "name": "stdout",
     "output_type": "stream",
     "text": [
      "                 Generalized Linear Model Regression Results                  \n",
      "==============================================================================\n",
      "Dep. Variable:              Converted   No. Observations:                 5618\n",
      "Model:                            GLM   Df Residuals:                     5607\n",
      "Model Family:                Binomial   Df Model:                           10\n",
      "Link Function:                  logit   Scale:                          1.0000\n",
      "Method:                          IRLS   Log-Likelihood:                -2362.2\n",
      "Date:                Mon, 06 Jan 2020   Deviance:                       4724.5\n",
      "Time:                        22:38:16   Pearson chi2:                 5.62e+03\n",
      "No. Iterations:                     7   Covariance Type:             nonrobust\n",
      "========================================================================================================================\n",
      "                                                           coef    std err          z      P>|z|      [0.025      0.975]\n",
      "------------------------------------------------------------------------------------------------------------------------\n",
      "const                                                   -1.6480      0.057    -28.771      0.000      -1.760      -1.536\n",
      "Do Not Email                                            -1.5216      0.182     -8.340      0.000      -1.879      -1.164\n",
      "Total Time Spent on Website                              1.1189      0.042     26.545      0.000       1.036       1.202\n",
      "Lead Origin_Lead Add Form                                4.3599      0.238     18.288      0.000       3.893       4.827\n",
      "Lead Source_Olark Chat                                   1.4409      0.107     13.425      0.000       1.231       1.651\n",
      "Lead Source_Welingak Website                             1.6703      0.761      2.195      0.028       0.179       3.162\n",
      "Last Activity_Had a Phone Conversation                   2.1719      0.734      2.960      0.003       0.734       3.610\n",
      "Last Activity_Olark Chat Conversation                   -1.7129      0.181     -9.469      0.000      -2.067      -1.358\n",
      "What is your current occupation_Working Professional     1.3410      0.117     11.460      0.000       1.112       1.570\n",
      "Last Notable Activity_SMS Sent                           1.6287      0.084     19.496      0.000       1.465       1.792\n",
      "Last Notable Activity_Unreachable                        1.8811      0.710      2.649      0.008       0.489       3.273\n",
      "========================================================================================================================\n"
     ]
    }
   ],
   "source": [
    "# Let's re-run the model using the selected variables\n",
    "X_train_sm = sm.add_constant(X_train[col])\n",
    "logm4 = sm.GLM(y_train,X_train_sm, family = sm.families.Binomial())\n",
    "res = logm4.fit()\n",
    "print(res.summary())"
   ]
  },
  {
   "cell_type": "code",
   "execution_count": 64,
   "metadata": {},
   "outputs": [
    {
     "data": {
      "text/html": [
       "<div>\n",
       "<style scoped>\n",
       "    .dataframe tbody tr th:only-of-type {\n",
       "        vertical-align: middle;\n",
       "    }\n",
       "\n",
       "    .dataframe tbody tr th {\n",
       "        vertical-align: top;\n",
       "    }\n",
       "\n",
       "    .dataframe thead th {\n",
       "        text-align: right;\n",
       "    }\n",
       "</style>\n",
       "<table border=\"1\" class=\"dataframe\">\n",
       "  <thead>\n",
       "    <tr style=\"text-align: right;\">\n",
       "      <th></th>\n",
       "      <th>Features</th>\n",
       "      <th>VIF</th>\n",
       "    </tr>\n",
       "  </thead>\n",
       "  <tbody>\n",
       "    <tr>\n",
       "      <th>3</th>\n",
       "      <td>Lead Source_Olark Chat</td>\n",
       "      <td>1.63</td>\n",
       "    </tr>\n",
       "    <tr>\n",
       "      <th>2</th>\n",
       "      <td>Lead Origin_Lead Add Form</td>\n",
       "      <td>1.54</td>\n",
       "    </tr>\n",
       "    <tr>\n",
       "      <th>6</th>\n",
       "      <td>Last Activity_Olark Chat Conversation</td>\n",
       "      <td>1.38</td>\n",
       "    </tr>\n",
       "    <tr>\n",
       "      <th>4</th>\n",
       "      <td>Lead Source_Welingak Website</td>\n",
       "      <td>1.31</td>\n",
       "    </tr>\n",
       "    <tr>\n",
       "      <th>1</th>\n",
       "      <td>Total Time Spent on Website</td>\n",
       "      <td>1.30</td>\n",
       "    </tr>\n",
       "    <tr>\n",
       "      <th>8</th>\n",
       "      <td>Last Notable Activity_SMS Sent</td>\n",
       "      <td>1.22</td>\n",
       "    </tr>\n",
       "    <tr>\n",
       "      <th>7</th>\n",
       "      <td>What is your current occupation_Working Profes...</td>\n",
       "      <td>1.14</td>\n",
       "    </tr>\n",
       "    <tr>\n",
       "      <th>0</th>\n",
       "      <td>Do Not Email</td>\n",
       "      <td>1.02</td>\n",
       "    </tr>\n",
       "    <tr>\n",
       "      <th>5</th>\n",
       "      <td>Last Activity_Had a Phone Conversation</td>\n",
       "      <td>1.00</td>\n",
       "    </tr>\n",
       "    <tr>\n",
       "      <th>9</th>\n",
       "      <td>Last Notable Activity_Unreachable</td>\n",
       "      <td>1.00</td>\n",
       "    </tr>\n",
       "  </tbody>\n",
       "</table>\n",
       "</div>"
      ],
      "text/plain": [
       "                                            Features   VIF\n",
       "3                             Lead Source_Olark Chat  1.63\n",
       "2                          Lead Origin_Lead Add Form  1.54\n",
       "6              Last Activity_Olark Chat Conversation  1.38\n",
       "4                       Lead Source_Welingak Website  1.31\n",
       "1                        Total Time Spent on Website  1.30\n",
       "8                     Last Notable Activity_SMS Sent  1.22\n",
       "7  What is your current occupation_Working Profes...  1.14\n",
       "0                                       Do Not Email  1.02\n",
       "5             Last Activity_Had a Phone Conversation  1.00\n",
       "9                  Last Notable Activity_Unreachable  1.00"
      ]
     },
     "execution_count": 64,
     "metadata": {},
     "output_type": "execute_result"
    }
   ],
   "source": [
    "# Calculate the VIFs for the new model\n",
    "\n",
    "# Create a dataframe that will contain the names of all the feature variables and their respective VIFs\n",
    "vif = pd.DataFrame()\n",
    "vif['Features'] = X_train[col].columns\n",
    "vif['VIF'] = [variance_inflation_factor(X_train[col].values, i) for i in range(X_train[col].shape[1])]\n",
    "vif['VIF'] = round(vif['VIF'], 2)\n",
    "vif = vif.sort_values(by = \"VIF\", ascending = False)\n",
    "vif"
   ]
  },
  {
   "cell_type": "markdown",
   "metadata": {},
   "source": [
    "* p-value for all the selected features are low and within an acceptable range (below 0.05)\n",
    "* VIF values for the features are also low and within an acceptable range (below 5)\n",
    "\n",
    "So we will go ahead and make our predictions using this model."
   ]
  },
  {
   "cell_type": "code",
   "execution_count": 65,
   "metadata": {},
   "outputs": [
    {
     "data": {
      "text/plain": [
       "2626    0.612646\n",
       "2973    0.176747\n",
       "5392    0.035841\n",
       "8344    0.052991\n",
       "1763    0.024545\n",
       "9053    0.223307\n",
       "5355    0.236802\n",
       "109     0.220715\n",
       "697     0.469900\n",
       "645     0.236802\n",
       "dtype: float64"
      ]
     },
     "execution_count": 65,
     "metadata": {},
     "output_type": "execute_result"
    }
   ],
   "source": [
    "# Getting the predicted values on the train set\n",
    "y_train_pred = res.predict(X_train_sm)\n",
    "y_train_pred[:10]"
   ]
  },
  {
   "cell_type": "code",
   "execution_count": 66,
   "metadata": {
    "scrolled": true
   },
   "outputs": [
    {
     "data": {
      "text/plain": [
       "array([0.61264586, 0.1767468 , 0.03584126, 0.05299125, 0.02454521,\n",
       "       0.2233071 , 0.23680156, 0.22071533, 0.46990031, 0.23680156])"
      ]
     },
     "execution_count": 66,
     "metadata": {},
     "output_type": "execute_result"
    }
   ],
   "source": [
    "y_train_pred = y_train_pred.values.reshape(-1)\n",
    "y_train_pred[:10]"
   ]
  },
  {
   "cell_type": "markdown",
   "metadata": {},
   "source": [
    "#### Creating a dataframe with the actual converted flag, the predicted probabilities and Lead score"
   ]
  },
  {
   "cell_type": "code",
   "execution_count": 67,
   "metadata": {},
   "outputs": [
    {
     "data": {
      "text/html": [
       "<div>\n",
       "<style scoped>\n",
       "    .dataframe tbody tr th:only-of-type {\n",
       "        vertical-align: middle;\n",
       "    }\n",
       "\n",
       "    .dataframe tbody tr th {\n",
       "        vertical-align: top;\n",
       "    }\n",
       "\n",
       "    .dataframe thead th {\n",
       "        text-align: right;\n",
       "    }\n",
       "</style>\n",
       "<table border=\"1\" class=\"dataframe\">\n",
       "  <thead>\n",
       "    <tr style=\"text-align: right;\">\n",
       "      <th></th>\n",
       "      <th>Conversion_Prob</th>\n",
       "      <th>Converted</th>\n",
       "      <th>CustID</th>\n",
       "      <th>Lead_score</th>\n",
       "    </tr>\n",
       "  </thead>\n",
       "  <tbody>\n",
       "    <tr>\n",
       "      <th>0</th>\n",
       "      <td>0.612646</td>\n",
       "      <td>1</td>\n",
       "      <td>2626</td>\n",
       "      <td>61.264586</td>\n",
       "    </tr>\n",
       "    <tr>\n",
       "      <th>1</th>\n",
       "      <td>0.176747</td>\n",
       "      <td>0</td>\n",
       "      <td>2973</td>\n",
       "      <td>17.674680</td>\n",
       "    </tr>\n",
       "    <tr>\n",
       "      <th>2</th>\n",
       "      <td>0.035841</td>\n",
       "      <td>0</td>\n",
       "      <td>5392</td>\n",
       "      <td>3.584126</td>\n",
       "    </tr>\n",
       "    <tr>\n",
       "      <th>3</th>\n",
       "      <td>0.052991</td>\n",
       "      <td>0</td>\n",
       "      <td>8344</td>\n",
       "      <td>5.299125</td>\n",
       "    </tr>\n",
       "    <tr>\n",
       "      <th>4</th>\n",
       "      <td>0.024545</td>\n",
       "      <td>0</td>\n",
       "      <td>1763</td>\n",
       "      <td>2.454521</td>\n",
       "    </tr>\n",
       "  </tbody>\n",
       "</table>\n",
       "</div>"
      ],
      "text/plain": [
       "   Conversion_Prob  Converted  CustID  Lead_score\n",
       "0         0.612646          1    2626   61.264586\n",
       "1         0.176747          0    2973   17.674680\n",
       "2         0.035841          0    5392    3.584126\n",
       "3         0.052991          0    8344    5.299125\n",
       "4         0.024545          0    1763    2.454521"
      ]
     },
     "execution_count": 67,
     "metadata": {},
     "output_type": "execute_result"
    }
   ],
   "source": [
    "y_train_pred_final = pd.DataFrame({'Converted':y_train.values, 'Conversion_Prob':y_train_pred})\n",
    "y_train_pred_final['CustID'] = y_train.index\n",
    "y_train_pred_final['Lead_score'] = y_train_pred_final['Conversion_Prob']*100 # Lead Score is calculated from Conversion Probability in 1 to 100 scale\n",
    "y_train_pred_final.head()"
   ]
  },
  {
   "cell_type": "markdown",
   "metadata": {},
   "source": [
    "##### Creating new column 'predicted' with 1 if Lead_score > 50 else 0"
   ]
  },
  {
   "cell_type": "code",
   "execution_count": 68,
   "metadata": {},
   "outputs": [
    {
     "data": {
      "text/html": [
       "<div>\n",
       "<style scoped>\n",
       "    .dataframe tbody tr th:only-of-type {\n",
       "        vertical-align: middle;\n",
       "    }\n",
       "\n",
       "    .dataframe tbody tr th {\n",
       "        vertical-align: top;\n",
       "    }\n",
       "\n",
       "    .dataframe thead th {\n",
       "        text-align: right;\n",
       "    }\n",
       "</style>\n",
       "<table border=\"1\" class=\"dataframe\">\n",
       "  <thead>\n",
       "    <tr style=\"text-align: right;\">\n",
       "      <th></th>\n",
       "      <th>Conversion_Prob</th>\n",
       "      <th>Converted</th>\n",
       "      <th>CustID</th>\n",
       "      <th>Lead_score</th>\n",
       "      <th>predicted</th>\n",
       "    </tr>\n",
       "  </thead>\n",
       "  <tbody>\n",
       "    <tr>\n",
       "      <th>0</th>\n",
       "      <td>0.612646</td>\n",
       "      <td>1</td>\n",
       "      <td>2626</td>\n",
       "      <td>61.264586</td>\n",
       "      <td>1</td>\n",
       "    </tr>\n",
       "    <tr>\n",
       "      <th>1</th>\n",
       "      <td>0.176747</td>\n",
       "      <td>0</td>\n",
       "      <td>2973</td>\n",
       "      <td>17.674680</td>\n",
       "      <td>0</td>\n",
       "    </tr>\n",
       "    <tr>\n",
       "      <th>2</th>\n",
       "      <td>0.035841</td>\n",
       "      <td>0</td>\n",
       "      <td>5392</td>\n",
       "      <td>3.584126</td>\n",
       "      <td>0</td>\n",
       "    </tr>\n",
       "    <tr>\n",
       "      <th>3</th>\n",
       "      <td>0.052991</td>\n",
       "      <td>0</td>\n",
       "      <td>8344</td>\n",
       "      <td>5.299125</td>\n",
       "      <td>0</td>\n",
       "    </tr>\n",
       "    <tr>\n",
       "      <th>4</th>\n",
       "      <td>0.024545</td>\n",
       "      <td>0</td>\n",
       "      <td>1763</td>\n",
       "      <td>2.454521</td>\n",
       "      <td>0</td>\n",
       "    </tr>\n",
       "  </tbody>\n",
       "</table>\n",
       "</div>"
      ],
      "text/plain": [
       "   Conversion_Prob  Converted  CustID  Lead_score  predicted\n",
       "0         0.612646          1    2626   61.264586          1\n",
       "1         0.176747          0    2973   17.674680          0\n",
       "2         0.035841          0    5392    3.584126          0\n",
       "3         0.052991          0    8344    5.299125          0\n",
       "4         0.024545          0    1763    2.454521          0"
      ]
     },
     "execution_count": 68,
     "metadata": {},
     "output_type": "execute_result"
    }
   ],
   "source": [
    "y_train_pred_final['predicted'] = y_train_pred_final.Lead_score.map(lambda x: 1 if x > 50 else 0)\n",
    "\n",
    "# Let's see the head\n",
    "y_train_pred_final.head()"
   ]
  },
  {
   "cell_type": "code",
   "execution_count": 69,
   "metadata": {},
   "outputs": [],
   "source": [
    "# Importing required Python library\n",
    "from sklearn import metrics"
   ]
  },
  {
   "cell_type": "code",
   "execution_count": 70,
   "metadata": {},
   "outputs": [
    {
     "name": "stdout",
     "output_type": "stream",
     "text": [
      "[[3186  403]\n",
      " [ 647 1382]]\n"
     ]
    }
   ],
   "source": [
    "# Confusion matrix \n",
    "confusion = metrics.confusion_matrix(y_train_pred_final.Converted, y_train_pred_final.predicted )\n",
    "print(confusion)"
   ]
  },
  {
   "cell_type": "code",
   "execution_count": 71,
   "metadata": {},
   "outputs": [],
   "source": [
    "# Predicted         not_converted    converted\n",
    "# Actual\n",
    "# not_converted        3186             403\n",
    "# converted            647              1382  "
   ]
  },
  {
   "cell_type": "markdown",
   "metadata": {},
   "source": [
    "## Model Evaluation"
   ]
  },
  {
   "cell_type": "markdown",
   "metadata": {},
   "source": [
    "####  Checking Important metrics that are essential to evaluate the performance of a logistic regression model.\n",
    "* Accuracy\n",
    "* Sensitivity & Specificity\n",
    "* Precision & Recall\n"
   ]
  },
  {
   "cell_type": "code",
   "execution_count": 72,
   "metadata": {
    "scrolled": true
   },
   "outputs": [
    {
     "name": "stdout",
     "output_type": "stream",
     "text": [
      "0.8131007475970096\n"
     ]
    }
   ],
   "source": [
    "# Checking the overall accuracy\n",
    "print(metrics.accuracy_score(y_train_pred_final.Converted, y_train_pred_final.predicted))"
   ]
  },
  {
   "cell_type": "markdown",
   "metadata": {},
   "source": [
    "### Sensitivity & Specificity"
   ]
  },
  {
   "cell_type": "code",
   "execution_count": 73,
   "metadata": {},
   "outputs": [],
   "source": [
    "# Defining True & False positive & negative from confusion matrix\n",
    "TP = confusion[1,1] # true positive \n",
    "TN = confusion[0,0] # true negatives\n",
    "FP = confusion[0,1] # false positives\n",
    "FN = confusion[1,0] # false negatives"
   ]
  },
  {
   "cell_type": "code",
   "execution_count": 74,
   "metadata": {},
   "outputs": [
    {
     "data": {
      "text/plain": [
       "0.681123706259241"
      ]
     },
     "execution_count": 74,
     "metadata": {},
     "output_type": "execute_result"
    }
   ],
   "source": [
    "# Calculating the sensitivity of logistic regression model\n",
    "TP / float(TP+FN)"
   ]
  },
  {
   "cell_type": "code",
   "execution_count": 75,
   "metadata": {
    "scrolled": true
   },
   "outputs": [
    {
     "data": {
      "text/plain": [
       "0.887712454722764"
      ]
     },
     "execution_count": 75,
     "metadata": {},
     "output_type": "execute_result"
    }
   ],
   "source": [
    "# Calculating specificity\n",
    "TN / float(TN+FP)"
   ]
  },
  {
   "cell_type": "markdown",
   "metadata": {},
   "source": [
    "#### Checking other Metrics"
   ]
  },
  {
   "cell_type": "code",
   "execution_count": 76,
   "metadata": {},
   "outputs": [
    {
     "name": "stdout",
     "output_type": "stream",
     "text": [
      "0.112287545277236\n"
     ]
    }
   ],
   "source": [
    "# Calculating false postive rate - predicting converted when customer have not been converted\n",
    "print(FP/ float(TN+FP))"
   ]
  },
  {
   "cell_type": "code",
   "execution_count": 77,
   "metadata": {},
   "outputs": [
    {
     "name": "stdout",
     "output_type": "stream",
     "text": [
      "0.7742296918767507\n"
     ]
    }
   ],
   "source": [
    "# Calculating positive predictive value\n",
    "print (TP / float(TP+FP))"
   ]
  },
  {
   "cell_type": "code",
   "execution_count": 78,
   "metadata": {},
   "outputs": [
    {
     "name": "stdout",
     "output_type": "stream",
     "text": [
      "0.8312027132794156\n"
     ]
    }
   ],
   "source": [
    "# Calculating Negative predictive value\n",
    "print (TN / float(TN+ FN))"
   ]
  },
  {
   "cell_type": "markdown",
   "metadata": {},
   "source": [
    "#### Plotting the ROC Curve"
   ]
  },
  {
   "cell_type": "markdown",
   "metadata": {},
   "source": [
    "An ROC curve see the tradeoff between sensitivity and specificity (any increase in sensitivity will be accompanied by a decrease in specificity)"
   ]
  },
  {
   "cell_type": "code",
   "execution_count": 79,
   "metadata": {},
   "outputs": [],
   "source": [
    "def draw_roc( actual, probs ):\n",
    "    fpr, tpr, thresholds = metrics.roc_curve( actual, probs,\n",
    "                                              drop_intermediate = False )\n",
    "    auc_score = metrics.roc_auc_score( actual, probs )\n",
    "    plt.figure(figsize=(5, 5))\n",
    "    plt.plot( fpr, tpr, label='ROC curve (area = %0.2f)' % auc_score )\n",
    "    plt.plot([0, 1], [0, 1], 'k--')\n",
    "    plt.xlim([0.0, 1.0])\n",
    "    plt.ylim([0.0, 1.05])\n",
    "    plt.xlabel('False Positive Rate or [1 - True Negative Rate]')\n",
    "    plt.ylabel('True Positive Rate')\n",
    "    plt.title('Receiver operating characteristic example')\n",
    "    plt.legend(loc=\"lower right\")\n",
    "    plt.show()\n",
    "\n",
    "    return None"
   ]
  },
  {
   "cell_type": "code",
   "execution_count": 80,
   "metadata": {},
   "outputs": [],
   "source": [
    "fpr, tpr, thresholds = metrics.roc_curve( y_train_pred_final.Converted, y_train_pred_final.Conversion_Prob, drop_intermediate = False )"
   ]
  },
  {
   "cell_type": "code",
   "execution_count": 81,
   "metadata": {
    "scrolled": false
   },
   "outputs": [
    {
     "data": {
      "image/png": "[encoded data removed]",
      "text/plain": [
       "<Figure size 360x360 with 1 Axes>"
      ]
     },
     "metadata": {},
     "output_type": "display_data"
    }
   ],
   "source": [
    "draw_roc(y_train_pred_final.Converted, y_train_pred_final.Conversion_Prob)"
   ]
  },
  {
   "cell_type": "markdown",
   "metadata": {},
   "source": [
    "#### Plotting sensitivity, specificity and accuracy together "
   ]
  },
  {
   "cell_type": "code",
   "execution_count": 82,
   "metadata": {},
   "outputs": [
    {
     "data": {
      "text/html": [
       "<div>\n",
       "<style scoped>\n",
       "    .dataframe tbody tr th:only-of-type {\n",
       "        vertical-align: middle;\n",
       "    }\n",
       "\n",
       "    .dataframe tbody tr th {\n",
       "        vertical-align: top;\n",
       "    }\n",
       "\n",
       "    .dataframe thead th {\n",
       "        text-align: right;\n",
       "    }\n",
       "</style>\n",
       "<table border=\"1\" class=\"dataframe\">\n",
       "  <thead>\n",
       "    <tr style=\"text-align: right;\">\n",
       "      <th></th>\n",
       "      <th>Conversion_Prob</th>\n",
       "      <th>Converted</th>\n",
       "      <th>CustID</th>\n",
       "      <th>Lead_score</th>\n",
       "      <th>predicted</th>\n",
       "      <th>0.0</th>\n",
       "      <th>0.1</th>\n",
       "      <th>0.2</th>\n",
       "      <th>0.3</th>\n",
       "      <th>0.4</th>\n",
       "      <th>0.5</th>\n",
       "      <th>0.6</th>\n",
       "      <th>0.7</th>\n",
       "      <th>0.8</th>\n",
       "      <th>0.9</th>\n",
       "    </tr>\n",
       "  </thead>\n",
       "  <tbody>\n",
       "    <tr>\n",
       "      <th>0</th>\n",
       "      <td>0.612646</td>\n",
       "      <td>1</td>\n",
       "      <td>2626</td>\n",
       "      <td>61.264586</td>\n",
       "      <td>1</td>\n",
       "      <td>1</td>\n",
       "      <td>1</td>\n",
       "      <td>1</td>\n",
       "      <td>1</td>\n",
       "      <td>1</td>\n",
       "      <td>1</td>\n",
       "      <td>1</td>\n",
       "      <td>0</td>\n",
       "      <td>0</td>\n",
       "      <td>0</td>\n",
       "    </tr>\n",
       "    <tr>\n",
       "      <th>1</th>\n",
       "      <td>0.176747</td>\n",
       "      <td>0</td>\n",
       "      <td>2973</td>\n",
       "      <td>17.674680</td>\n",
       "      <td>0</td>\n",
       "      <td>1</td>\n",
       "      <td>1</td>\n",
       "      <td>0</td>\n",
       "      <td>0</td>\n",
       "      <td>0</td>\n",
       "      <td>0</td>\n",
       "      <td>0</td>\n",
       "      <td>0</td>\n",
       "      <td>0</td>\n",
       "      <td>0</td>\n",
       "    </tr>\n",
       "    <tr>\n",
       "      <th>2</th>\n",
       "      <td>0.035841</td>\n",
       "      <td>0</td>\n",
       "      <td>5392</td>\n",
       "      <td>3.584126</td>\n",
       "      <td>0</td>\n",
       "      <td>1</td>\n",
       "      <td>0</td>\n",
       "      <td>0</td>\n",
       "      <td>0</td>\n",
       "      <td>0</td>\n",
       "      <td>0</td>\n",
       "      <td>0</td>\n",
       "      <td>0</td>\n",
       "      <td>0</td>\n",
       "      <td>0</td>\n",
       "    </tr>\n",
       "    <tr>\n",
       "      <th>3</th>\n",
       "      <td>0.052991</td>\n",
       "      <td>0</td>\n",
       "      <td>8344</td>\n",
       "      <td>5.299125</td>\n",
       "      <td>0</td>\n",
       "      <td>1</td>\n",
       "      <td>0</td>\n",
       "      <td>0</td>\n",
       "      <td>0</td>\n",
       "      <td>0</td>\n",
       "      <td>0</td>\n",
       "      <td>0</td>\n",
       "      <td>0</td>\n",
       "      <td>0</td>\n",
       "      <td>0</td>\n",
       "    </tr>\n",
       "    <tr>\n",
       "      <th>4</th>\n",
       "      <td>0.024545</td>\n",
       "      <td>0</td>\n",
       "      <td>1763</td>\n",
       "      <td>2.454521</td>\n",
       "      <td>0</td>\n",
       "      <td>1</td>\n",
       "      <td>0</td>\n",
       "      <td>0</td>\n",
       "      <td>0</td>\n",
       "      <td>0</td>\n",
       "      <td>0</td>\n",
       "      <td>0</td>\n",
       "      <td>0</td>\n",
       "      <td>0</td>\n",
       "      <td>0</td>\n",
       "    </tr>\n",
       "  </tbody>\n",
       "</table>\n",
       "</div>"
      ],
      "text/plain": [
       "   Conversion_Prob  Converted  CustID  Lead_score  predicted  0.0  0.1  0.2  \\\n",
       "0         0.612646          1    2626   61.264586          1    1    1    1   \n",
       "1         0.176747          0    2973   17.674680          0    1    1    0   \n",
       "2         0.035841          0    5392    3.584126          0    1    0    0   \n",
       "3         0.052991          0    8344    5.299125          0    1    0    0   \n",
       "4         0.024545          0    1763    2.454521          0    1    0    0   \n",
       "\n",
       "   0.3  0.4  0.5  0.6  0.7  0.8  0.9  \n",
       "0    1    1    1    1    0    0    0  \n",
       "1    0    0    0    0    0    0    0  \n",
       "2    0    0    0    0    0    0    0  \n",
       "3    0    0    0    0    0    0    0  \n",
       "4    0    0    0    0    0    0    0  "
      ]
     },
     "execution_count": 82,
     "metadata": {},
     "output_type": "execute_result"
    }
   ],
   "source": [
    "# Let's create columns with different probability cutoffs \n",
    "numbers = [float(x)/10 for x in range(10)]\n",
    "for i in numbers:\n",
    "    y_train_pred_final[i]= y_train_pred_final.Conversion_Prob.map(lambda x: 1 if x > i else 0)\n",
    "y_train_pred_final.head()"
   ]
  },
  {
   "cell_type": "code",
   "execution_count": 83,
   "metadata": {},
   "outputs": [
    {
     "name": "stdout",
     "output_type": "stream",
     "text": [
      "     prob  accuracy     sensi     speci\n",
      "0.0   0.0  0.361161  1.000000  0.000000\n",
      "0.1   0.1  0.595230  0.950222  0.394539\n",
      "0.2   0.2  0.734069  0.906851  0.636389\n",
      "0.3   0.3  0.795123  0.814687  0.784062\n",
      "0.4   0.4  0.811855  0.752587  0.845361\n",
      "0.5   0.5  0.813101  0.681124  0.887712\n",
      "0.6   0.6  0.807049  0.605224  0.921148\n",
      "0.7   0.7  0.780527  0.461311  0.960992\n",
      "0.8   0.8  0.763083  0.388369  0.974923\n",
      "0.9   0.9  0.716447  0.229670  0.991641\n"
     ]
    }
   ],
   "source": [
    "# Now let's calculate accuracy sensitivity and specificity for various probability cutoffs.\n",
    "cutoff_df = pd.DataFrame( columns = ['prob','accuracy','sensi','speci'])\n",
    "from sklearn.metrics import confusion_matrix\n",
    "\n",
    "num = [0.0,0.1,0.2,0.3,0.4,0.5,0.6,0.7,0.8,0.9]\n",
    "for i in num:\n",
    "    cm1 = metrics.confusion_matrix(y_train_pred_final.Converted, y_train_pred_final[i] )\n",
    "    total1=sum(sum(cm1))\n",
    "    accuracy = (cm1[0,0]+cm1[1,1])/total1\n",
    "    \n",
    "    speci = cm1[0,0]/(cm1[0,0]+cm1[0,1])\n",
    "    sensi = cm1[1,1]/(cm1[1,0]+cm1[1,1])\n",
    "    cutoff_df.loc[i] =[ i ,accuracy,sensi,speci]\n",
    "print(cutoff_df)"
   ]
  },
  {
   "cell_type": "code",
   "execution_count": 84,
   "metadata": {
    "scrolled": true
   },
   "outputs": [
    {
     "data": {
      "image/png": "[encoded data removed]",
      "text/plain": [
       "<Figure size 432x288 with 1 Axes>"
      ]
     },
     "metadata": {},
     "output_type": "display_data"
    }
   ],
   "source": [
    "# Let's plot accuracy sensitivity and specificity for various probabilities.\n",
    "cutoff_df.plot.line(x='prob', y=['accuracy','sensi','speci'])\n",
    "plt.show()"
   ]
  },
  {
   "cell_type": "markdown",
   "metadata": {},
   "source": [
    "#### We can see from the curve above, sensitivity, specificity & accuracy has balanced value at around 0.35 conversion probability cutoff. However, We will check Precision & recall now first to decide the optimal cutoff"
   ]
  },
  {
   "cell_type": "markdown",
   "metadata": {},
   "source": [
    "### Precision and Recall"
   ]
  },
  {
   "cell_type": "code",
   "execution_count": 85,
   "metadata": {},
   "outputs": [
    {
     "data": {
      "text/plain": [
       "array([[3186,  403],\n",
       "       [ 647, 1382]], dtype=int64)"
      ]
     },
     "execution_count": 85,
     "metadata": {},
     "output_type": "execute_result"
    }
   ],
   "source": [
    "confusion = metrics.confusion_matrix(y_train_pred_final.Converted, y_train_pred_final.predicted )\n",
    "confusion"
   ]
  },
  {
   "cell_type": "markdown",
   "metadata": {},
   "source": [
    "#### Precision\n",
    "TP / TP + FP"
   ]
  },
  {
   "cell_type": "code",
   "execution_count": 86,
   "metadata": {},
   "outputs": [
    {
     "data": {
      "text/plain": [
       "0.7742296918767507"
      ]
     },
     "execution_count": 86,
     "metadata": {},
     "output_type": "execute_result"
    }
   ],
   "source": [
    "# Calculating Precision\n",
    "\n",
    "confusion[1,1]/(confusion[0,1]+confusion[1,1])"
   ]
  },
  {
   "cell_type": "markdown",
   "metadata": {},
   "source": [
    "##### Recall\n",
    "TP / TP + FN"
   ]
  },
  {
   "cell_type": "code",
   "execution_count": 87,
   "metadata": {},
   "outputs": [
    {
     "data": {
      "text/plain": [
       "0.681123706259241"
      ]
     },
     "execution_count": 87,
     "metadata": {},
     "output_type": "execute_result"
    }
   ],
   "source": [
    "# Calculating Recall\n",
    "\n",
    "confusion[1,1]/(confusion[1,0]+confusion[1,1])"
   ]
  },
  {
   "cell_type": "markdown",
   "metadata": {},
   "source": [
    "### Precision and recall tradeoff\n",
    "\n",
    "There is always a trade off between Precision & recall. We will see this trade off through precision recall curve"
   ]
  },
  {
   "cell_type": "code",
   "execution_count": 88,
   "metadata": {},
   "outputs": [],
   "source": [
    "# Importing required python library\n",
    "\n",
    "from sklearn.metrics import precision_recall_curve"
   ]
  },
  {
   "cell_type": "code",
   "execution_count": 89,
   "metadata": {
    "scrolled": false
   },
   "outputs": [
    {
     "data": {
      "text/plain": [
       "(0       1\n",
       " 1       0\n",
       " 2       0\n",
       " 3       0\n",
       " 4       0\n",
       " 5       0\n",
       " 6       0\n",
       " 7       0\n",
       " 8       0\n",
       " 9       0\n",
       " 10      1\n",
       " 11      0\n",
       " 12      0\n",
       " 13      0\n",
       " 14      1\n",
       " 15      0\n",
       " 16      0\n",
       " 17      0\n",
       " 18      0\n",
       " 19      1\n",
       " 20      0\n",
       " 21      1\n",
       " 22      0\n",
       " 23      0\n",
       " 24      0\n",
       " 25      1\n",
       " 26      1\n",
       " 27      1\n",
       " 28      0\n",
       " 29      0\n",
       "        ..\n",
       " 5588    1\n",
       " 5589    0\n",
       " 5590    1\n",
       " 5591    0\n",
       " 5592    0\n",
       " 5593    0\n",
       " 5594    0\n",
       " 5595    0\n",
       " 5596    0\n",
       " 5597    0\n",
       " 5598    1\n",
       " 5599    1\n",
       " 5600    0\n",
       " 5601    1\n",
       " 5602    0\n",
       " 5603    0\n",
       " 5604    0\n",
       " 5605    0\n",
       " 5606    1\n",
       " 5607    1\n",
       " 5608    1\n",
       " 5609    0\n",
       " 5610    0\n",
       " 5611    0\n",
       " 5612    1\n",
       " 5613    0\n",
       " 5614    0\n",
       " 5615    0\n",
       " 5616    0\n",
       " 5617    0\n",
       " Name: Converted, Length: 5618, dtype: int64, 0       1\n",
       " 1       0\n",
       " 2       0\n",
       " 3       0\n",
       " 4       0\n",
       " 5       0\n",
       " 6       0\n",
       " 7       0\n",
       " 8       0\n",
       " 9       0\n",
       " 10      1\n",
       " 11      0\n",
       " 12      0\n",
       " 13      0\n",
       " 14      1\n",
       " 15      0\n",
       " 16      1\n",
       " 17      0\n",
       " 18      0\n",
       " 19      1\n",
       " 20      0\n",
       " 21      0\n",
       " 22      0\n",
       " 23      0\n",
       " 24      0\n",
       " 25      1\n",
       " 26      1\n",
       " 27      1\n",
       " 28      1\n",
       " 29      0\n",
       "        ..\n",
       " 5588    1\n",
       " 5589    0\n",
       " 5590    1\n",
       " 5591    0\n",
       " 5592    0\n",
       " 5593    0\n",
       " 5594    0\n",
       " 5595    0\n",
       " 5596    0\n",
       " 5597    0\n",
       " 5598    1\n",
       " 5599    0\n",
       " 5600    0\n",
       " 5601    1\n",
       " 5602    0\n",
       " 5603    0\n",
       " 5604    0\n",
       " 5605    0\n",
       " 5606    0\n",
       " 5607    0\n",
       " 5608    1\n",
       " 5609    0\n",
       " 5610    0\n",
       " 5611    0\n",
       " 5612    1\n",
       " 5613    0\n",
       " 5614    0\n",
       " 5615    1\n",
       " 5616    0\n",
       " 5617    0\n",
       " Name: predicted, Length: 5618, dtype: int64)"
      ]
     },
     "execution_count": 89,
     "metadata": {},
     "output_type": "execute_result"
    }
   ],
   "source": [
    "y_train_pred_final.Converted, y_train_pred_final.predicted"
   ]
  },
  {
   "cell_type": "markdown",
   "metadata": {},
   "source": [
    "#### Plotting the precision recall curve"
   ]
  },
  {
   "cell_type": "code",
   "execution_count": 90,
   "metadata": {},
   "outputs": [],
   "source": [
    "p, r, thresholds = precision_recall_curve(y_train_pred_final.Converted, y_train_pred_final.Lead_score)"
   ]
  },
  {
   "cell_type": "code",
   "execution_count": 91,
   "metadata": {},
   "outputs": [
    {
     "data": {
      "image/png": "[encoded data removed]",
      "text/plain": [
       "<Figure size 432x288 with 1 Axes>"
      ]
     },
     "metadata": {},
     "output_type": "display_data"
    }
   ],
   "source": [
    "plt.plot(thresholds, p[:-1], \"g-\") # precision\n",
    "plt.plot(thresholds, r[:-1], \"r-\") # recall\n",
    "plt.show()"
   ]
  },
  {
   "cell_type": "markdown",
   "metadata": {},
   "source": [
    "###  Finding Optimal Cutoff Point for Lead score"
   ]
  },
  {
   "cell_type": "markdown",
   "metadata": {},
   "source": [
    "Our target lead conversion rate is around 80%. Which means Customer which are predicted as Positive, should be around 80% true positive.\n",
    "\n",
    "So the correct measure is Precision which should be around 80%.\n",
    "\n",
    "We will change the lead_score cutoff to increase the Presion value to 80%. If we look at the above precision recall curve, we see that at lead score between 55 to 60, the precision is around 80%. So we checked at different lead_score cutoff values between 55 to 60.\n",
    "\n",
    "As we increase the lead_cut off score the precision increases and recall decreases. So we have selected the optimum value of lead_score cutoff (= 57) such that  Precision is near cutoff value of 80% and recall is as high as possible. \n",
    "\n",
    "This way we get the optimum cutoff for Lead score"
   ]
  },
  {
   "cell_type": "code",
   "execution_count": 92,
   "metadata": {
    "scrolled": true
   },
   "outputs": [
    {
     "data": {
      "text/html": [
       "<div>\n",
       "<style scoped>\n",
       "    .dataframe tbody tr th:only-of-type {\n",
       "        vertical-align: middle;\n",
       "    }\n",
       "\n",
       "    .dataframe tbody tr th {\n",
       "        vertical-align: top;\n",
       "    }\n",
       "\n",
       "    .dataframe thead th {\n",
       "        text-align: right;\n",
       "    }\n",
       "</style>\n",
       "<table border=\"1\" class=\"dataframe\">\n",
       "  <thead>\n",
       "    <tr style=\"text-align: right;\">\n",
       "      <th></th>\n",
       "      <th>Conversion_Prob</th>\n",
       "      <th>Converted</th>\n",
       "      <th>CustID</th>\n",
       "      <th>Lead_score</th>\n",
       "      <th>predicted</th>\n",
       "      <th>0.0</th>\n",
       "      <th>0.1</th>\n",
       "      <th>0.2</th>\n",
       "      <th>0.3</th>\n",
       "      <th>0.4</th>\n",
       "      <th>0.5</th>\n",
       "      <th>0.6</th>\n",
       "      <th>0.7</th>\n",
       "      <th>0.8</th>\n",
       "      <th>0.9</th>\n",
       "    </tr>\n",
       "  </thead>\n",
       "  <tbody>\n",
       "    <tr>\n",
       "      <th>0</th>\n",
       "      <td>0.612646</td>\n",
       "      <td>1</td>\n",
       "      <td>2626</td>\n",
       "      <td>61.264586</td>\n",
       "      <td>1</td>\n",
       "      <td>1</td>\n",
       "      <td>1</td>\n",
       "      <td>1</td>\n",
       "      <td>1</td>\n",
       "      <td>1</td>\n",
       "      <td>1</td>\n",
       "      <td>1</td>\n",
       "      <td>0</td>\n",
       "      <td>0</td>\n",
       "      <td>0</td>\n",
       "    </tr>\n",
       "    <tr>\n",
       "      <th>1</th>\n",
       "      <td>0.176747</td>\n",
       "      <td>0</td>\n",
       "      <td>2973</td>\n",
       "      <td>17.674680</td>\n",
       "      <td>0</td>\n",
       "      <td>1</td>\n",
       "      <td>1</td>\n",
       "      <td>0</td>\n",
       "      <td>0</td>\n",
       "      <td>0</td>\n",
       "      <td>0</td>\n",
       "      <td>0</td>\n",
       "      <td>0</td>\n",
       "      <td>0</td>\n",
       "      <td>0</td>\n",
       "    </tr>\n",
       "    <tr>\n",
       "      <th>2</th>\n",
       "      <td>0.035841</td>\n",
       "      <td>0</td>\n",
       "      <td>5392</td>\n",
       "      <td>3.584126</td>\n",
       "      <td>0</td>\n",
       "      <td>1</td>\n",
       "      <td>0</td>\n",
       "      <td>0</td>\n",
       "      <td>0</td>\n",
       "      <td>0</td>\n",
       "      <td>0</td>\n",
       "      <td>0</td>\n",
       "      <td>0</td>\n",
       "      <td>0</td>\n",
       "      <td>0</td>\n",
       "    </tr>\n",
       "    <tr>\n",
       "      <th>3</th>\n",
       "      <td>0.052991</td>\n",
       "      <td>0</td>\n",
       "      <td>8344</td>\n",
       "      <td>5.299125</td>\n",
       "      <td>0</td>\n",
       "      <td>1</td>\n",
       "      <td>0</td>\n",
       "      <td>0</td>\n",
       "      <td>0</td>\n",
       "      <td>0</td>\n",
       "      <td>0</td>\n",
       "      <td>0</td>\n",
       "      <td>0</td>\n",
       "      <td>0</td>\n",
       "      <td>0</td>\n",
       "    </tr>\n",
       "    <tr>\n",
       "      <th>4</th>\n",
       "      <td>0.024545</td>\n",
       "      <td>0</td>\n",
       "      <td>1763</td>\n",
       "      <td>2.454521</td>\n",
       "      <td>0</td>\n",
       "      <td>1</td>\n",
       "      <td>0</td>\n",
       "      <td>0</td>\n",
       "      <td>0</td>\n",
       "      <td>0</td>\n",
       "      <td>0</td>\n",
       "      <td>0</td>\n",
       "      <td>0</td>\n",
       "      <td>0</td>\n",
       "      <td>0</td>\n",
       "    </tr>\n",
       "  </tbody>\n",
       "</table>\n",
       "</div>"
      ],
      "text/plain": [
       "   Conversion_Prob  Converted  CustID  Lead_score  predicted  0.0  0.1  0.2  \\\n",
       "0         0.612646          1    2626   61.264586          1    1    1    1   \n",
       "1         0.176747          0    2973   17.674680          0    1    1    0   \n",
       "2         0.035841          0    5392    3.584126          0    1    0    0   \n",
       "3         0.052991          0    8344    5.299125          0    1    0    0   \n",
       "4         0.024545          0    1763    2.454521          0    1    0    0   \n",
       "\n",
       "   0.3  0.4  0.5  0.6  0.7  0.8  0.9  \n",
       "0    1    1    1    1    0    0    0  \n",
       "1    0    0    0    0    0    0    0  \n",
       "2    0    0    0    0    0    0    0  \n",
       "3    0    0    0    0    0    0    0  \n",
       "4    0    0    0    0    0    0    0  "
      ]
     },
     "execution_count": 92,
     "metadata": {},
     "output_type": "execute_result"
    }
   ],
   "source": [
    "# Updating Lead_score Cutoff value to 57. \n",
    "y_train_pred_final['predicted'] = y_train_pred_final.Lead_score.map(lambda x: 1 if x > 57 else 0)\n",
    "\n",
    "# Let's see the head\n",
    "y_train_pred_final.head()"
   ]
  },
  {
   "cell_type": "code",
   "execution_count": 93,
   "metadata": {},
   "outputs": [
    {
     "name": "stdout",
     "output_type": "stream",
     "text": [
      "[[3275  314]\n",
      " [ 757 1272]]\n"
     ]
    }
   ],
   "source": [
    "# Confusion matrix \n",
    "confusion = metrics.confusion_matrix(y_train_pred_final.Converted, y_train_pred_final.predicted )\n",
    "print(confusion)"
   ]
  },
  {
   "cell_type": "code",
   "execution_count": 94,
   "metadata": {},
   "outputs": [
    {
     "name": "stdout",
     "output_type": "stream",
     "text": [
      "0.8093627625489498\n"
     ]
    }
   ],
   "source": [
    "# Checking the overall accuracy.\n",
    "print(metrics.accuracy_score(y_train_pred_final.Converted, y_train_pred_final.predicted))"
   ]
  },
  {
   "cell_type": "code",
   "execution_count": 95,
   "metadata": {
    "scrolled": false
   },
   "outputs": [
    {
     "data": {
      "text/plain": [
       "0.8020176544766708"
      ]
     },
     "execution_count": 95,
     "metadata": {},
     "output_type": "execute_result"
    }
   ],
   "source": [
    "# Calculating the Precision\n",
    "confusion[1,1]/(confusion[0,1]+confusion[1,1])"
   ]
  },
  {
   "cell_type": "code",
   "execution_count": 96,
   "metadata": {},
   "outputs": [
    {
     "data": {
      "text/plain": [
       "0.6269098077870873"
      ]
     },
     "execution_count": 96,
     "metadata": {},
     "output_type": "execute_result"
    }
   ],
   "source": [
    "# Calculating Recall\n",
    "\n",
    "confusion[1,1]/(confusion[1,0]+confusion[1,1])"
   ]
  },
  {
   "cell_type": "markdown",
   "metadata": {},
   "source": [
    "We are getting 'Precision' of 0.802. It means lead conversion rate is around 80%. Though we have to sacrifice on 'Recall' here"
   ]
  },
  {
   "cell_type": "markdown",
   "metadata": {},
   "source": [
    "We will also check sensitivity and specificity with new cutoff value of 57"
   ]
  },
  {
   "cell_type": "markdown",
   "metadata": {},
   "source": [
    "### Making predictions on the test set"
   ]
  },
  {
   "cell_type": "code",
   "execution_count": 97,
   "metadata": {
    "scrolled": false
   },
   "outputs": [],
   "source": [
    "# Scaling the numeric variables\n",
    "\n",
    "X_test[['TotalVisits','Total Time Spent on Website','Page Views Per Visit']] = scaler.transform(X_test[['TotalVisits','Total Time Spent on Website','Page Views Per Visit']])"
   ]
  },
  {
   "cell_type": "code",
   "execution_count": 98,
   "metadata": {},
   "outputs": [
    {
     "data": {
      "text/html": [
       "<div>\n",
       "<style scoped>\n",
       "    .dataframe tbody tr th:only-of-type {\n",
       "        vertical-align: middle;\n",
       "    }\n",
       "\n",
       "    .dataframe tbody tr th {\n",
       "        vertical-align: top;\n",
       "    }\n",
       "\n",
       "    .dataframe thead th {\n",
       "        text-align: right;\n",
       "    }\n",
       "</style>\n",
       "<table border=\"1\" class=\"dataframe\">\n",
       "  <thead>\n",
       "    <tr style=\"text-align: right;\">\n",
       "      <th></th>\n",
       "      <th>Do Not Email</th>\n",
       "      <th>Total Time Spent on Website</th>\n",
       "      <th>Lead Origin_Lead Add Form</th>\n",
       "      <th>Lead Source_Olark Chat</th>\n",
       "      <th>Lead Source_Welingak Website</th>\n",
       "      <th>Last Activity_Had a Phone Conversation</th>\n",
       "      <th>Last Activity_Olark Chat Conversation</th>\n",
       "      <th>What is your current occupation_Working Professional</th>\n",
       "      <th>Last Notable Activity_SMS Sent</th>\n",
       "      <th>Last Notable Activity_Unreachable</th>\n",
       "    </tr>\n",
       "  </thead>\n",
       "  <tbody>\n",
       "    <tr>\n",
       "      <th>2375</th>\n",
       "      <td>1</td>\n",
       "      <td>-0.416445</td>\n",
       "      <td>0</td>\n",
       "      <td>0</td>\n",
       "      <td>0</td>\n",
       "      <td>0</td>\n",
       "      <td>0</td>\n",
       "      <td>0</td>\n",
       "      <td>0</td>\n",
       "      <td>0</td>\n",
       "    </tr>\n",
       "    <tr>\n",
       "      <th>5128</th>\n",
       "      <td>0</td>\n",
       "      <td>-0.384701</td>\n",
       "      <td>0</td>\n",
       "      <td>0</td>\n",
       "      <td>0</td>\n",
       "      <td>0</td>\n",
       "      <td>0</td>\n",
       "      <td>0</td>\n",
       "      <td>1</td>\n",
       "      <td>0</td>\n",
       "    </tr>\n",
       "    <tr>\n",
       "      <th>2484</th>\n",
       "      <td>0</td>\n",
       "      <td>0.893505</td>\n",
       "      <td>0</td>\n",
       "      <td>0</td>\n",
       "      <td>0</td>\n",
       "      <td>0</td>\n",
       "      <td>0</td>\n",
       "      <td>0</td>\n",
       "      <td>0</td>\n",
       "      <td>0</td>\n",
       "    </tr>\n",
       "    <tr>\n",
       "      <th>2445</th>\n",
       "      <td>0</td>\n",
       "      <td>-0.850274</td>\n",
       "      <td>0</td>\n",
       "      <td>0</td>\n",
       "      <td>0</td>\n",
       "      <td>0</td>\n",
       "      <td>0</td>\n",
       "      <td>0</td>\n",
       "      <td>0</td>\n",
       "      <td>0</td>\n",
       "    </tr>\n",
       "    <tr>\n",
       "      <th>4014</th>\n",
       "      <td>0</td>\n",
       "      <td>-0.860855</td>\n",
       "      <td>0</td>\n",
       "      <td>1</td>\n",
       "      <td>0</td>\n",
       "      <td>0</td>\n",
       "      <td>0</td>\n",
       "      <td>0</td>\n",
       "      <td>0</td>\n",
       "      <td>0</td>\n",
       "    </tr>\n",
       "  </tbody>\n",
       "</table>\n",
       "</div>"
      ],
      "text/plain": [
       "      Do Not Email  Total Time Spent on Website  Lead Origin_Lead Add Form  \\\n",
       "2375             1                    -0.416445                          0   \n",
       "5128             0                    -0.384701                          0   \n",
       "2484             0                     0.893505                          0   \n",
       "2445             0                    -0.850274                          0   \n",
       "4014             0                    -0.860855                          0   \n",
       "\n",
       "      Lead Source_Olark Chat  Lead Source_Welingak Website  \\\n",
       "2375                       0                             0   \n",
       "5128                       0                             0   \n",
       "2484                       0                             0   \n",
       "2445                       0                             0   \n",
       "4014                       1                             0   \n",
       "\n",
       "      Last Activity_Had a Phone Conversation  \\\n",
       "2375                                       0   \n",
       "5128                                       0   \n",
       "2484                                       0   \n",
       "2445                                       0   \n",
       "4014                                       0   \n",
       "\n",
       "      Last Activity_Olark Chat Conversation  \\\n",
       "2375                                      0   \n",
       "5128                                      0   \n",
       "2484                                      0   \n",
       "2445                                      0   \n",
       "4014                                      0   \n",
       "\n",
       "      What is your current occupation_Working Professional  \\\n",
       "2375                                                  0      \n",
       "5128                                                  0      \n",
       "2484                                                  0      \n",
       "2445                                                  0      \n",
       "4014                                                  0      \n",
       "\n",
       "      Last Notable Activity_SMS Sent  Last Notable Activity_Unreachable  \n",
       "2375                               0                                  0  \n",
       "5128                               1                                  0  \n",
       "2484                               0                                  0  \n",
       "2445                               0                                  0  \n",
       "4014                               0                                  0  "
      ]
     },
     "execution_count": 98,
     "metadata": {},
     "output_type": "execute_result"
    }
   ],
   "source": [
    "X_test = X_test[col]\n",
    "X_test.head()"
   ]
  },
  {
   "cell_type": "code",
   "execution_count": 99,
   "metadata": {},
   "outputs": [],
   "source": [
    "# Adding a constant variable \n",
    "X_test_sm = sm.add_constant(X_test)"
   ]
  },
  {
   "cell_type": "code",
   "execution_count": 100,
   "metadata": {},
   "outputs": [],
   "source": [
    "# Predicting on test data\n",
    "y_test_pred = res.predict(X_test_sm)"
   ]
  },
  {
   "cell_type": "code",
   "execution_count": 101,
   "metadata": {},
   "outputs": [
    {
     "data": {
      "text/plain": [
       "2375    0.025693\n",
       "5128    0.389437\n",
       "2484    0.343391\n",
       "2445    0.069180\n",
       "4014    0.236802\n",
       "3185    0.851783\n",
       "946     0.216670\n",
       "1707    0.052991\n",
       "4333    0.767813\n",
       "89      0.489492\n",
       "dtype: float64"
      ]
     },
     "execution_count": 101,
     "metadata": {},
     "output_type": "execute_result"
    }
   ],
   "source": [
    "y_test_pred[:10]"
   ]
  },
  {
   "cell_type": "code",
   "execution_count": 102,
   "metadata": {},
   "outputs": [],
   "source": [
    "# Converting y_pred to a dataframe which is an array\n",
    "y_pred_1 = pd.DataFrame(y_test_pred)"
   ]
  },
  {
   "cell_type": "code",
   "execution_count": 103,
   "metadata": {},
   "outputs": [
    {
     "data": {
      "text/html": [
       "<div>\n",
       "<style scoped>\n",
       "    .dataframe tbody tr th:only-of-type {\n",
       "        vertical-align: middle;\n",
       "    }\n",
       "\n",
       "    .dataframe tbody tr th {\n",
       "        vertical-align: top;\n",
       "    }\n",
       "\n",
       "    .dataframe thead th {\n",
       "        text-align: right;\n",
       "    }\n",
       "</style>\n",
       "<table border=\"1\" class=\"dataframe\">\n",
       "  <thead>\n",
       "    <tr style=\"text-align: right;\">\n",
       "      <th></th>\n",
       "      <th>0</th>\n",
       "    </tr>\n",
       "  </thead>\n",
       "  <tbody>\n",
       "    <tr>\n",
       "      <th>2375</th>\n",
       "      <td>0.025693</td>\n",
       "    </tr>\n",
       "    <tr>\n",
       "      <th>5128</th>\n",
       "      <td>0.389437</td>\n",
       "    </tr>\n",
       "    <tr>\n",
       "      <th>2484</th>\n",
       "      <td>0.343391</td>\n",
       "    </tr>\n",
       "    <tr>\n",
       "      <th>2445</th>\n",
       "      <td>0.069180</td>\n",
       "    </tr>\n",
       "    <tr>\n",
       "      <th>4014</th>\n",
       "      <td>0.236802</td>\n",
       "    </tr>\n",
       "  </tbody>\n",
       "</table>\n",
       "</div>"
      ],
      "text/plain": [
       "             0\n",
       "2375  0.025693\n",
       "5128  0.389437\n",
       "2484  0.343391\n",
       "2445  0.069180\n",
       "4014  0.236802"
      ]
     },
     "execution_count": 103,
     "metadata": {},
     "output_type": "execute_result"
    }
   ],
   "source": [
    "# Let's see the head\n",
    "y_pred_1.head()"
   ]
  },
  {
   "cell_type": "code",
   "execution_count": 104,
   "metadata": {},
   "outputs": [],
   "source": [
    "# Converting y_test to dataframe\n",
    "y_test_df = pd.DataFrame(y_test)"
   ]
  },
  {
   "cell_type": "code",
   "execution_count": 105,
   "metadata": {},
   "outputs": [],
   "source": [
    "# Putting CustID to index\n",
    "y_test_df['CustID'] = y_test_df.index"
   ]
  },
  {
   "cell_type": "code",
   "execution_count": 106,
   "metadata": {},
   "outputs": [],
   "source": [
    "# Removing index for both dataframes to append them side by side \n",
    "y_pred_1.reset_index(drop=True, inplace=True)\n",
    "y_test_df.reset_index(drop=True, inplace=True)"
   ]
  },
  {
   "cell_type": "code",
   "execution_count": 107,
   "metadata": {},
   "outputs": [],
   "source": [
    "# Appending y_test_df and y_pred_1\n",
    "y_pred_final = pd.concat([y_test_df, y_pred_1],axis=1)"
   ]
  },
  {
   "cell_type": "code",
   "execution_count": 108,
   "metadata": {},
   "outputs": [
    {
     "data": {
      "text/html": [
       "<div>\n",
       "<style scoped>\n",
       "    .dataframe tbody tr th:only-of-type {\n",
       "        vertical-align: middle;\n",
       "    }\n",
       "\n",
       "    .dataframe tbody tr th {\n",
       "        vertical-align: top;\n",
       "    }\n",
       "\n",
       "    .dataframe thead th {\n",
       "        text-align: right;\n",
       "    }\n",
       "</style>\n",
       "<table border=\"1\" class=\"dataframe\">\n",
       "  <thead>\n",
       "    <tr style=\"text-align: right;\">\n",
       "      <th></th>\n",
       "      <th>Converted</th>\n",
       "      <th>CustID</th>\n",
       "      <th>0</th>\n",
       "    </tr>\n",
       "  </thead>\n",
       "  <tbody>\n",
       "    <tr>\n",
       "      <th>0</th>\n",
       "      <td>0</td>\n",
       "      <td>2375</td>\n",
       "      <td>0.025693</td>\n",
       "    </tr>\n",
       "    <tr>\n",
       "      <th>1</th>\n",
       "      <td>0</td>\n",
       "      <td>5128</td>\n",
       "      <td>0.389437</td>\n",
       "    </tr>\n",
       "    <tr>\n",
       "      <th>2</th>\n",
       "      <td>1</td>\n",
       "      <td>2484</td>\n",
       "      <td>0.343391</td>\n",
       "    </tr>\n",
       "    <tr>\n",
       "      <th>3</th>\n",
       "      <td>0</td>\n",
       "      <td>2445</td>\n",
       "      <td>0.069180</td>\n",
       "    </tr>\n",
       "    <tr>\n",
       "      <th>4</th>\n",
       "      <td>1</td>\n",
       "      <td>4014</td>\n",
       "      <td>0.236802</td>\n",
       "    </tr>\n",
       "  </tbody>\n",
       "</table>\n",
       "</div>"
      ],
      "text/plain": [
       "   Converted  CustID         0\n",
       "0          0    2375  0.025693\n",
       "1          0    5128  0.389437\n",
       "2          1    2484  0.343391\n",
       "3          0    2445  0.069180\n",
       "4          1    4014  0.236802"
      ]
     },
     "execution_count": 108,
     "metadata": {},
     "output_type": "execute_result"
    }
   ],
   "source": [
    "# Checking the dataframe head\n",
    "y_pred_final.head()"
   ]
  },
  {
   "cell_type": "code",
   "execution_count": 109,
   "metadata": {},
   "outputs": [],
   "source": [
    "# Renaming the column \n",
    "y_pred_final= y_pred_final.rename(columns={ 0 : 'Conversion_Prob'})"
   ]
  },
  {
   "cell_type": "code",
   "execution_count": 110,
   "metadata": {},
   "outputs": [],
   "source": [
    "# Rearranging the columns  & Adding column for Lead_score\n",
    "y_pred_final = y_pred_final.reindex_axis(['CustID','Converted','Conversion_Prob'], axis=1)\n",
    "y_pred_final['Lead_score']=y_pred_final['Conversion_Prob']*100 # Lead Score is calculated from Conversion Probability in 1 to 100 scale"
   ]
  },
  {
   "cell_type": "code",
   "execution_count": 111,
   "metadata": {},
   "outputs": [
    {
     "data": {
      "text/html": [
       "<div>\n",
       "<style scoped>\n",
       "    .dataframe tbody tr th:only-of-type {\n",
       "        vertical-align: middle;\n",
       "    }\n",
       "\n",
       "    .dataframe tbody tr th {\n",
       "        vertical-align: top;\n",
       "    }\n",
       "\n",
       "    .dataframe thead th {\n",
       "        text-align: right;\n",
       "    }\n",
       "</style>\n",
       "<table border=\"1\" class=\"dataframe\">\n",
       "  <thead>\n",
       "    <tr style=\"text-align: right;\">\n",
       "      <th></th>\n",
       "      <th>CustID</th>\n",
       "      <th>Converted</th>\n",
       "      <th>Conversion_Prob</th>\n",
       "      <th>Lead_score</th>\n",
       "    </tr>\n",
       "  </thead>\n",
       "  <tbody>\n",
       "    <tr>\n",
       "      <th>0</th>\n",
       "      <td>2375</td>\n",
       "      <td>0</td>\n",
       "      <td>0.025693</td>\n",
       "      <td>2.569320</td>\n",
       "    </tr>\n",
       "    <tr>\n",
       "      <th>1</th>\n",
       "      <td>5128</td>\n",
       "      <td>0</td>\n",
       "      <td>0.389437</td>\n",
       "      <td>38.943660</td>\n",
       "    </tr>\n",
       "    <tr>\n",
       "      <th>2</th>\n",
       "      <td>2484</td>\n",
       "      <td>1</td>\n",
       "      <td>0.343391</td>\n",
       "      <td>34.339090</td>\n",
       "    </tr>\n",
       "    <tr>\n",
       "      <th>3</th>\n",
       "      <td>2445</td>\n",
       "      <td>0</td>\n",
       "      <td>0.069180</td>\n",
       "      <td>6.917963</td>\n",
       "    </tr>\n",
       "    <tr>\n",
       "      <th>4</th>\n",
       "      <td>4014</td>\n",
       "      <td>1</td>\n",
       "      <td>0.236802</td>\n",
       "      <td>23.680156</td>\n",
       "    </tr>\n",
       "  </tbody>\n",
       "</table>\n",
       "</div>"
      ],
      "text/plain": [
       "   CustID  Converted  Conversion_Prob  Lead_score\n",
       "0    2375          0         0.025693    2.569320\n",
       "1    5128          0         0.389437   38.943660\n",
       "2    2484          1         0.343391   34.339090\n",
       "3    2445          0         0.069180    6.917963\n",
       "4    4014          1         0.236802   23.680156"
      ]
     },
     "execution_count": 111,
     "metadata": {},
     "output_type": "execute_result"
    }
   ],
   "source": [
    "# Let's see the head of y_pred_final\n",
    "y_pred_final.head()"
   ]
  },
  {
   "cell_type": "code",
   "execution_count": 112,
   "metadata": {},
   "outputs": [],
   "source": [
    "# Setting the Lead_score Cutoff value to 57 (which was considered in Train set) for predicting 'Converted'. \n",
    "\n",
    "y_pred_final['final_predicted'] = y_pred_final.Lead_score.map(lambda x: 1 if x > 57 else 0)"
   ]
  },
  {
   "cell_type": "code",
   "execution_count": 113,
   "metadata": {},
   "outputs": [
    {
     "data": {
      "text/html": [
       "<div>\n",
       "<style scoped>\n",
       "    .dataframe tbody tr th:only-of-type {\n",
       "        vertical-align: middle;\n",
       "    }\n",
       "\n",
       "    .dataframe tbody tr th {\n",
       "        vertical-align: top;\n",
       "    }\n",
       "\n",
       "    .dataframe thead th {\n",
       "        text-align: right;\n",
       "    }\n",
       "</style>\n",
       "<table border=\"1\" class=\"dataframe\">\n",
       "  <thead>\n",
       "    <tr style=\"text-align: right;\">\n",
       "      <th></th>\n",
       "      <th>CustID</th>\n",
       "      <th>Converted</th>\n",
       "      <th>Conversion_Prob</th>\n",
       "      <th>Lead_score</th>\n",
       "      <th>final_predicted</th>\n",
       "    </tr>\n",
       "  </thead>\n",
       "  <tbody>\n",
       "    <tr>\n",
       "      <th>0</th>\n",
       "      <td>2375</td>\n",
       "      <td>0</td>\n",
       "      <td>0.025693</td>\n",
       "      <td>2.569320</td>\n",
       "      <td>0</td>\n",
       "    </tr>\n",
       "    <tr>\n",
       "      <th>1</th>\n",
       "      <td>5128</td>\n",
       "      <td>0</td>\n",
       "      <td>0.389437</td>\n",
       "      <td>38.943660</td>\n",
       "      <td>0</td>\n",
       "    </tr>\n",
       "    <tr>\n",
       "      <th>2</th>\n",
       "      <td>2484</td>\n",
       "      <td>1</td>\n",
       "      <td>0.343391</td>\n",
       "      <td>34.339090</td>\n",
       "      <td>0</td>\n",
       "    </tr>\n",
       "    <tr>\n",
       "      <th>3</th>\n",
       "      <td>2445</td>\n",
       "      <td>0</td>\n",
       "      <td>0.069180</td>\n",
       "      <td>6.917963</td>\n",
       "      <td>0</td>\n",
       "    </tr>\n",
       "    <tr>\n",
       "      <th>4</th>\n",
       "      <td>4014</td>\n",
       "      <td>1</td>\n",
       "      <td>0.236802</td>\n",
       "      <td>23.680156</td>\n",
       "      <td>0</td>\n",
       "    </tr>\n",
       "  </tbody>\n",
       "</table>\n",
       "</div>"
      ],
      "text/plain": [
       "   CustID  Converted  Conversion_Prob  Lead_score  final_predicted\n",
       "0    2375          0         0.025693    2.569320                0\n",
       "1    5128          0         0.389437   38.943660                0\n",
       "2    2484          1         0.343391   34.339090                0\n",
       "3    2445          0         0.069180    6.917963                0\n",
       "4    4014          1         0.236802   23.680156                0"
      ]
     },
     "execution_count": 113,
     "metadata": {},
     "output_type": "execute_result"
    }
   ],
   "source": [
    "y_pred_final.head()"
   ]
  },
  {
   "cell_type": "code",
   "execution_count": 114,
   "metadata": {},
   "outputs": [
    {
     "data": {
      "text/plain": [
       "0.8078040680780407"
      ]
     },
     "execution_count": 114,
     "metadata": {},
     "output_type": "execute_result"
    }
   ],
   "source": [
    "# Checking the overall accuracy.\n",
    "metrics.accuracy_score(y_pred_final.Converted, y_pred_final.final_predicted)"
   ]
  },
  {
   "cell_type": "code",
   "execution_count": 115,
   "metadata": {},
   "outputs": [
    {
     "data": {
      "text/plain": [
       "array([[1435,  120],\n",
       "       [ 343,  511]], dtype=int64)"
      ]
     },
     "execution_count": 115,
     "metadata": {},
     "output_type": "execute_result"
    }
   ],
   "source": [
    "# Confusion matrix\n",
    "confusion2 = metrics.confusion_matrix(y_pred_final.Converted, y_pred_final.final_predicted )\n",
    "confusion2"
   ]
  },
  {
   "cell_type": "code",
   "execution_count": 116,
   "metadata": {},
   "outputs": [],
   "source": [
    "# Defining True & False positive & negative from confusion matrix\n",
    "TP = confusion2[1,1] # true positive \n",
    "TN = confusion2[0,0] # true negatives\n",
    "FP = confusion2[0,1] # false positives\n",
    "FN = confusion2[1,0] # false negatives"
   ]
  },
  {
   "cell_type": "code",
   "execution_count": 117,
   "metadata": {},
   "outputs": [
    {
     "data": {
      "text/plain": [
       "0.5983606557377049"
      ]
     },
     "execution_count": 117,
     "metadata": {},
     "output_type": "execute_result"
    }
   ],
   "source": [
    "# Checking sensitivity of our logistic regression model on test data\n",
    "TP / float(TP+FN)"
   ]
  },
  {
   "cell_type": "code",
   "execution_count": 118,
   "metadata": {},
   "outputs": [
    {
     "data": {
      "text/plain": [
       "0.9228295819935691"
      ]
     },
     "execution_count": 118,
     "metadata": {},
     "output_type": "execute_result"
    }
   ],
   "source": [
    "# Calculating specificity  on test data\n",
    "TN / float(TN+FP)"
   ]
  },
  {
   "cell_type": "code",
   "execution_count": 119,
   "metadata": {
    "scrolled": true
   },
   "outputs": [
    {
     "data": {
      "text/plain": [
       "0.8098256735340729"
      ]
     },
     "execution_count": 119,
     "metadata": {},
     "output_type": "execute_result"
    }
   ],
   "source": [
    "# Calculating Precision of our model on test data\n",
    "\n",
    "confusion2[1,1]/(confusion2[0,1]+confusion2[1,1])"
   ]
  },
  {
   "cell_type": "code",
   "execution_count": 120,
   "metadata": {},
   "outputs": [
    {
     "data": {
      "text/plain": [
       "0.5983606557377049"
      ]
     },
     "execution_count": 120,
     "metadata": {},
     "output_type": "execute_result"
    }
   ],
   "source": [
    "# Calculating Recall of our model on test data\n",
    "\n",
    "confusion2[1,1]/(confusion2[1,0]+confusion2[1,1])"
   ]
  },
  {
   "cell_type": "markdown",
   "metadata": {},
   "source": [
    "## Conclusion"
   ]
  },
  {
   "cell_type": "markdown",
   "metadata": {},
   "source": [
    "In test dataset, The precision value is near target 80% and recall value is also around 59.8 %. \n",
    "The Precision value is similar to the values calculated in Train dataset. Therefore, we can say our model is stable.\n",
    "\n",
    "The model accuracy is also similar in Test dataset as it was in Train set"
   ]
  },
  {
   "cell_type": "markdown",
   "metadata": {},
   "source": [
    "#### Below are the significant features which are used in the final model.\n",
    "\n",
    "* Lead Origin_Lead Add Form\n",
    "* Last Activity_Had a Phone Conversation\n",
    "* Last Notable Activity_Unreachable\n",
    "* Last Activity_Olark Chat Conversation \n",
    "* Lead Source_Welingak Website\n",
    "* Last Notable Activity_SMS Sent\n",
    "* Do Not Email\n",
    "* Lead Source_Olark Chat\n",
    "* What is your current occupation_Working Professional\n",
    "* Total Time Spent on Website\n",
    "\n",
    "The above features are significant in predicting Lead score and deciding whether customer will get Converted or not.\n",
    "\n",
    "In future scenarios, As per business requirement, the model can be used for other needs like maximum conversion of leads, etc by changing the lead score cutoff based on one of metrics i.e. Recall/ Sensitivity, Precision, Specificity etc."
   ]
  }
 ],
 "metadata": {
  "kernelspec": {
   "display_name": "Python 3",
   "language": "python",
   "name": "python3"
  },
  "language_info": {
   "codemirror_mode": {
    "name": "ipython",
    "version": 3
   },
   "file_extension": ".py",
   "mimetype": "text/x-python",
   "name": "python",
   "nbconvert_exporter": "python",
   "pygments_lexer": "ipython3",
   "version": "3.7.6"
  }
 },
 "nbformat": 4,
 "nbformat_minor": 2
}
